{
 "cells": [
  {
   "cell_type": "code",
   "execution_count": null,
   "id": "ee2fb8e4",
   "metadata": {},
   "outputs": [],
   "source": [
    "using StatsPlots\n",
    "using Distributions\n",
    "using Turing\n",
    "using StatisticalRethinking\n",
    "\n",
    "default(label=false)"
   ]
  },
  {
   "cell_type": "markdown",
   "id": "29432fbc",
   "metadata": {},
   "source": [
    "# Easy problems"
   ]
  },
  {
   "cell_type": "markdown",
   "id": "fec8776b",
   "metadata": {},
   "source": [
    "# Meduim problems"
   ]
  },
  {
   "cell_type": "markdown",
   "id": "19658805",
   "metadata": {},
   "source": [
    "# Hard problems"
   ]
  },
  {
   "cell_type": "code",
   "execution_count": null,
   "id": "3cd6e8c9",
   "metadata": {},
   "outputs": [],
   "source": []
  }
 ],
 "metadata": {
  "kernelspec": {
   "display_name": "Julia 1.6.2",
   "language": "julia",
   "name": "julia-1.6"
  },
  "language_info": {
   "file_extension": ".jl",
   "mimetype": "application/julia",
   "name": "julia",
   "version": "1.6.2"
  }
 },
 "nbformat": 4,
 "nbformat_minor": 5
}
