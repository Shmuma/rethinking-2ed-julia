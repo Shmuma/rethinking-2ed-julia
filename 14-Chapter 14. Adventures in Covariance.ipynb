{
 "cells": [
  {
   "cell_type": "code",
   "execution_count": 1,
   "id": "256a4604",
   "metadata": {},
   "outputs": [],
   "source": [
    "using Turing\n",
    "using DataFrames\n",
    "using CSV\n",
    "using Random\n",
    "using Distributions\n",
    "using StatisticalRethinking\n",
    "using StatisticalRethinking: link\n",
    "using StatisticalRethinkingPlots\n",
    "using StatsPlots\n",
    "using StatsBase\n",
    "using Logging\n",
    "using LinearAlgebra\n",
    "\n",
    "default(label=false);\n",
    "Logging.disable_logging(Logging.Warn);"
   ]
  },
  {
   "cell_type": "markdown",
   "id": "bbc49770",
   "metadata": {},
   "source": [
    "# 14.1 Varying slopes by construction"
   ]
  },
  {
   "cell_type": "markdown",
   "id": "56dc88ec",
   "metadata": {},
   "source": [
    "Code 14.1"
   ]
  },
  {
   "cell_type": "code",
   "execution_count": 2,
   "id": "31d200da",
   "metadata": {},
   "outputs": [],
   "source": [
    "a = 3.5    # average morning wait time\n",
    "b = -1     # average difference afternoon wait time\n",
    "σ_a = 1    # std dev in intercepts\n",
    "σ_b = 0.5  # std dev in slopes\n",
    "ρ = -0.7;  # correlation between intercepts and slopes"
   ]
  },
  {
   "cell_type": "markdown",
   "id": "9d44f679",
   "metadata": {},
   "source": [
    "Code 14.2"
   ]
  },
  {
   "cell_type": "code",
   "execution_count": 3,
   "id": "c2c1e35c",
   "metadata": {},
   "outputs": [],
   "source": [
    "μ = [a, b];"
   ]
  },
  {
   "cell_type": "markdown",
   "id": "16422d1b",
   "metadata": {},
   "source": [
    "Code 14.3"
   ]
  },
  {
   "cell_type": "code",
   "execution_count": 4,
   "id": "fba2d296",
   "metadata": {},
   "outputs": [
    {
     "data": {
      "text/plain": [
       "2×2 Matrix{Float64}:\n",
       "  1.0   -0.35\n",
       " -0.35   0.25"
      ]
     },
     "execution_count": 4,
     "metadata": {},
     "output_type": "execute_result"
    }
   ],
   "source": [
    "cov_ab = σ_a * σ_b * ρ\n",
    "Σ = [[σ_a^2, cov_ab] [cov_ab, σ_b^2]]"
   ]
  },
  {
   "cell_type": "markdown",
   "id": "1c0aacb2",
   "metadata": {},
   "source": [
    "Code 14.4\n",
    "\n",
    "Julia has similar \"column-first\" matix order"
   ]
  },
  {
   "cell_type": "code",
   "execution_count": 5,
   "id": "950dcdeb",
   "metadata": {},
   "outputs": [
    {
     "data": {
      "text/plain": [
       "2×2 reshape(::UnitRange{Int64}, 2, 2) with eltype Int64:\n",
       " 1  3\n",
       " 2  4"
      ]
     },
     "execution_count": 5,
     "metadata": {},
     "output_type": "execute_result"
    }
   ],
   "source": [
    "reshape(1:4, (2,2))"
   ]
  },
  {
   "cell_type": "markdown",
   "id": "c61058ad",
   "metadata": {},
   "source": [
    "Code 14.5"
   ]
  },
  {
   "cell_type": "code",
   "execution_count": 6,
   "id": "3fff376d",
   "metadata": {},
   "outputs": [],
   "source": [
    "sigmas = [σ_a, σ_b]\n",
    "Ρ = [[1, ρ] [ρ, 1]]\n",
    "Σ = Diagonal(sigmas) * Ρ * Diagonal(sigmas);"
   ]
  },
  {
   "cell_type": "markdown",
   "id": "dd92d42b",
   "metadata": {},
   "source": [
    "Code 14.6"
   ]
  },
  {
   "cell_type": "code",
   "execution_count": 7,
   "id": "fc105a4b",
   "metadata": {},
   "outputs": [],
   "source": [
    "N_cafes = 20;"
   ]
  },
  {
   "cell_type": "markdown",
   "id": "7bc69401",
   "metadata": {},
   "source": [
    "Code 14.7"
   ]
  },
  {
   "cell_type": "code",
   "execution_count": 8,
   "id": "37350755",
   "metadata": {},
   "outputs": [],
   "source": [
    "Random.seed!(5)\n",
    "vary_effect = rand(MvNormal(μ, Σ), N_cafes);"
   ]
  },
  {
   "cell_type": "markdown",
   "id": "be6ff43f",
   "metadata": {},
   "source": [
    "Code 14.8"
   ]
  },
  {
   "cell_type": "code",
   "execution_count": 9,
   "id": "4635611c",
   "metadata": {},
   "outputs": [],
   "source": [
    "a_cafe = vary_effect[1,:]\n",
    "b_cafe = vary_effect[2,:];"
   ]
  },
  {
   "cell_type": "markdown",
   "id": "b1f7c6fb",
   "metadata": {},
   "source": [
    "Code 14.9"
   ]
  },
  {
   "cell_type": "code",
   "execution_count": null,
   "id": "6f3cba4c",
   "metadata": {},
   "outputs": [],
   "source": [
    "p = scatter(a_cafe, b_cafe, xlab=\"intercepts (a_cafe)\", ylab=\"slopes (b_cafe)\")\n",
    "\n",
    "d = acos(Σ[1,2])\n",
    "chi = Chisq(2)\n",
    "\n",
    "for l ∈ (0.1, 0.3, 0.5, 0.8, 0.99)\n",
    "    scale = sqrt(quantile(chi, l))\n",
    "    xₜ(t) = scale*Σ[1,1]*cos(t + d/2) + μ[1]\n",
    "    yₜ(t) = scale*Σ[2,2]*cos(t - d/2) + μ[2]\n",
    "\n",
    "    plot!(xₜ, yₜ, 0, 2π, c=:black, alpha=0.3)\n",
    "end\n",
    "p"
   ]
  },
  {
   "cell_type": "code",
   "execution_count": null,
   "id": "8b2ec8fe",
   "metadata": {},
   "outputs": [],
   "source": []
  }
 ],
 "metadata": {
  "kernelspec": {
   "display_name": "Julia 1.6.4",
   "language": "julia",
   "name": "julia-1.6"
  },
  "language_info": {
   "file_extension": ".jl",
   "mimetype": "application/julia",
   "name": "julia",
   "version": "1.6.4"
  }
 },
 "nbformat": 4,
 "nbformat_minor": 5
}
