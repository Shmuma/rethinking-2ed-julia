{
 "cells": [
  {
   "cell_type": "code",
   "execution_count": 1,
   "id": "d2dd8f3e",
   "metadata": {},
   "outputs": [],
   "source": [
    "using Turing\n",
    "using DataFrames\n",
    "using CSV\n",
    "using Random\n",
    "using Distributions\n",
    "using StatisticalRethinking\n",
    "using StatisticalRethinking: link\n",
    "using StatisticalRethinkingPlots\n",
    "using StatsPlots\n",
    "using StatsBase\n",
    "using Logging\n",
    "\n",
    "default(label=false);\n",
    "Logging.disable_logging(Logging.Warn);"
   ]
  },
  {
   "cell_type": "markdown",
   "id": "6094b07b",
   "metadata": {},
   "source": [
    "# 14.1 Varying slopes by construction"
   ]
  },
  {
   "cell_type": "code",
   "execution_count": null,
   "id": "8cb89761",
   "metadata": {},
   "outputs": [],
   "source": []
  }
 ],
 "metadata": {
  "kernelspec": {
   "display_name": "Julia 1.6.4",
   "language": "julia",
   "name": "julia-1.6"
  },
  "language_info": {
   "file_extension": ".jl",
   "mimetype": "application/julia",
   "name": "julia",
   "version": "1.6.4"
  }
 },
 "nbformat": 4,
 "nbformat_minor": 5
}
