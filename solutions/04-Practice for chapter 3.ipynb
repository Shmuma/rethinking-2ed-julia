{
 "cells": [
  {
   "cell_type": "code",
   "execution_count": 56,
   "id": "c0951109",
   "metadata": {},
   "outputs": [],
   "source": [
    "using Distributions\n",
    "using StatsPlots\n",
    "using StatsBase\n",
    "\n",
    "using StatRethink"
   ]
  },
  {
   "cell_type": "markdown",
   "id": "136dfa9f",
   "metadata": {
    "heading_collapsed": true
   },
   "source": [
    "# Easy problems"
   ]
  },
  {
   "cell_type": "markdown",
   "id": "90f9fb90",
   "metadata": {
    "hidden": true
   },
   "source": [
    "Code 3.27"
   ]
  },
  {
   "cell_type": "code",
   "execution_count": 82,
   "id": "66eda9b5",
   "metadata": {
    "hidden": true
   },
   "outputs": [],
   "source": [
    "size = 1000\n",
    "p_grid = range(0, 1; length=size)\n",
    "prob_p = repeat([1.0], size);\n",
    "prob_data = [pdf(Binomial(9, p), 6) for p in p_grid];\n",
    "posterior = prob_data .* prob_p\n",
    "posterior /= sum(posterior);\n",
    "cat = Categorical(posterior)\n",
    "samples = p_grid[rand(cat, 10000)];"
   ]
  },
  {
   "cell_type": "markdown",
   "id": "58f5f966",
   "metadata": {
    "hidden": true
   },
   "source": [
    "Solutions"
   ]
  },
  {
   "cell_type": "code",
   "execution_count": 98,
   "id": "546796e8",
   "metadata": {
    "hidden": true
   },
   "outputs": [
    {
     "name": "stdout",
     "output_type": "stream",
     "text": [
      "3E1: 0.000856095129421848\n",
      "3E2: 0.12034491402214352\n",
      "3E3: 0.8787989908484344\n",
      "3E4: 0.5165165165165165\n",
      "3E5: 0.7607607607607607\n",
      "3E6: [0.5235235235235235, 0.7947947947947948]\n",
      "3E7: [0.4984984984984985, 0.7747747747747747]\n"
     ]
    }
   ],
   "source": [
    "println(\"3E1: \", sum(posterior[p_grid .< 0.2]))\n",
    "println(\"3E2: \", sum(posterior[p_grid .> 0.8]))\n",
    "println(\"3E3: \", sum(posterior[0.2 .< p_grid .< 0.8]))\n",
    "\n",
    "c = cumsum(posterior);\n",
    "println(\"3E4: \", p_grid[findfirst(c .> 0.2)])\n",
    "println(\"3E5: \", p_grid[findfirst(c .> 0.8)])\n",
    "println(\"3E6: \", hpdi(samples, alpha=0.34))\n",
    "b = [p_grid[findfirst(c .> 0.34/2)], p_grid[findfirst(c .> 0.34/2 + 0.66)]]\n",
    "println(\"3E7: \", b)"
   ]
  },
  {
   "cell_type": "markdown",
   "id": "0ebd5847",
   "metadata": {},
   "source": [
    "# Medium problems"
   ]
  },
  {
   "cell_type": "code",
   "execution_count": null,
   "id": "c8aa954f",
   "metadata": {},
   "outputs": [],
   "source": []
  },
  {
   "cell_type": "code",
   "execution_count": null,
   "id": "e5a562fe",
   "metadata": {},
   "outputs": [],
   "source": []
  },
  {
   "cell_type": "code",
   "execution_count": null,
   "id": "f6ce4b33",
   "metadata": {},
   "outputs": [],
   "source": []
  },
  {
   "cell_type": "code",
   "execution_count": null,
   "id": "6b14cd85",
   "metadata": {},
   "outputs": [],
   "source": []
  },
  {
   "cell_type": "code",
   "execution_count": null,
   "id": "28b0844d",
   "metadata": {},
   "outputs": [],
   "source": []
  },
  {
   "cell_type": "markdown",
   "id": "56798293",
   "metadata": {
    "heading_collapsed": true
   },
   "source": [
    "# Hard problems"
   ]
  },
  {
   "cell_type": "markdown",
   "id": "23ce975b",
   "metadata": {
    "hidden": true
   },
   "source": [
    "Code 3.28"
   ]
  },
  {
   "cell_type": "code",
   "execution_count": 11,
   "id": "4069c93b",
   "metadata": {
    "hidden": true
   },
   "outputs": [],
   "source": [
    "birth1 = [1,0,0,0,1,1,0,1,0,1,0,0,1,1,0,1,1,0,0,0,1,0,0,0,1,0,\n",
    "0,0,0,1,1,1,0,1,0,1,1,1,0,1,0,1,1,0,1,0,0,1,1,0,1,0,0,0,0,0,0,0,\n",
    "1,1,0,1,0,0,1,0,0,0,1,0,0,1,1,1,1,0,1,0,1,1,1,1,1,0,0,1,0,1,1,0,\n",
    "1,0,1,1,1,0,1,1,1,1]\n",
    "\n",
    "birth2 = [0,1,0,1,0,1,1,1,0,0,1,1,1,1,1,0,0,1,1,1,0,0,1,1,1,0,\n",
    "1,1,1,0,1,1,1,0,1,0,0,1,1,1,1,0,0,1,0,1,1,1,1,1,1,1,1,1,1,1,1,1,\n",
    "1,1,1,0,1,1,0,1,1,0,1,1,1,0,0,0,0,0,0,1,0,0,0,1,1,0,0,1,0,0,1,1,\n",
    "0,0,0,1,1,1,0,0,0,0];"
   ]
  },
  {
   "cell_type": "markdown",
   "id": "7aa9dc0a",
   "metadata": {
    "hidden": true
   },
   "source": [
    "Code 3.30"
   ]
  },
  {
   "cell_type": "code",
   "execution_count": 12,
   "id": "14b986a8",
   "metadata": {
    "hidden": true
   },
   "outputs": [
    {
     "data": {
      "text/plain": [
       "111"
      ]
     },
     "execution_count": 12,
     "metadata": {},
     "output_type": "execute_result"
    }
   ],
   "source": [
    "sum(birth1) + sum(birth2)"
   ]
  },
  {
   "cell_type": "code",
   "execution_count": null,
   "id": "10bf768c",
   "metadata": {
    "hidden": true
   },
   "outputs": [],
   "source": []
  }
 ],
 "metadata": {
  "kernelspec": {
   "display_name": "Julia 1.5.3",
   "language": "julia",
   "name": "julia-1.5"
  },
  "language_info": {
   "file_extension": ".jl",
   "mimetype": "application/julia",
   "name": "julia",
   "version": "1.5.3"
  }
 },
 "nbformat": 4,
 "nbformat_minor": 5
}
