{
 "cells": [
  {
   "cell_type": "markdown",
   "id": "7d0b6168",
   "metadata": {},
   "source": [
    "# Easy"
   ]
  },
  {
   "cell_type": "markdown",
   "id": "20ad4d86",
   "metadata": {},
   "source": [
    "## 7E2"
   ]
  },
  {
   "cell_type": "code",
   "execution_count": 4,
   "id": "788b10b2",
   "metadata": {},
   "outputs": [
    {
     "data": {
      "text/plain": [
       "0.6108643020548935"
      ]
     },
     "execution_count": 4,
     "metadata": {},
     "output_type": "execute_result"
    }
   ],
   "source": [
    "-(0.7*log(0.7) + 0.3*log(0.3))"
   ]
  },
  {
   "cell_type": "markdown",
   "id": "a73c0e19",
   "metadata": {},
   "source": [
    "## 7E3"
   ]
  },
  {
   "cell_type": "code",
   "execution_count": 6,
   "id": "9a9fdb90",
   "metadata": {},
   "outputs": [
    {
     "data": {
      "text/plain": [
       "1.3762266043445461"
      ]
     },
     "execution_count": 6,
     "metadata": {},
     "output_type": "execute_result"
    }
   ],
   "source": [
    "p = [0.2, 0.25, 0.25, 0.3]\n",
    "\n",
    "-sum(p .* log.(p))"
   ]
  },
  {
   "cell_type": "markdown",
   "id": "f0593e87",
   "metadata": {},
   "source": [
    "## 7E4"
   ]
  },
  {
   "cell_type": "code",
   "execution_count": 8,
   "id": "44cb4ae2",
   "metadata": {},
   "outputs": [
    {
     "data": {
      "text/plain": [
       "1.0986122886681096"
      ]
     },
     "execution_count": 8,
     "metadata": {},
     "output_type": "execute_result"
    }
   ],
   "source": [
    "# Get the last outcome away\n",
    "p = [1/3, 1/3, 1/3]\n",
    "-sum(p .* log.(p))"
   ]
  },
  {
   "cell_type": "code",
   "execution_count": null,
   "id": "19941669",
   "metadata": {},
   "outputs": [],
   "source": []
  }
 ],
 "metadata": {
  "kernelspec": {
   "display_name": "Julia 1.6.2",
   "language": "julia",
   "name": "julia-1.6"
  },
  "language_info": {
   "file_extension": ".jl",
   "mimetype": "application/julia",
   "name": "julia",
   "version": "1.6.2"
  }
 },
 "nbformat": 4,
 "nbformat_minor": 5
}
