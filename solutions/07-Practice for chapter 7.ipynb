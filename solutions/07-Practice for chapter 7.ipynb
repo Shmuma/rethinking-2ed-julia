{
 "cells": [
  {
   "cell_type": "markdown",
   "id": "16397681",
   "metadata": {},
   "source": [
    "# Easy"
   ]
  },
  {
   "cell_type": "markdown",
   "id": "059cb46c",
   "metadata": {},
   "source": [
    "## 7E2"
   ]
  },
  {
   "cell_type": "code",
   "execution_count": 4,
   "id": "3e81ac3e",
   "metadata": {},
   "outputs": [
    {
     "data": {
      "text/plain": [
       "0.6108643020548935"
      ]
     },
     "execution_count": 4,
     "metadata": {},
     "output_type": "execute_result"
    }
   ],
   "source": [
    "-(0.7*log(0.7) + 0.3*log(0.3))"
   ]
  },
  {
   "cell_type": "markdown",
   "id": "6f6af11f",
   "metadata": {},
   "source": [
    "## 7E3"
   ]
  },
  {
   "cell_type": "code",
   "execution_count": 6,
   "id": "a0d7027c",
   "metadata": {},
   "outputs": [
    {
     "data": {
      "text/plain": [
       "1.3762266043445461"
      ]
     },
     "execution_count": 6,
     "metadata": {},
     "output_type": "execute_result"
    }
   ],
   "source": [
    "p = [0.2, 0.25, 0.25, 0.3]\n",
    "\n",
    "-sum(p .* log.(p))"
   ]
  },
  {
   "cell_type": "markdown",
   "id": "113a378a",
   "metadata": {},
   "source": [
    "## 7E4"
   ]
  },
  {
   "cell_type": "code",
   "execution_count": 8,
   "id": "e1f641a3",
   "metadata": {},
   "outputs": [
    {
     "data": {
      "text/plain": [
       "1.0986122886681096"
      ]
     },
     "execution_count": 8,
     "metadata": {},
     "output_type": "execute_result"
    }
   ],
   "source": [
    "# Get the last outcome away\n",
    "p = [1/3, 1/3, 1/3]\n",
    "-sum(p .* log.(p))"
   ]
  },
  {
   "cell_type": "markdown",
   "id": "a3e31947",
   "metadata": {},
   "source": [
    "# Hard"
   ]
  },
  {
   "cell_type": "markdown",
   "id": "39013f1e",
   "metadata": {},
   "source": []
  }
 ],
 "metadata": {
  "kernelspec": {
   "display_name": "Julia 1.6.2",
   "language": "julia",
   "name": "julia-1.6"
  },
  "language_info": {
   "file_extension": ".jl",
   "mimetype": "application/julia",
   "name": "julia",
   "version": "1.6.2"
  }
 },
 "nbformat": 4,
 "nbformat_minor": 5
}
