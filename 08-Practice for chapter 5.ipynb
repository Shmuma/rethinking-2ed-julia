{
 "cells": [
  {
   "cell_type": "code",
   "execution_count": 3,
   "id": "0a8891ed",
   "metadata": {},
   "outputs": [],
   "source": [
    "using StatsBase\n",
    "using Dagitty\n",
    "using Turing\n",
    "using StatsPlots\n",
    "using StatisticalRethinking\n",
    "using Logging\n",
    "\n",
    "default(labels=false)\n",
    "Logging.disable_logging(Logging.Warn);"
   ]
  },
  {
   "cell_type": "markdown",
   "id": "d1224586",
   "metadata": {},
   "source": [
    "# Easy problems"
   ]
  },
  {
   "cell_type": "code",
   "execution_count": null,
   "id": "2f84c46c",
   "metadata": {},
   "outputs": [],
   "source": []
  },
  {
   "cell_type": "markdown",
   "id": "8dc7780f",
   "metadata": {},
   "source": [
    "# Medium problems"
   ]
  },
  {
   "cell_type": "code",
   "execution_count": null,
   "id": "488ba148",
   "metadata": {},
   "outputs": [],
   "source": []
  },
  {
   "cell_type": "markdown",
   "id": "eb007e93",
   "metadata": {},
   "source": [
    "# Hard problems"
   ]
  },
  {
   "cell_type": "code",
   "execution_count": null,
   "id": "175a85a0",
   "metadata": {},
   "outputs": [],
   "source": []
  }
 ],
 "metadata": {
  "kernelspec": {
   "display_name": "Julia 1.6.2",
   "language": "julia",
   "name": "julia-1.6"
  },
  "language_info": {
   "file_extension": ".jl",
   "mimetype": "application/julia",
   "name": "julia",
   "version": "1.6.2"
  }
 },
 "nbformat": 4,
 "nbformat_minor": 5
}
