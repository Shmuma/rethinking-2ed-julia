{
 "cells": [
  {
   "cell_type": "code",
   "execution_count": null,
   "id": "7cfcb12f",
   "metadata": {},
   "outputs": [],
   "source": [
    "using Turing\n",
    "using DataFrames\n",
    "using CSV\n",
    "using Random\n",
    "using Distributions\n",
    "using StatisticalRethinking\n",
    "using StatisticalRethinking: link\n",
    "using StatisticalRethinkingPlots\n",
    "using ParetoSmooth\n",
    "using StatsPlots\n",
    "using StatsBase\n",
    "using FreqTables\n",
    "using Logging\n",
    "\n",
    "default(label=false);\n",
    "#Logging.disable_logging(Logging.Warn);"
   ]
  }
 ],
 "metadata": {
  "kernelspec": {
   "display_name": "Julia 1.6.4",
   "language": "julia",
   "name": "julia-1.6"
  },
  "language_info": {
   "file_extension": ".jl",
   "mimetype": "application/julia",
   "name": "julia",
   "version": "1.6.4"
  }
 },
 "nbformat": 4,
 "nbformat_minor": 5
}
