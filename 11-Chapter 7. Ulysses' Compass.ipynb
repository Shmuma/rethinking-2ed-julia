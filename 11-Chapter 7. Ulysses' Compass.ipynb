{
 "cells": [
  {
   "cell_type": "code",
   "execution_count": 2,
   "id": "7642f66f",
   "metadata": {},
   "outputs": [],
   "source": [
    "using GLM\n",
    "using StatsBase\n",
    "using DataFrames\n",
    "using Dagitty\n",
    "using Turing\n",
    "using StatsPlots\n",
    "using StatisticalRethinking\n",
    "using Logging\n",
    "\n",
    "default(labels=false)\n",
    "Logging.disable_logging(Logging.Warn);"
   ]
  },
  {
   "cell_type": "markdown",
   "id": "73df1d87",
   "metadata": {},
   "source": [
    "# 7.1 The problem with parameters"
   ]
  },
  {
   "cell_type": "markdown",
   "id": "e71b51b5",
   "metadata": {},
   "source": [
    "Code 7.1"
   ]
  },
  {
   "cell_type": "code",
   "execution_count": 3,
   "id": "0656c570",
   "metadata": {},
   "outputs": [],
   "source": [
    "sppnames = [\"afarensis\", \"africanus\", \"habilis\", \"boisei\", \"rudolfensis\", \"ergaster\", \"sapiens\"]\n",
    "brainvolcc = [438, 452, 612, 521, 752, 871, 1350]\n",
    "masskg = [37.0, 35.5, 34.5, 41.5, 55.5, 61.0, 53.5]\n",
    "d = DataFrame(:species => sppnames, :brain => brainvolcc, :mass => masskg);"
   ]
  },
  {
   "cell_type": "markdown",
   "id": "eaa5b386",
   "metadata": {},
   "source": [
    "Code 7.2"
   ]
  },
  {
   "cell_type": "code",
   "execution_count": 12,
   "id": "32bfc18b",
   "metadata": {},
   "outputs": [],
   "source": [
    "d[!,:mass_std] = (d.mass .- mean(d.mass))./std(d.mass)\n",
    "d[!,:brain_std] = d.brain ./ maximum(d.brain);"
   ]
  },
  {
   "cell_type": "markdown",
   "id": "8badca59",
   "metadata": {},
   "source": [
    "Code 7.3"
   ]
  },
  {
   "cell_type": "code",
   "execution_count": 14,
   "id": "6ea7aee3",
   "metadata": {},
   "outputs": [
    {
     "name": "stdout",
     "output_type": "stream",
     "text": [
      "┌───────┬────────────────────────────────────────────────────────┐\n",
      "│\u001b[1m param \u001b[0m│\u001b[1m    mean \u001b[0m\u001b[1m    std \u001b[0m\u001b[1m    5.5% \u001b[0m\u001b[1m     50% \u001b[0m\u001b[1m  94.5% \u001b[0m\u001b[1m   histogram \u001b[0m│\n",
      "├───────┼────────────────────────────────────────────────────────┤\n",
      "│     a │  0.5259  0.1093    0.344    0.524  0.6854  ▁▁▁▂▆█▄▁▁▁▁ │\n",
      "│     b │  0.1652   0.121   0.0045   0.1653  0.3346     ▁▁▁▁█▅▁▁ │\n",
      "│ log_σ │ -1.3829  0.3567  -1.8915  -1.4062  -0.791       ▁▆█▂▁▁ │\n",
      "└───────┴────────────────────────────────────────────────────────┘\n"
     ]
    }
   ],
   "source": [
    "@model function model_m7_1(mass_std, brain_std)\n",
    "    a ~ Normal(0.5, 1)\n",
    "    b ~ Normal(0, 10)\n",
    "    μ = @. a + b*mass_std\n",
    "    log_σ ~ Normal()\n",
    "    brain_std ~ MvNormal(μ, exp(log_σ))\n",
    "end\n",
    "\n",
    "m7_1_ch = sample(model_m7_1(d.mass_std, d.brain_std), NUTS(), 1000)\n",
    "m7_1 = DataFrame(m7_1_ch)\n",
    "precis(m7_1)"
   ]
  },
  {
   "cell_type": "code",
   "execution_count": null,
   "id": "a1f9073a",
   "metadata": {},
   "outputs": [],
   "source": []
  }
 ],
 "metadata": {
  "kernelspec": {
   "display_name": "Julia 1.6.2",
   "language": "julia",
   "name": "julia-1.6"
  },
  "language_info": {
   "file_extension": ".jl",
   "mimetype": "application/julia",
   "name": "julia",
   "version": "1.6.2"
  }
 },
 "nbformat": 4,
 "nbformat_minor": 5
}
