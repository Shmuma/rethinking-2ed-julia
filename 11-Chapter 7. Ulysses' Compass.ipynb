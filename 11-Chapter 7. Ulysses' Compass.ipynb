{
 "cells": [
  {
   "cell_type": "code",
   "execution_count": 2,
   "id": "12145579",
   "metadata": {},
   "outputs": [],
   "source": [
    "using GLM\n",
    "using StatsBase\n",
    "using DataFrames\n",
    "using Dagitty\n",
    "using Turing\n",
    "using StatsPlots\n",
    "using StatisticalRethinking\n",
    "using Logging\n",
    "\n",
    "default(labels=false)\n",
    "Logging.disable_logging(Logging.Warn);"
   ]
  },
  {
   "cell_type": "markdown",
   "id": "f65f5657",
   "metadata": {},
   "source": [
    "# 7.1 The problem with parameters"
   ]
  },
  {
   "cell_type": "markdown",
   "id": "1280c40a",
   "metadata": {},
   "source": [
    "Code 7.1"
   ]
  },
  {
   "cell_type": "code",
   "execution_count": 3,
   "id": "858b66df",
   "metadata": {},
   "outputs": [],
   "source": [
    "sppnames = [\"afarensis\", \"africanus\", \"habilis\", \"boisei\", \"rudolfensis\", \"ergaster\", \"sapiens\"]\n",
    "brainvolcc = [438, 452, 612, 521, 752, 871, 1350]\n",
    "masskg = [37.0, 35.5, 34.5, 41.5, 55.5, 61.0, 53.5]\n",
    "d = DataFrame(:species => sppnames, :brain => brainvolcc, :mass => masskg);"
   ]
  },
  {
   "cell_type": "markdown",
   "id": "0966fdc4",
   "metadata": {},
   "source": [
    "Code 7.2"
   ]
  },
  {
   "cell_type": "code",
   "execution_count": 12,
   "id": "4c6f0612",
   "metadata": {},
   "outputs": [],
   "source": [
    "d[!,:mass_std] = (d.mass .- mean(d.mass))./std(d.mass)\n",
    "d[!,:brain_std] = d.brain ./ maximum(d.brain);"
   ]
  },
  {
   "cell_type": "markdown",
   "id": "2dbe4903",
   "metadata": {},
   "source": [
    "Code 7.3"
   ]
  },
  {
   "cell_type": "code",
   "execution_count": 14,
   "id": "00e71bb3",
   "metadata": {},
   "outputs": [
    {
     "name": "stdout",
     "output_type": "stream",
     "text": [
      "┌───────┬────────────────────────────────────────────────────────┐\n",
      "│\u001b[1m param \u001b[0m│\u001b[1m    mean \u001b[0m\u001b[1m    std \u001b[0m\u001b[1m    5.5% \u001b[0m\u001b[1m     50% \u001b[0m\u001b[1m  94.5% \u001b[0m\u001b[1m   histogram \u001b[0m│\n",
      "├───────┼────────────────────────────────────────────────────────┤\n",
      "│     a │  0.5259  0.1093    0.344    0.524  0.6854  ▁▁▁▂▆█▄▁▁▁▁ │\n",
      "│     b │  0.1652   0.121   0.0045   0.1653  0.3346     ▁▁▁▁█▅▁▁ │\n",
      "│ log_σ │ -1.3829  0.3567  -1.8915  -1.4062  -0.791       ▁▆█▂▁▁ │\n",
      "└───────┴────────────────────────────────────────────────────────┘\n"
     ]
    }
   ],
   "source": [
    "@model function model_m7_1(mass_std, brain_std)\n",
    "    a ~ Normal(0.5, 1)\n",
    "    b ~ Normal(0, 10)\n",
    "    μ = @. a + b*mass_std\n",
    "    log_σ ~ Normal()\n",
    "    brain_std ~ MvNormal(μ, exp(log_σ))\n",
    "end\n",
    "\n",
    "m7_1_ch = sample(model_m7_1(d.mass_std, d.brain_std), NUTS(), 1000)\n",
    "m7_1 = DataFrame(m7_1_ch)\n",
    "precis(m7_1)"
   ]
  },
  {
   "cell_type": "markdown",
   "id": "434e7fc9",
   "metadata": {},
   "source": [
    "Code 7.4"
   ]
  },
  {
   "cell_type": "code",
   "execution_count": 17,
   "id": "eae21b28",
   "metadata": {},
   "outputs": [
    {
     "data": {
      "text/plain": [
       "LinearModel{GLM.LmResp{Vector{Float64}}, GLM.DensePredChol{Float64, CholeskyPivoted{Float64, Matrix{Float64}}}}:\n",
       "\n",
       "Coefficients:\n",
       "───────────────────────────────────────────────────────────────\n",
       "       Coef.  Std. Error     t  Pr(>|t|)   Lower 95%  Upper 95%\n",
       "───────────────────────────────────────────────────────────────\n",
       "x1  0.528677   0.0705692  7.49    0.0007   0.347273    0.710081\n",
       "x2  0.167118   0.0762235  2.19    0.0798  -0.0288204   0.363057\n",
       "───────────────────────────────────────────────────────────────\n"
      ]
     },
     "execution_count": 17,
     "metadata": {},
     "output_type": "execute_result"
    }
   ],
   "source": [
    "X = hcat(ones(length(d.mass_std)), d.mass_std)\n",
    "m = lm(X, d.brain_std)"
   ]
  },
  {
   "cell_type": "code",
   "execution_count": null,
   "id": "e5924efe",
   "metadata": {},
   "outputs": [],
   "source": []
  }
 ],
 "metadata": {
  "kernelspec": {
   "display_name": "Julia 1.6.2",
   "language": "julia",
   "name": "julia-1.6"
  },
  "language_info": {
   "file_extension": ".jl",
   "mimetype": "application/julia",
   "name": "julia",
   "version": "1.6.2"
  }
 },
 "nbformat": 4,
 "nbformat_minor": 5
}
