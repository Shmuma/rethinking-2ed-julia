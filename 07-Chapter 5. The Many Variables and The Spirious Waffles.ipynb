{
 "cells": [
  {
   "cell_type": "code",
   "execution_count": 3,
   "id": "01feb449",
   "metadata": {},
   "outputs": [],
   "source": [
    "using CSV\n",
    "using DataFrames\n",
    "using Turing\n",
    "using StatisticalRethinking\n",
    "using StatsBase\n",
    "using StatsPlots"
   ]
  },
  {
   "cell_type": "markdown",
   "id": "f2d24aa9",
   "metadata": {},
   "source": [
    "# 5.1 Spurious association"
   ]
  },
  {
   "cell_type": "markdown",
   "id": "757104ce",
   "metadata": {},
   "source": [
    "Code 5.1"
   ]
  },
  {
   "cell_type": "code",
   "execution_count": 4,
   "id": "51ee84f4",
   "metadata": {},
   "outputs": [],
   "source": [
    "d = DataFrame(CSV.File(\"data/WaffleDivorce.csv\"))\n",
    "d[!,:D] = standardize(ZScoreTransform, d.Divorce)\n",
    "d[!,:M] = standardize(ZScoreTransform, d.Marriage)\n",
    "d[!,:A] = standardize(ZScoreTransform, d.MedianAgeMarriage);"
   ]
  },
  {
   "cell_type": "markdown",
   "id": "99180c1b",
   "metadata": {},
   "source": [
    "Code 5.2"
   ]
  },
  {
   "cell_type": "code",
   "execution_count": 6,
   "id": "12a775e6",
   "metadata": {},
   "outputs": [
    {
     "data": {
      "text/plain": [
       "1.2436303013880823"
      ]
     },
     "execution_count": 6,
     "metadata": {},
     "output_type": "execute_result"
    }
   ],
   "source": [
    "std(d.MedianAgeMarriage)"
   ]
  },
  {
   "cell_type": "markdown",
   "id": "a040302b",
   "metadata": {},
   "source": [
    "Code 5.3"
   ]
  },
  {
   "cell_type": "code",
   "execution_count": 7,
   "id": "d2f8b9c5",
   "metadata": {},
   "outputs": [
    {
     "name": "stderr",
     "output_type": "stream",
     "text": [
      "┌ Info: Found initial step size\n",
      "│   ϵ = 0.4\n",
      "└ @ Turing.Inference /home/shmuma/.julia/packages/Turing/gwWVN/src/inference/hmc.jl:188\n",
      "\u001b[32mSampling: 100%|█████████████████████████████████████████| Time: 0:00:00\u001b[39m\n"
     ]
    },
    {
     "data": {
      "text/plain": [
       "Chains MCMC chain (1000×15×1 Array{Float64, 3}):\n",
       "\n",
       "Iterations        = 501:1:1500\n",
       "Number of chains  = 1\n",
       "Samples per chain = 1000\n",
       "Wall duration     = 10.19 seconds\n",
       "Compute duration  = 10.19 seconds\n",
       "parameters        = a, σ, bA\n",
       "internals         = lp, n_steps, is_accept, acceptance_rate, log_density, hamiltonian_energy, hamiltonian_energy_error, max_hamiltonian_energy_error, tree_depth, numerical_error, step_size, nom_step_size\n",
       "\n",
       "Summary Statistics\n",
       " \u001b[1m parameters \u001b[0m \u001b[1m    mean \u001b[0m \u001b[1m     std \u001b[0m \u001b[1m naive_se \u001b[0m \u001b[1m    mcse \u001b[0m \u001b[1m       ess \u001b[0m \u001b[1m    rhat \u001b[0m \u001b[1m \u001b[0m ⋯\n",
       " \u001b[90m     Symbol \u001b[0m \u001b[90m Float64 \u001b[0m \u001b[90m Float64 \u001b[0m \u001b[90m  Float64 \u001b[0m \u001b[90m Float64 \u001b[0m \u001b[90m   Float64 \u001b[0m \u001b[90m Float64 \u001b[0m \u001b[90m \u001b[0m ⋯\n",
       "\n",
       "           σ    0.8247    0.0847     0.0027    0.0017   1467.4292    1.0004    ⋯\n",
       "           a   -0.0062    0.1005     0.0032    0.0025   1230.7540    1.0010    ⋯\n",
       "          bA   -0.5634    0.1140     0.0036    0.0045    843.7184    0.9992    ⋯\n",
       "\u001b[36m                                                                1 column omitted\u001b[0m\n",
       "\n",
       "Quantiles\n",
       " \u001b[1m parameters \u001b[0m \u001b[1m    2.5% \u001b[0m \u001b[1m   25.0% \u001b[0m \u001b[1m   50.0% \u001b[0m \u001b[1m   75.0% \u001b[0m \u001b[1m   97.5% \u001b[0m\n",
       " \u001b[90m     Symbol \u001b[0m \u001b[90m Float64 \u001b[0m \u001b[90m Float64 \u001b[0m \u001b[90m Float64 \u001b[0m \u001b[90m Float64 \u001b[0m \u001b[90m Float64 \u001b[0m\n",
       "\n",
       "           σ    0.6751    0.7670    0.8208    0.8766    1.0096\n",
       "           a   -0.2106   -0.0654   -0.0041    0.0581    0.1902\n",
       "          bA   -0.7833   -0.6370   -0.5603   -0.4936   -0.3417\n"
      ]
     },
     "execution_count": 7,
     "metadata": {},
     "output_type": "execute_result"
    }
   ],
   "source": [
    "@model function model_m5_1(age, divorce)\n",
    "    σ ~ Exponential(1)\n",
    "    a ~ Normal(0, 0.2)\n",
    "    bA ~ Normal(0, 0.5)\n",
    "    μ = a .+ bA .* age\n",
    "    divorce ~ MvNormal(μ, σ)\n",
    "end\n",
    "\n",
    "m5_1 = sample(model_m5_1(d.A, d.D), NUTS(), 1000)"
   ]
  },
  {
   "cell_type": "code",
   "execution_count": null,
   "id": "2f9f474b",
   "metadata": {},
   "outputs": [],
   "source": []
  }
 ],
 "metadata": {
  "kernelspec": {
   "display_name": "Julia 1.6.2",
   "language": "julia",
   "name": "julia-1.6"
  },
  "language_info": {
   "file_extension": ".jl",
   "mimetype": "application/julia",
   "name": "julia",
   "version": "1.6.2"
  }
 },
 "nbformat": 4,
 "nbformat_minor": 5
}
