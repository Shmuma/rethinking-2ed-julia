{
 "cells": [
  {
   "cell_type": "markdown",
   "id": "be5ad8ee",
   "metadata": {},
   "source": [
    "There is a template for the chapter's practice. You can find my (maybe wrong) \n",
    "solution in `solutions/` folder, but remember it will be more fun to try to solve them yourself."
   ]
  },
  {
   "cell_type": "code",
   "execution_count": 1,
   "id": "c0951109",
   "metadata": {},
   "outputs": [],
   "source": [
    "using Distributions\n",
    "using StatsPlots\n",
    "using StatsBase"
   ]
  },
  {
   "cell_type": "markdown",
   "id": "90f9fb90",
   "metadata": {},
   "source": [
    "Code 3.27"
   ]
  },
  {
   "cell_type": "code",
   "execution_count": 10,
   "id": "66eda9b5",
   "metadata": {},
   "outputs": [],
   "source": [
    "size = 1000\n",
    "p_grid = range(0, 1; length=size)\n",
    "prob_p = repeat([1.0], size);\n",
    "prob_data = [pdf(Binomial(9, p), 6) for p in p_grid];\n",
    "posterior = prob_data .* prob_p\n",
    "posterior /= sum(posterior);\n",
    "cat = Categorical(posterior)\n",
    "samples = p_grid[rand(cat, 10000)];"
   ]
  },
  {
   "cell_type": "code",
   "execution_count": null,
   "id": "546796e8",
   "metadata": {},
   "outputs": [],
   "source": []
  },
  {
   "cell_type": "markdown",
   "id": "23ce975b",
   "metadata": {},
   "source": [
    "Code 3.28"
   ]
  },
  {
   "cell_type": "code",
   "execution_count": 11,
   "id": "4069c93b",
   "metadata": {},
   "outputs": [],
   "source": [
    "birth1 = [1,0,0,0,1,1,0,1,0,1,0,0,1,1,0,1,1,0,0,0,1,0,0,0,1,0,\n",
    "0,0,0,1,1,1,0,1,0,1,1,1,0,1,0,1,1,0,1,0,0,1,1,0,1,0,0,0,0,0,0,0,\n",
    "1,1,0,1,0,0,1,0,0,0,1,0,0,1,1,1,1,0,1,0,1,1,1,1,1,0,0,1,0,1,1,0,\n",
    "1,0,1,1,1,0,1,1,1,1]\n",
    "\n",
    "birth2 = [0,1,0,1,0,1,1,1,0,0,1,1,1,1,1,0,0,1,1,1,0,0,1,1,1,0,\n",
    "1,1,1,0,1,1,1,0,1,0,0,1,1,1,1,0,0,1,0,1,1,1,1,1,1,1,1,1,1,1,1,1,\n",
    "1,1,1,0,1,1,0,1,1,0,1,1,1,0,0,0,0,0,0,1,0,0,0,1,1,0,0,1,0,0,1,1,\n",
    "0,0,0,1,1,1,0,0,0,0];"
   ]
  },
  {
   "cell_type": "markdown",
   "id": "7aa9dc0a",
   "metadata": {},
   "source": [
    "Code 3.30"
   ]
  },
  {
   "cell_type": "code",
   "execution_count": 12,
   "id": "14b986a8",
   "metadata": {},
   "outputs": [
    {
     "data": {
      "text/plain": [
       "111"
      ]
     },
     "execution_count": 12,
     "metadata": {},
     "output_type": "execute_result"
    }
   ],
   "source": [
    "sum(birth1) + sum(birth2)"
   ]
  },
  {
   "cell_type": "code",
   "execution_count": null,
   "id": "10bf768c",
   "metadata": {},
   "outputs": [],
   "source": []
  }
 ],
 "metadata": {
  "kernelspec": {
   "display_name": "Julia 1.5.3",
   "language": "julia",
   "name": "julia-1.5"
  },
  "language_info": {
   "file_extension": ".jl",
   "mimetype": "application/julia",
   "name": "julia",
   "version": "1.5.3"
  }
 },
 "nbformat": 4,
 "nbformat_minor": 5
}
