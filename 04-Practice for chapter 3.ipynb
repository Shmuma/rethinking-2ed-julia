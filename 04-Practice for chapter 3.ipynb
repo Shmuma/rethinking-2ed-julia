{
 "cells": [
  {
   "cell_type": "markdown",
   "id": "be5ad8ee",
   "metadata": {},
   "source": [
    "There is a template for the chapter's practice. You can find my (maybe wrong) \n",
    "solution in `solutions/` folder, but remember it will be more fun to try to solve them yourself."
   ]
  },
  {
   "cell_type": "code",
   "execution_count": 1,
   "id": "c0951109",
   "metadata": {},
   "outputs": [],
   "source": [
    "using Distributions\n",
    "using StatsPlots\n",
    "using StatsBase\n",
    "using StatisticalRethinking"
   ]
  },
  {
   "cell_type": "markdown",
   "id": "98c2b1af",
   "metadata": {
    "heading_collapsed": true
   },
   "source": [
    "# Easy problems"
   ]
  },
  {
   "cell_type": "markdown",
   "id": "90f9fb90",
   "metadata": {
    "hidden": true
   },
   "source": [
    "Code 3.27"
   ]
  },
  {
   "cell_type": "code",
   "execution_count": 2,
   "id": "66eda9b5",
   "metadata": {
    "hidden": true
   },
   "outputs": [],
   "source": [
    "size = 1000\n",
    "p_grid = range(0, 1; length=size)\n",
    "prob_p = repeat([1.0], size);\n",
    "prob_data = [pdf(Binomial(9, p), 6) for p in p_grid];\n",
    "posterior = prob_data .* prob_p\n",
    "posterior /= sum(posterior);\n",
    "cat = Categorical(posterior)\n",
    "samples = p_grid[rand(cat, 10000)];"
   ]
  },
  {
   "cell_type": "markdown",
   "id": "798625e8",
   "metadata": {},
   "source": [
    "# Medium problems"
   ]
  },
  {
   "cell_type": "markdown",
   "id": "70a73d83",
   "metadata": {
    "heading_collapsed": true
   },
   "source": [
    "# Hard problems"
   ]
  },
  {
   "cell_type": "markdown",
   "id": "23ce975b",
   "metadata": {
    "hidden": true
   },
   "source": [
    "Code 3.28"
   ]
  },
  {
   "cell_type": "code",
   "execution_count": 3,
   "id": "4069c93b",
   "metadata": {
    "hidden": true
   },
   "outputs": [],
   "source": [
    "birth1 = [1,0,0,0,1,1,0,1,0,1,0,0,1,1,0,1,1,0,0,0,1,0,0,0,1,0,\n",
    "0,0,0,1,1,1,0,1,0,1,1,1,0,1,0,1,1,0,1,0,0,1,1,0,1,0,0,0,0,0,0,0,\n",
    "1,1,0,1,0,0,1,0,0,0,1,0,0,1,1,1,1,0,1,0,1,1,1,1,1,0,0,1,0,1,1,0,\n",
    "1,0,1,1,1,0,1,1,1,1]\n",
    "\n",
    "birth2 = [0,1,0,1,0,1,1,1,0,0,1,1,1,1,1,0,0,1,1,1,0,0,1,1,1,0,\n",
    "1,1,1,0,1,1,1,0,1,0,0,1,1,1,1,0,0,1,0,1,1,1,1,1,1,1,1,1,1,1,1,1,\n",
    "1,1,1,0,1,1,0,1,1,0,1,1,1,0,0,0,0,0,0,1,0,0,0,1,1,0,0,1,0,0,1,1,\n",
    "0,0,0,1,1,1,0,0,0,0];"
   ]
  },
  {
   "cell_type": "markdown",
   "id": "7aa9dc0a",
   "metadata": {
    "hidden": true
   },
   "source": [
    "Code 3.30"
   ]
  },
  {
   "cell_type": "code",
   "execution_count": 4,
   "id": "14b986a8",
   "metadata": {
    "hidden": true
   },
   "outputs": [
    {
     "data": {
      "text/plain": [
       "111"
      ]
     },
     "execution_count": 4,
     "metadata": {},
     "output_type": "execute_result"
    }
   ],
   "source": [
    "sum(birth1) + sum(birth2)"
   ]
  },
  {
   "cell_type": "code",
   "execution_count": null,
   "id": "10bf768c",
   "metadata": {
    "hidden": true
   },
   "outputs": [],
   "source": []
  }
 ],
 "metadata": {
  "kernelspec": {
   "display_name": "Julia 1.6.2",
   "language": "julia",
   "name": "julia-1.6"
  },
  "language_info": {
   "file_extension": ".jl",
   "mimetype": "application/julia",
   "name": "julia",
   "version": "1.6.2"
  }
 },
 "nbformat": 4,
 "nbformat_minor": 5
}
