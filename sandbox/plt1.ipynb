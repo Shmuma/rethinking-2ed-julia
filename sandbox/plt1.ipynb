{
 "cells": [
  {
   "cell_type": "code",
   "execution_count": 2,
   "id": "6e18e987",
   "metadata": {},
   "outputs": [],
   "source": [
    "using Plots"
   ]
  },
  {
   "cell_type": "code",
   "execution_count": 23,
   "id": "712f676e",
   "metadata": {},
   "outputs": [
    {
     "data": {
      "text/plain": [
       "200.0000000000001"
      ]
     },
     "execution_count": 23,
     "metadata": {},
     "output_type": "execute_result"
    }
   ],
   "source": [
    "x = range(1, 2, length=2)\n",
    "x = x .* 10 .|> log |> sum |> exp\n",
    "x "
   ]
  },
  {
   "cell_type": "code",
   "execution_count": 11,
   "id": "02790cd8",
   "metadata": {},
   "outputs": [
    {
     "data": {
      "text/plain": [
       "3-element Array{Float64,1}:\n",
       "  0.0\n",
       "  5.0\n",
       " 10.0"
      ]
     },
     "execution_count": 11,
     "metadata": {},
     "output_type": "execute_result"
    }
   ],
   "source": [
    "collect(x .* 10)"
   ]
  },
  {
   "cell_type": "code",
   "execution_count": 27,
   "id": "4bdfc33f",
   "metadata": {},
   "outputs": [
    {
     "data": {
      "text/plain": [
       "(-Inf, -921.0340371976182)"
      ]
     },
     "execution_count": 27,
     "metadata": {},
     "output_type": "execute_result"
    }
   ],
   "source": [
    "log(0.01^200), 200 * log(0.01)"
   ]
  },
  {
   "cell_type": "code",
   "execution_count": null,
   "id": "87dd11df",
   "metadata": {},
   "outputs": [],
   "source": []
  }
 ],
 "metadata": {
  "kernelspec": {
   "display_name": "Julia 1.5.3",
   "language": "julia",
   "name": "julia-1.5"
  },
  "language_info": {
   "file_extension": ".jl",
   "mimetype": "application/julia",
   "name": "julia",
   "version": "1.5.3"
  }
 },
 "nbformat": 4,
 "nbformat_minor": 5
}
