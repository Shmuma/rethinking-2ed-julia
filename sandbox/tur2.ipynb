{
 "cells": [
  {
   "cell_type": "code",
   "execution_count": 28,
   "id": "2b21b643",
   "metadata": {},
   "outputs": [],
   "source": [
    "using StatsPlots"
   ]
  },
  {
   "cell_type": "code",
   "execution_count": 100,
   "id": "fdc1fd12",
   "metadata": {},
   "outputs": [],
   "source": [
    "using Turing\n",
    "using Logging\n",
    "using LaTeXStrings"
   ]
  },
  {
   "cell_type": "code",
   "execution_count": 3,
   "id": "6307bb48",
   "metadata": {},
   "outputs": [
    {
     "name": "stdout",
     "output_type": "stream",
     "text": [
      "search: \u001b[0m\u001b[1mN\u001b[22m\u001b[0m\u001b[1mo\u001b[22m\u001b[0m\u001b[1mr\u001b[22m\u001b[0m\u001b[1mm\u001b[22m\u001b[0m\u001b[1ma\u001b[22m\u001b[0m\u001b[1ml\u001b[22m \u001b[0m\u001b[1mN\u001b[22m\u001b[0m\u001b[1mo\u001b[22m\u001b[0m\u001b[1mr\u001b[22m\u001b[0m\u001b[1mm\u001b[22m\u001b[0m\u001b[1ma\u001b[22m\u001b[0m\u001b[1ml\u001b[22mCanon \u001b[0m\u001b[1mN\u001b[22m\u001b[0m\u001b[1mo\u001b[22m\u001b[0m\u001b[1mr\u001b[22m\u001b[0m\u001b[1mm\u001b[22m\u001b[0m\u001b[1ma\u001b[22m\u001b[0m\u001b[1ml\u001b[22mInverseGaussian Mv\u001b[0m\u001b[1mN\u001b[22m\u001b[0m\u001b[1mo\u001b[22m\u001b[0m\u001b[1mr\u001b[22m\u001b[0m\u001b[1mm\u001b[22m\u001b[0m\u001b[1ma\u001b[22m\u001b[0m\u001b[1ml\u001b[22m Mv\u001b[0m\u001b[1mN\u001b[22m\u001b[0m\u001b[1mo\u001b[22m\u001b[0m\u001b[1mr\u001b[22m\u001b[0m\u001b[1mm\u001b[22m\u001b[0m\u001b[1ma\u001b[22m\u001b[0m\u001b[1ml\u001b[22mCanon\n",
      "\n"
     ]
    },
    {
     "data": {
      "text/latex": [
       "\\begin{verbatim}\n",
       "Normal(μ,σ)\n",
       "\\end{verbatim}\n",
       "The \\emph{Normal distribution} with mean \\texttt{μ} and standard deviation \\texttt{σ≥0} has probability density function\n",
       "\n",
       "$$f(x; \\mu, \\sigma) = \\frac{1}{\\sqrt{2 \\pi \\sigma^2}}\n",
       "\\exp \\left( - \\frac{(x - \\mu)^2}{2 \\sigma^2} \\right)$$\n",
       "Note that if \\texttt{σ == 0}, then the distribution is a point mass concentrated at \\texttt{μ}. Though not technically a continuous distribution, it is allowed so as to account for cases where \\texttt{σ} may have underflowed, and the functions are defined by taking the pointwise limit as $σ → 0$.\n",
       "\n",
       "\\begin{verbatim}\n",
       "Normal()          # standard Normal distribution with zero mean and unit variance\n",
       "Normal(μ)         # Normal distribution with mean μ and unit variance\n",
       "Normal(μ, σ)      # Normal distribution with mean μ and variance σ^2\n",
       "\n",
       "params(d)         # Get the parameters, i.e. (μ, σ)\n",
       "mean(d)           # Get the mean, i.e. μ\n",
       "std(d)            # Get the standard deviation, i.e. σ\n",
       "\\end{verbatim}\n",
       "External links\n",
       "\n",
       "\\begin{itemize}\n",
       "\\item \\href{http://en.wikipedia.org/wiki/Normal_distribution}{Normal distribution on Wikipedia}\n",
       "\n",
       "\\end{itemize}\n"
      ],
      "text/markdown": [
       "```\n",
       "Normal(μ,σ)\n",
       "```\n",
       "\n",
       "The *Normal distribution* with mean `μ` and standard deviation `σ≥0` has probability density function\n",
       "\n",
       "$$\n",
       "f(x; \\mu, \\sigma) = \\frac{1}{\\sqrt{2 \\pi \\sigma^2}}\n",
       "\\exp \\left( - \\frac{(x - \\mu)^2}{2 \\sigma^2} \\right)\n",
       "$$\n",
       "\n",
       "Note that if `σ == 0`, then the distribution is a point mass concentrated at `μ`. Though not technically a continuous distribution, it is allowed so as to account for cases where `σ` may have underflowed, and the functions are defined by taking the pointwise limit as $σ → 0$.\n",
       "\n",
       "```julia\n",
       "Normal()          # standard Normal distribution with zero mean and unit variance\n",
       "Normal(μ)         # Normal distribution with mean μ and unit variance\n",
       "Normal(μ, σ)      # Normal distribution with mean μ and variance σ^2\n",
       "\n",
       "params(d)         # Get the parameters, i.e. (μ, σ)\n",
       "mean(d)           # Get the mean, i.e. μ\n",
       "std(d)            # Get the standard deviation, i.e. σ\n",
       "```\n",
       "\n",
       "External links\n",
       "\n",
       "  * [Normal distribution on Wikipedia](http://en.wikipedia.org/wiki/Normal_distribution)\n"
      ],
      "text/plain": [
       "\u001b[36m  Normal(μ,σ)\u001b[39m\n",
       "\n",
       "  The \u001b[4mNormal distribution\u001b[24m with mean \u001b[36mμ\u001b[39m and standard deviation \u001b[36mσ≥0\u001b[39m has\n",
       "  probability density function\n",
       "\n",
       "\u001b[35m  f(x; \\mu, \\sigma) = \\frac{1}{\\sqrt{2 \\pi \\sigma^2}}\u001b[39m\n",
       "\u001b[35m\\exp \\left( - \\frac{(x - \\mu)^2}{2 \\sigma^2} \\right)\u001b[39m\n",
       "\n",
       "  Note that if \u001b[36mσ == 0\u001b[39m, then the distribution is a point mass concentrated at\n",
       "  \u001b[36mμ\u001b[39m. Though not technically a continuous distribution, it is allowed so as to\n",
       "  account for cases where \u001b[36mσ\u001b[39m may have underflowed, and the functions are\n",
       "  defined by taking the pointwise limit as \u001b[35mσ → 0\u001b[39m.\n",
       "\n",
       "\u001b[36m  Normal()          # standard Normal distribution with zero mean and unit variance\u001b[39m\n",
       "\u001b[36m  Normal(μ)         # Normal distribution with mean μ and unit variance\u001b[39m\n",
       "\u001b[36m  Normal(μ, σ)      # Normal distribution with mean μ and variance σ^2\u001b[39m\n",
       "\u001b[36m  \u001b[39m\n",
       "\u001b[36m  params(d)         # Get the parameters, i.e. (μ, σ)\u001b[39m\n",
       "\u001b[36m  mean(d)           # Get the mean, i.e. μ\u001b[39m\n",
       "\u001b[36m  std(d)            # Get the standard deviation, i.e. σ\u001b[39m\n",
       "\n",
       "  External links\n",
       "\n",
       "    •    Normal distribution on Wikipedia\n",
       "        (http://en.wikipedia.org/wiki/Normal_distribution)"
      ]
     },
     "execution_count": 3,
     "metadata": {},
     "output_type": "execute_result"
    }
   ],
   "source": [
    "?Normal"
   ]
  },
  {
   "cell_type": "code",
   "execution_count": 4,
   "id": "53153704",
   "metadata": {},
   "outputs": [
    {
     "name": "stdout",
     "output_type": "stream",
     "text": [
      "search: \u001b[0m\u001b[1mM\u001b[22m\u001b[0m\u001b[1mv\u001b[22m\u001b[0m\u001b[1mN\u001b[22m\u001b[0m\u001b[1mo\u001b[22m\u001b[0m\u001b[1mr\u001b[22m\u001b[0m\u001b[1mm\u001b[22m\u001b[0m\u001b[1ma\u001b[22m\u001b[0m\u001b[1ml\u001b[22m \u001b[0m\u001b[1mM\u001b[22m\u001b[0m\u001b[1mv\u001b[22m\u001b[0m\u001b[1mN\u001b[22m\u001b[0m\u001b[1mo\u001b[22m\u001b[0m\u001b[1mr\u001b[22m\u001b[0m\u001b[1mm\u001b[22m\u001b[0m\u001b[1ma\u001b[22m\u001b[0m\u001b[1ml\u001b[22mCanon \u001b[0m\u001b[1mM\u001b[22m\u001b[0m\u001b[1mv\u001b[22m\u001b[0m\u001b[1mN\u001b[22m\u001b[0m\u001b[1mo\u001b[22m\u001b[0m\u001b[1mr\u001b[22m\u001b[0m\u001b[1mm\u001b[22m\u001b[0m\u001b[1ma\u001b[22m\u001b[0m\u001b[1ml\u001b[22mKnownCov \u001b[0m\u001b[1mM\u001b[22m\u001b[0m\u001b[1mv\u001b[22mLog\u001b[0m\u001b[1mN\u001b[22m\u001b[0m\u001b[1mo\u001b[22m\u001b[0m\u001b[1mr\u001b[22m\u001b[0m\u001b[1mm\u001b[22m\u001b[0m\u001b[1ma\u001b[22m\u001b[0m\u001b[1ml\u001b[22m Abstract\u001b[0m\u001b[1mM\u001b[22m\u001b[0m\u001b[1mv\u001b[22m\u001b[0m\u001b[1mN\u001b[22m\u001b[0m\u001b[1mo\u001b[22m\u001b[0m\u001b[1mr\u001b[22m\u001b[0m\u001b[1mm\u001b[22m\u001b[0m\u001b[1ma\u001b[22m\u001b[0m\u001b[1ml\u001b[22m\n",
      "\n"
     ]
    },
    {
     "data": {
      "text/latex": [
       "\\begin{verbatim}\n",
       "MvNormal\n",
       "\\end{verbatim}\n",
       "Generally, users don't have to worry about these internal details.\n",
       "\n",
       "We provide a common constructor \\texttt{MvNormal}, which will construct a distribution of appropriate type depending on the input arguments.\n",
       "\n",
       "\\rule{\\textwidth}{1pt}\n",
       "\\begin{verbatim}\n",
       "MvNormal(μ::AbstractVector{<:Real}, Σ::AbstractMatrix{<:Real})\n",
       "\\end{verbatim}\n",
       "Construct a multivariate normal distribution with mean \\texttt{μ} and covariance matrix \\texttt{Σ}.\n",
       "\n",
       "\\rule{\\textwidth}{1pt}\n",
       "\\begin{verbatim}\n",
       "MvNormal(Σ::AbstractMatrix{<:Real})\n",
       "\\end{verbatim}\n",
       "Construct a multivariate normal distribution with zero mean and covariance matrix \\texttt{Σ}.\n",
       "\n"
      ],
      "text/markdown": [
       "```\n",
       "MvNormal\n",
       "```\n",
       "\n",
       "Generally, users don't have to worry about these internal details.\n",
       "\n",
       "We provide a common constructor `MvNormal`, which will construct a distribution of appropriate type depending on the input arguments.\n",
       "\n",
       "---\n",
       "\n",
       "```\n",
       "MvNormal(μ::AbstractVector{<:Real}, Σ::AbstractMatrix{<:Real})\n",
       "```\n",
       "\n",
       "Construct a multivariate normal distribution with mean `μ` and covariance matrix `Σ`.\n",
       "\n",
       "---\n",
       "\n",
       "```\n",
       "MvNormal(Σ::AbstractMatrix{<:Real})\n",
       "```\n",
       "\n",
       "Construct a multivariate normal distribution with zero mean and covariance matrix `Σ`.\n"
      ],
      "text/plain": [
       "\u001b[36m  MvNormal\u001b[39m\n",
       "\n",
       "  Generally, users don't have to worry about these internal details.\n",
       "\n",
       "  We provide a common constructor \u001b[36mMvNormal\u001b[39m, which will construct a\n",
       "  distribution of appropriate type depending on the input arguments.\n",
       "\n",
       "  ────────────────────────────────────────────────────────────────────────────\n",
       "\n",
       "\u001b[36m  MvNormal(μ::AbstractVector{<:Real}, Σ::AbstractMatrix{<:Real})\u001b[39m\n",
       "\n",
       "  Construct a multivariate normal distribution with mean \u001b[36mμ\u001b[39m and covariance\n",
       "  matrix \u001b[36mΣ\u001b[39m.\n",
       "\n",
       "  ────────────────────────────────────────────────────────────────────────────\n",
       "\n",
       "\u001b[36m  MvNormal(Σ::AbstractMatrix{<:Real})\u001b[39m\n",
       "\n",
       "  Construct a multivariate normal distribution with zero mean and covariance\n",
       "  matrix \u001b[36mΣ\u001b[39m."
      ]
     },
     "execution_count": 4,
     "metadata": {},
     "output_type": "execute_result"
    }
   ],
   "source": [
    "?MvNormal"
   ]
  },
  {
   "cell_type": "code",
   "execution_count": 7,
   "id": "05a7f1fb",
   "metadata": {},
   "outputs": [
    {
     "name": "stdout",
     "output_type": "stream",
     "text": [
      "search: \u001b[0m\u001b[1mB\u001b[22m\u001b[0m\u001b[1mi\u001b[22m\u001b[0m\u001b[1mn\u001b[22m\u001b[0m\u001b[1mo\u001b[22m\u001b[0m\u001b[1mm\u001b[22m\u001b[0m\u001b[1mi\u001b[22m\u001b[0m\u001b[1ma\u001b[22m\u001b[0m\u001b[1ml\u001b[22m \u001b[0m\u001b[1mb\u001b[22m\u001b[0m\u001b[1mi\u001b[22m\u001b[0m\u001b[1mn\u001b[22m\u001b[0m\u001b[1mo\u001b[22m\u001b[0m\u001b[1mm\u001b[22m\u001b[0m\u001b[1mi\u001b[22m\u001b[0m\u001b[1ma\u001b[22m\u001b[0m\u001b[1ml\u001b[22m \u001b[0m\u001b[1mB\u001b[22m\u001b[0m\u001b[1mi\u001b[22m\u001b[0m\u001b[1mn\u001b[22m\u001b[0m\u001b[1mo\u001b[22m\u001b[0m\u001b[1mm\u001b[22m\u001b[0m\u001b[1mi\u001b[22m\u001b[0m\u001b[1ma\u001b[22m\u001b[0m\u001b[1ml\u001b[22mLogit Poisson\u001b[0m\u001b[1mB\u001b[22m\u001b[0m\u001b[1mi\u001b[22m\u001b[0m\u001b[1mn\u001b[22m\u001b[0m\u001b[1mo\u001b[22m\u001b[0m\u001b[1mm\u001b[22m\u001b[0m\u001b[1mi\u001b[22m\u001b[0m\u001b[1ma\u001b[22m\u001b[0m\u001b[1ml\u001b[22m Negative\u001b[0m\u001b[1mB\u001b[22m\u001b[0m\u001b[1mi\u001b[22m\u001b[0m\u001b[1mn\u001b[22m\u001b[0m\u001b[1mo\u001b[22m\u001b[0m\u001b[1mm\u001b[22m\u001b[0m\u001b[1mi\u001b[22m\u001b[0m\u001b[1ma\u001b[22m\u001b[0m\u001b[1ml\u001b[22m\n",
      "\n"
     ]
    },
    {
     "data": {
      "text/latex": [
       "\\begin{verbatim}\n",
       "Binomial(n,p)\n",
       "\\end{verbatim}\n",
       "A \\emph{Binomial distribution} characterizes the number of successes in a sequence of independent trials. It has two parameters: \\texttt{n}, the number of trials, and \\texttt{p}, the probability of success in an individual trial, with the distribution:\n",
       "\n",
       "$$P(X = k) = {n \\choose k}p^k(1-p)^{n-k},  \\quad \\text{ for } k = 0,1,2, \\ldots, n.$$\n",
       "\\begin{verbatim}\n",
       "Binomial()      # Binomial distribution with n = 1 and p = 0.5\n",
       "Binomial(n)     # Binomial distribution for n trials with success rate p = 0.5\n",
       "Binomial(n, p)  # Binomial distribution for n trials with success rate p\n",
       "\n",
       "params(d)       # Get the parameters, i.e. (n, p)\n",
       "ntrials(d)      # Get the number of trials, i.e. n\n",
       "succprob(d)     # Get the success rate, i.e. p\n",
       "failprob(d)     # Get the failure rate, i.e. 1 - p\n",
       "\\end{verbatim}\n",
       "External links:\n",
       "\n",
       "\\begin{itemize}\n",
       "\\item \\href{http://en.wikipedia.org/wiki/Binomial_distribution}{Binomial distribution on Wikipedia}\n",
       "\n",
       "\\end{itemize}\n"
      ],
      "text/markdown": [
       "```\n",
       "Binomial(n,p)\n",
       "```\n",
       "\n",
       "A *Binomial distribution* characterizes the number of successes in a sequence of independent trials. It has two parameters: `n`, the number of trials, and `p`, the probability of success in an individual trial, with the distribution:\n",
       "\n",
       "$$\n",
       "P(X = k) = {n \\choose k}p^k(1-p)^{n-k},  \\quad \\text{ for } k = 0,1,2, \\ldots, n.\n",
       "$$\n",
       "\n",
       "```julia\n",
       "Binomial()      # Binomial distribution with n = 1 and p = 0.5\n",
       "Binomial(n)     # Binomial distribution for n trials with success rate p = 0.5\n",
       "Binomial(n, p)  # Binomial distribution for n trials with success rate p\n",
       "\n",
       "params(d)       # Get the parameters, i.e. (n, p)\n",
       "ntrials(d)      # Get the number of trials, i.e. n\n",
       "succprob(d)     # Get the success rate, i.e. p\n",
       "failprob(d)     # Get the failure rate, i.e. 1 - p\n",
       "```\n",
       "\n",
       "External links:\n",
       "\n",
       "  * [Binomial distribution on Wikipedia](http://en.wikipedia.org/wiki/Binomial_distribution)\n"
      ],
      "text/plain": [
       "\u001b[36m  Binomial(n,p)\u001b[39m\n",
       "\n",
       "  A \u001b[4mBinomial distribution\u001b[24m characterizes the number of successes in a sequence\n",
       "  of independent trials. It has two parameters: \u001b[36mn\u001b[39m, the number of trials, and\n",
       "  \u001b[36mp\u001b[39m, the probability of success in an individual trial, with the distribution:\n",
       "\n",
       "\u001b[35m  P(X = k) = {n \\choose k}p^k(1-p)^{n-k},  \\quad \\text{ for } k = 0,1,2, \\ldots, n.\u001b[39m\n",
       "\n",
       "\u001b[36m  Binomial()      # Binomial distribution with n = 1 and p = 0.5\u001b[39m\n",
       "\u001b[36m  Binomial(n)     # Binomial distribution for n trials with success rate p = 0.5\u001b[39m\n",
       "\u001b[36m  Binomial(n, p)  # Binomial distribution for n trials with success rate p\u001b[39m\n",
       "\u001b[36m  \u001b[39m\n",
       "\u001b[36m  params(d)       # Get the parameters, i.e. (n, p)\u001b[39m\n",
       "\u001b[36m  ntrials(d)      # Get the number of trials, i.e. n\u001b[39m\n",
       "\u001b[36m  succprob(d)     # Get the success rate, i.e. p\u001b[39m\n",
       "\u001b[36m  failprob(d)     # Get the failure rate, i.e. 1 - p\u001b[39m\n",
       "\n",
       "  External links:\n",
       "\n",
       "    •    Binomial distribution on Wikipedia\n",
       "        (http://en.wikipedia.org/wiki/Binomial_distribution)"
      ]
     },
     "execution_count": 7,
     "metadata": {},
     "output_type": "execute_result"
    }
   ],
   "source": [
    "? Binomial"
   ]
  },
  {
   "cell_type": "code",
   "execution_count": 14,
   "id": "2de8b36e",
   "metadata": {},
   "outputs": [
    {
     "data": {
      "text/plain": [
       "0.1640625000000001"
      ]
     },
     "execution_count": 14,
     "metadata": {},
     "output_type": "execute_result"
    }
   ],
   "source": [
    "b = Binomial(9, 0.5)\n",
    "pdf(b, 6)"
   ]
  },
  {
   "cell_type": "code",
   "execution_count": 10,
   "id": "5f93a704",
   "metadata": {},
   "outputs": [
    {
     "data": {
      "text/html": [
       "# 7 methods for type constructor:<ul><li> (::<b>Type{Binomial}</b>)() in Distributions at <a href=\"file:///home/shmuma/.julia/packages/Distributions/fXTVC/src/univariate/discrete/binomial.jl\" target=\"_blank\">/home/shmuma/.julia/packages/Distributions/fXTVC/src/univariate/discrete/binomial.jl:42</a></li> <li> (::<b>Type{Binomial}</b>)(n::<b>Integer</b>) in Distributions at <a href=\"file:///home/shmuma/.julia/packages/Distributions/fXTVC/src/univariate/discrete/binomial.jl\" target=\"_blank\">/home/shmuma/.julia/packages/Distributions/fXTVC/src/univariate/discrete/binomial.jl:41</a></li> <li> (::<b>Type{Binomial}</b>)(n::<b>Integer</b>, p::<b>Integer</b>) in Distributions at <a href=\"file:///home/shmuma/.julia/packages/Distributions/fXTVC/src/univariate/discrete/binomial.jl\" target=\"_blank\">/home/shmuma/.julia/packages/Distributions/fXTVC/src/univariate/discrete/binomial.jl:40</a></li> <li> (::<b>Type{Binomial}</b>)(n::<b>Integer</b>, p::<b>T</b>; <i>check_args</i>)<i> where T<:Real</i> in Distributions at <a href=\"file:///home/shmuma/.julia/packages/Distributions/fXTVC/src/univariate/discrete/binomial.jl\" target=\"_blank\">/home/shmuma/.julia/packages/Distributions/fXTVC/src/univariate/discrete/binomial.jl:32</a></li> <li> (::<b>Type{Binomial}</b>)(n::<b>ForwardDiff.Dual{var\"#s25\",var\"#s24\",N} where N where var\"#s24\"<:Integer where var\"#s25\"</b>, p::<b>Real</b>) in DistributionsAD at <a href=\"file:///home/shmuma/.julia/packages/DistributionsAD/pj8zf/src/forwarddiff.jl\" target=\"_blank\">/home/shmuma/.julia/packages/DistributionsAD/pj8zf/src/forwarddiff.jl:20</a></li> <li> (::<b>Type{Binomial}</b>)(n::<b>Real</b>) in Distributions at <a href=\"file:///home/shmuma/.julia/packages/Distributions/fXTVC/src/deprecates.jl\" target=\"_blank\">/home/shmuma/.julia/packages/Distributions/fXTVC/src/deprecates.jl:15</a></li> <li> (::<b>Type{Binomial}</b>)(n::<b>Real</b>, p::<b>Real</b>) in Distributions at <a href=\"file:///home/shmuma/.julia/packages/Distributions/fXTVC/src/deprecates.jl\" target=\"_blank\">/home/shmuma/.julia/packages/Distributions/fXTVC/src/deprecates.jl:10</a></li> </ul>"
      ],
      "text/plain": [
       "# 7 methods for type constructor:\n",
       "[1] (::Type{Binomial})() in Distributions at /home/shmuma/.julia/packages/Distributions/fXTVC/src/univariate/discrete/binomial.jl:42\n",
       "[2] (::Type{Binomial})(n::Integer) in Distributions at /home/shmuma/.julia/packages/Distributions/fXTVC/src/univariate/discrete/binomial.jl:41\n",
       "[3] (::Type{Binomial})(n::Integer, p::Integer) in Distributions at /home/shmuma/.julia/packages/Distributions/fXTVC/src/univariate/discrete/binomial.jl:40\n",
       "[4] (::Type{Binomial})(n::Integer, p::T; check_args) where T<:Real in Distributions at /home/shmuma/.julia/packages/Distributions/fXTVC/src/univariate/discrete/binomial.jl:32\n",
       "[5] (::Type{Binomial})(n::ForwardDiff.Dual{var\"#s25\",var\"#s24\",N} where N where var\"#s24\"<:Integer where var\"#s25\", p::Real) in DistributionsAD at /home/shmuma/.julia/packages/DistributionsAD/pj8zf/src/forwarddiff.jl:20\n",
       "[6] (::Type{Binomial})(n::Real) in Distributions at /home/shmuma/.julia/packages/Distributions/fXTVC/src/deprecates.jl:15\n",
       "[7] (::Type{Binomial})(n::Real, p::Real) in Distributions at /home/shmuma/.julia/packages/Distributions/fXTVC/src/deprecates.jl:10"
      ]
     },
     "execution_count": 10,
     "metadata": {},
     "output_type": "execute_result"
    }
   ],
   "source": [
    "methods(Binomial)"
   ]
  },
  {
   "cell_type": "code",
   "execution_count": 13,
   "id": "15876f47",
   "metadata": {},
   "outputs": [
    {
     "data": {
      "text/plain": [
       "0.1640625000000001"
      ]
     },
     "execution_count": 13,
     "metadata": {},
     "output_type": "execute_result"
    }
   ],
   "source": [
    "pdf(b, 6)"
   ]
  },
  {
   "cell_type": "code",
   "execution_count": 15,
   "id": "60558262",
   "metadata": {},
   "outputs": [
    {
     "data": {
      "text/html": [
       "# 8 methods for generic function <b>range</b>:<ul><li> range(i::<b>IntervalSets.TypedEndpointsInterval{:closed,:closed,I}</b>)<i> where I<:Integer</i> in IntervalSets at <a href=\"file:///home/shmuma/.julia/packages/IntervalSets/VeVgo/src/IntervalSets.jl\" target=\"_blank\">/home/shmuma/.julia/packages/IntervalSets/VeVgo/src/IntervalSets.jl:251</a></li> <li> range(i::<b>IntervalSets.TypedEndpointsInterval{:closed,:closed,T} where T</b>; <i>step, length</i>) in IntervalSets at <a href=\"file:///home/shmuma/.julia/packages/IntervalSets/VeVgo/src/IntervalSets.jl\" target=\"_blank\">/home/shmuma/.julia/packages/IntervalSets/VeVgo/src/IntervalSets.jl:259</a></li> <li> range(i::<b>IntervalSets.TypedEndpointsInterval{:closed,:closed,T} where T</b>, len::<b>Integer</b>) in IntervalSets at <a href=\"file:///home/shmuma/.julia/packages/IntervalSets/VeVgo/src/IntervalSets.jl\" target=\"_blank\">/home/shmuma/.julia/packages/IntervalSets/VeVgo/src/IntervalSets.jl:261</a></li> <li> range(i::<b>IntervalSets.TypedEndpointsInterval{:closed,:open,T} where T</b>; <i>length</i>) in IntervalSets at <a href=\"file:///home/shmuma/.julia/packages/IntervalSets/VeVgo/src/IntervalSets.jl\" target=\"_blank\">/home/shmuma/.julia/packages/IntervalSets/VeVgo/src/IntervalSets.jl:269</a></li> <li> range(i::<b>IntervalSets.TypedEndpointsInterval{:closed,:open,T} where T</b>, len::<b>Integer</b>) in IntervalSets at <a href=\"file:///home/shmuma/.julia/packages/IntervalSets/VeVgo/src/IntervalSets.jl\" target=\"_blank\">/home/shmuma/.julia/packages/IntervalSets/VeVgo/src/IntervalSets.jl:271</a></li> <li> range(chains::<b>Chains</b>) in MCMCChains at <a href=\"file:///home/shmuma/.julia/packages/MCMCChains/VwH27/src/chains.jl\" target=\"_blank\">/home/shmuma/.julia/packages/MCMCChains/VwH27/src/chains.jl:457</a></li> <li> range(start; <i>length, stop, step</i>) in Base at <a href=\"https://github.com/JuliaLang/julia/tree/788b2c77c10c2160f4794a4d4b6b81a95a90940c/base/range.jl#L91\" target=\"_blank\">range.jl:91</a></li> <li> range(start, stop; <i>length, step</i>) in Base at <a href=\"https://github.com/JuliaLang/julia/tree/788b2c77c10c2160f4794a4d4b6b81a95a90940c/base/range.jl#L94\" target=\"_blank\">range.jl:94</a></li> </ul>"
      ],
      "text/plain": [
       "# 8 methods for generic function \"range\":\n",
       "[1] range(i::IntervalSets.TypedEndpointsInterval{:closed,:closed,I}) where I<:Integer in IntervalSets at /home/shmuma/.julia/packages/IntervalSets/VeVgo/src/IntervalSets.jl:251\n",
       "[2] range(i::IntervalSets.TypedEndpointsInterval{:closed,:closed,T} where T; step, length) in IntervalSets at /home/shmuma/.julia/packages/IntervalSets/VeVgo/src/IntervalSets.jl:259\n",
       "[3] range(i::IntervalSets.TypedEndpointsInterval{:closed,:closed,T} where T, len::Integer) in IntervalSets at /home/shmuma/.julia/packages/IntervalSets/VeVgo/src/IntervalSets.jl:261\n",
       "[4] range(i::IntervalSets.TypedEndpointsInterval{:closed,:open,T} where T; length) in IntervalSets at /home/shmuma/.julia/packages/IntervalSets/VeVgo/src/IntervalSets.jl:269\n",
       "[5] range(i::IntervalSets.TypedEndpointsInterval{:closed,:open,T} where T, len::Integer) in IntervalSets at /home/shmuma/.julia/packages/IntervalSets/VeVgo/src/IntervalSets.jl:271\n",
       "[6] range(chains::Chains) in MCMCChains at /home/shmuma/.julia/packages/MCMCChains/VwH27/src/chains.jl:457\n",
       "[7] range(start; length, stop, step) in Base at range.jl:91\n",
       "[8] range(start, stop; length, step) in Base at range.jl:94"
      ]
     },
     "execution_count": 15,
     "metadata": {},
     "output_type": "execute_result"
    }
   ],
   "source": [
    "methods(range)"
   ]
  },
  {
   "cell_type": "code",
   "execution_count": 16,
   "id": "f5bb5230",
   "metadata": {},
   "outputs": [
    {
     "data": {
      "text/plain": [
       "0.0:0.05263157894736842:1.0"
      ]
     },
     "execution_count": 16,
     "metadata": {},
     "output_type": "execute_result"
    }
   ],
   "source": [
    "grid = range(0, 1; length=20)"
   ]
  },
  {
   "cell_type": "code",
   "execution_count": 17,
   "id": "bf251ce9",
   "metadata": {},
   "outputs": [
    {
     "data": {
      "text/plain": [
       "20-element Array{Float64,1}:\n",
       " 0.0\n",
       " 0.05263157894736842\n",
       " 0.10526315789473684\n",
       " 0.15789473684210525\n",
       " 0.21052631578947367\n",
       " 0.2631578947368421\n",
       " 0.3157894736842105\n",
       " 0.3684210526315789\n",
       " 0.42105263157894735\n",
       " 0.47368421052631576\n",
       " 0.5263157894736842\n",
       " 0.5789473684210527\n",
       " 0.631578947368421\n",
       " 0.6842105263157895\n",
       " 0.7368421052631579\n",
       " 0.7894736842105263\n",
       " 0.8421052631578947\n",
       " 0.8947368421052632\n",
       " 0.9473684210526315\n",
       " 1.0"
      ]
     },
     "execution_count": 17,
     "metadata": {},
     "output_type": "execute_result"
    }
   ],
   "source": [
    "collect(grid)"
   ]
  },
  {
   "cell_type": "code",
   "execution_count": 19,
   "id": "4ff06951",
   "metadata": {},
   "outputs": [
    {
     "data": {
      "text/html": [
       "# 11 methods for generic function <b>repeat</b>:<ul><li> repeat(xs::<b>Tracker.TrackedArray</b>; <i>kw...</i>) in Tracker at <a href=\"file:///home/shmuma/.julia/packages/Tracker/YNNTM/src/lib/array.jl\" target=\"_blank\">/home/shmuma/.julia/packages/Tracker/YNNTM/src/lib/array.jl:148</a></li> <li> repeat(x::<b>TArray</b>; <i>kw...</i>) in Libtask at <a href=\"file:///home/shmuma/.julia/packages/Libtask/RQkfZ/src/tarray.jl\" target=\"_blank\">/home/shmuma/.julia/packages/Libtask/RQkfZ/src/tarray.jl:244</a></li> <li> repeat(a::<b>AbstractArray{T,1} where T</b>, m::<b>Integer</b>) in Base at <a href=\"https://github.com/JuliaLang/julia/tree/788b2c77c10c2160f4794a4d4b6b81a95a90940c/base/abstractarraymath.jl#L289\" target=\"_blank\">abstractarraymath.jl:289</a></li> <li> repeat(a::<b>Union{AbstractArray{T,1}, AbstractArray{T,2}} where T</b>, m::<b>Integer</b>) in Base at <a href=\"https://github.com/JuliaLang/julia/tree/788b2c77c10c2160f4794a4d4b6b81a95a90940c/base/abstractarraymath.jl#L275\" target=\"_blank\">abstractarraymath.jl:275</a></li> <li> repeat(a::<b>Union{AbstractArray{T,1}, AbstractArray{T,2}} where T</b>, m::<b>Integer</b>, n::<b>Integer</b>) in Base at <a href=\"https://github.com/JuliaLang/julia/tree/788b2c77c10c2160f4794a4d4b6b81a95a90940c/base/abstractarraymath.jl#L275\" target=\"_blank\">abstractarraymath.jl:275</a></li> <li> repeat(A::<b>AbstractArray</b>; <i>inner, outer</i>) in Base at <a href=\"https://github.com/JuliaLang/julia/tree/788b2c77c10c2160f4794a4d4b6b81a95a90940c/base/abstractarraymath.jl#L332\" target=\"_blank\">abstractarraymath.jl:332</a></li> <li> repeat(a::<b>AbstractArray</b>, counts::<b>Integer...</b>) in Base at <a href=\"https://github.com/JuliaLang/julia/tree/788b2c77c10c2160f4794a4d4b6b81a95a90940c/base/abstractarraymath.jl#L273\" target=\"_blank\">abstractarraymath.jl:273</a></li> <li> repeat(s::<b>Union{SubString{String}, String}</b>, r::<b>Integer</b>) in Base at <a href=\"https://github.com/JuliaLang/julia/tree/788b2c77c10c2160f4794a4d4b6b81a95a90940c/base/strings/substring.jl#L199\" target=\"_blank\">strings/substring.jl:199</a></li> <li> repeat(s::<b>AbstractString</b>, r::<b>Integer</b>) in Base at <a href=\"https://github.com/JuliaLang/julia/tree/788b2c77c10c2160f4794a4d4b6b81a95a90940c/base/strings/basic.jl#L687\" target=\"_blank\">strings/basic.jl:687</a></li> <li> repeat(c::<b>Char</b>, r::<b>Integer</b>) in Base at <a href=\"https://github.com/JuliaLang/julia/tree/788b2c77c10c2160f4794a4d4b6b81a95a90940c/base/strings/string.jl#L320\" target=\"_blank\">strings/string.jl:320</a></li> <li> repeat(c::<b>AbstractChar</b>, r::<b>Integer</b>) in Base at <a href=\"https://github.com/JuliaLang/julia/tree/788b2c77c10c2160f4794a4d4b6b81a95a90940c/base/strings/string.jl#L319\" target=\"_blank\">strings/string.jl:319</a></li> </ul>"
      ],
      "text/plain": [
       "# 11 methods for generic function \"repeat\":\n",
       "[1] repeat(xs::Tracker.TrackedArray; kw...) in Tracker at /home/shmuma/.julia/packages/Tracker/YNNTM/src/lib/array.jl:148\n",
       "[2] repeat(x::TArray; kw...) in Libtask at /home/shmuma/.julia/packages/Libtask/RQkfZ/src/tarray.jl:244\n",
       "[3] repeat(a::AbstractArray{T,1} where T, m::Integer) in Base at abstractarraymath.jl:289\n",
       "[4] repeat(a::Union{AbstractArray{T,1}, AbstractArray{T,2}} where T, m::Integer) in Base at abstractarraymath.jl:275\n",
       "[5] repeat(a::Union{AbstractArray{T,1}, AbstractArray{T,2}} where T, m::Integer, n::Integer) in Base at abstractarraymath.jl:275\n",
       "[6] repeat(A::AbstractArray; inner, outer) in Base at abstractarraymath.jl:332\n",
       "[7] repeat(a::AbstractArray, counts::Integer...) in Base at abstractarraymath.jl:273\n",
       "[8] repeat(s::Union{SubString{String}, String}, r::Integer) in Base at strings/substring.jl:199\n",
       "[9] repeat(s::AbstractString, r::Integer) in Base at strings/basic.jl:687\n",
       "[10] repeat(c::Char, r::Integer) in Base at strings/string.jl:320\n",
       "[11] repeat(c::AbstractChar, r::Integer) in Base at strings/string.jl:319"
      ]
     },
     "execution_count": 19,
     "metadata": {},
     "output_type": "execute_result"
    }
   ],
   "source": [
    "methods(repeat)"
   ]
  },
  {
   "cell_type": "code",
   "execution_count": 21,
   "id": "0e5e9bb2",
   "metadata": {},
   "outputs": [
    {
     "data": {
      "text/plain": [
       "10-element Array{Int64,1}:\n",
       " 10\n",
       " 10\n",
       " 10\n",
       " 10\n",
       " 10\n",
       " 10\n",
       " 10\n",
       " 10\n",
       " 10\n",
       " 10"
      ]
     },
     "execution_count": 21,
     "metadata": {},
     "output_type": "execute_result"
    }
   ],
   "source": [
    "repeat([1], 10)"
   ]
  },
  {
   "cell_type": "code",
   "execution_count": 22,
   "id": "8588a67b",
   "metadata": {},
   "outputs": [
    {
     "data": {
      "text/plain": [
       "Binomial{Float64}(n=9, p=0.5)"
      ]
     },
     "execution_count": 22,
     "metadata": {},
     "output_type": "execute_result"
    }
   ],
   "source": [
    "b = Binomial(9, 0.5)"
   ]
  },
  {
   "cell_type": "code",
   "execution_count": 24,
   "id": "f84ecfbc",
   "metadata": {},
   "outputs": [
    {
     "data": {
      "text/plain": [
       "0.1640625000000001"
      ]
     },
     "execution_count": 24,
     "metadata": {},
     "output_type": "execute_result"
    }
   ],
   "source": [
    "pdf(b, 6)"
   ]
  },
  {
   "cell_type": "code",
   "execution_count": 25,
   "id": "0e784caf",
   "metadata": {},
   "outputs": [
    {
     "data": {
      "text/plain": [
       "0.0:0.05263157894736842:1.0"
      ]
     },
     "execution_count": 25,
     "metadata": {},
     "output_type": "execute_result"
    }
   ],
   "source": [
    "p_grid = range(0, 1; length=20)"
   ]
  },
  {
   "cell_type": "code",
   "execution_count": 27,
   "id": "5acbbb12",
   "metadata": {},
   "outputs": [
    {
     "data": {
      "text/plain": [
       "20-element Array{Float64,1}:\n",
       " 0.0\n",
       " 1.5181489823498353e-6\n",
       " 8.185092949558011e-5\n",
       " 0.0007772922789631156\n",
       " 0.0035985753655699746\n",
       " 0.01116094609366412\n",
       " 0.0266829865137807\n",
       " 0.052921099147992784\n",
       " 0.09082697598243343\n",
       " 0.13834132601662863\n",
       " 0.18976862279372927\n",
       " 0.23611465826683395\n",
       " 0.26661125168434857\n",
       " 0.27140056190174167\n",
       " 0.24500508864811482\n",
       " 0.18976862279372927\n",
       " 0.1179181175789971\n",
       " 0.05026670207647313\n",
       " 0.008853844865064258\n",
       " 0.0"
      ]
     },
     "execution_count": 27,
     "metadata": {},
     "output_type": "execute_result"
    }
   ],
   "source": []
  },
  {
   "cell_type": "code",
   "execution_count": 29,
   "id": "5da3b16f",
   "metadata": {},
   "outputs": [
    {
     "name": "stdout",
     "output_type": "stream",
     "text": [
      "search: \u001b[0m\u001b[1mp\u001b[22m\u001b[0m\u001b[1ml\u001b[22m\u001b[0m\u001b[1mo\u001b[22m\u001b[0m\u001b[1mt\u001b[22m \u001b[0m\u001b[1mp\u001b[22m\u001b[0m\u001b[1ml\u001b[22m\u001b[0m\u001b[1mo\u001b[22m\u001b[0m\u001b[1mt\u001b[22m! \u001b[0m\u001b[1mp\u001b[22m\u001b[0m\u001b[1ml\u001b[22m\u001b[0m\u001b[1mo\u001b[22m\u001b[0m\u001b[1mt\u001b[22mly \u001b[0m\u001b[1mp\u001b[22m\u001b[0m\u001b[1ml\u001b[22m\u001b[0m\u001b[1mo\u001b[22m\u001b[0m\u001b[1mt\u001b[22m3d \u001b[0m\u001b[1mP\u001b[22m\u001b[0m\u001b[1ml\u001b[22m\u001b[0m\u001b[1mo\u001b[22m\u001b[0m\u001b[1mt\u001b[22ms \u001b[0m\u001b[1mp\u001b[22m\u001b[0m\u001b[1ml\u001b[22m\u001b[0m\u001b[1mo\u001b[22m\u001b[0m\u001b[1mt\u001b[22m3d! \u001b[0m\u001b[1mp\u001b[22m\u001b[0m\u001b[1ml\u001b[22m\u001b[0m\u001b[1mo\u001b[22m\u001b[0m\u001b[1mt\u001b[22mlyjs \u001b[0m\u001b[1mp\u001b[22m\u001b[0m\u001b[1ml\u001b[22m\u001b[0m\u001b[1mo\u001b[22m\u001b[0m\u001b[1mt\u001b[22mattr \u001b[0m\u001b[1mp\u001b[22m\u001b[0m\u001b[1ml\u001b[22m\u001b[0m\u001b[1mo\u001b[22m\u001b[0m\u001b[1mt\u001b[22marea\n",
      "\n"
     ]
    },
    {
     "data": {
      "text/latex": [
       "The main plot command. Use \\texttt{plot} to create a new plot object, and \\texttt{plot!} to add to an existing one:\n",
       "\n",
       "\\begin{verbatim}\n",
       "    plot(args...; kw...)                  # creates a new plot window, and sets it to be the current\n",
       "    plot!(args...; kw...)                 # adds to the `current`\n",
       "    plot!(plotobj, args...; kw...)        # adds to the plot `plotobj`\n",
       "\\end{verbatim}\n",
       "There are lots of ways to pass in data, and lots of keyword arguments... just try it and it will likely work as expected. When you pass in matrices, it splits by columns. To see the list of available attributes, use the \\texttt{plotattr([attr])} function, where \\texttt{attr} is the symbol \\texttt{:Series}, \\texttt{:Subplot}, \\texttt{:Plot}, or \\texttt{:Axis}. Pass any attribute to \\texttt{plotattr} as a String to look up its docstring, e.g., \\texttt{plotattr(\"seriestype\")}.\n",
       "\n"
      ],
      "text/markdown": [
       "The main plot command. Use `plot` to create a new plot object, and `plot!` to add to an existing one:\n",
       "\n",
       "```\n",
       "    plot(args...; kw...)                  # creates a new plot window, and sets it to be the current\n",
       "    plot!(args...; kw...)                 # adds to the `current`\n",
       "    plot!(plotobj, args...; kw...)        # adds to the plot `plotobj`\n",
       "```\n",
       "\n",
       "There are lots of ways to pass in data, and lots of keyword arguments... just try it and it will likely work as expected. When you pass in matrices, it splits by columns. To see the list of available attributes, use the `plotattr([attr])` function, where `attr` is the symbol `:Series`, `:Subplot`, `:Plot`, or `:Axis`. Pass any attribute to `plotattr` as a String to look up its docstring, e.g., `plotattr(\"seriestype\")`.\n"
      ],
      "text/plain": [
       "  The main plot command. Use \u001b[36mplot\u001b[39m to create a new plot object, and \u001b[36mplot!\u001b[39m to\n",
       "  add to an existing one:\n",
       "\n",
       "\u001b[36m      plot(args...; kw...)                  # creates a new plot window, and sets it to be the current\u001b[39m\n",
       "\u001b[36m      plot!(args...; kw...)                 # adds to the `current`\u001b[39m\n",
       "\u001b[36m      plot!(plotobj, args...; kw...)        # adds to the plot `plotobj`\u001b[39m\n",
       "\n",
       "  There are lots of ways to pass in data, and lots of keyword arguments...\n",
       "  just try it and it will likely work as expected. When you pass in matrices,\n",
       "  it splits by columns. To see the list of available attributes, use the\n",
       "  \u001b[36mplotattr([attr])\u001b[39m function, where \u001b[36mattr\u001b[39m is the symbol \u001b[36m:Series\u001b[39m, \u001b[36m:Subplot\u001b[39m,\n",
       "  \u001b[36m:Plot\u001b[39m, or \u001b[36m:Axis\u001b[39m. Pass any attribute to \u001b[36mplotattr\u001b[39m as a String to look up its\n",
       "  docstring, e.g., \u001b[36mplotattr(\"seriestype\")\u001b[39m."
      ]
     },
     "execution_count": 29,
     "metadata": {},
     "output_type": "execute_result"
    }
   ],
   "source": [
    "?plot"
   ]
  },
  {
   "cell_type": "code",
   "execution_count": 31,
   "id": "b99de928",
   "metadata": {},
   "outputs": [
    {
     "name": "stdout",
     "output_type": "stream",
     "text": [
      "Defined Series attributes are:\n",
      "arrow, bar_edges, bar_position, bar_width, bins, colorbar_entry, connections, contour_labels, contours, extra_kwargs, fill_z, fillalpha, fillcolor, fillrange, group, hover, label, levels, line_z, linealpha, linecolor, linestyle, linewidth, marker_z, markeralpha, markercolor, markershape, markersize, markerstrokealpha, markerstrokecolor, markerstrokestyle, markerstrokewidth, normalize, orientation, primary, quiver, ribbon, series_annotations, seriesalpha, seriescolor, seriestype, show_empty_bins, smooth, stride, subplot, weights, x, xerror, y, yerror, z, zerror\n"
     ]
    }
   ],
   "source": [
    "plotattr(:Series)"
   ]
  },
  {
   "cell_type": "code",
   "execution_count": 32,
   "id": "d046fcd2",
   "metadata": {},
   "outputs": [
    {
     "data": {
      "text/html": [
       "# 4 methods for generic function <b>plot</b>:<ul><li> plot(plt1::<b>Plots.Plot</b>, plt2::<b>Plots.Plot</b>, plts_tail::<b>Plots.Plot...</b>; <i>kw...</i>) in Plots at <a href=\"file:///home/shmuma/.julia/packages/Plots/Awg62/src/plot.jl\" target=\"_blank\">/home/shmuma/.julia/packages/Plots/Awg62/src/plot.jl:94</a></li> <li> plot(plt::<b>Plots.Plot</b>, args...; <i>kw...</i>) in Plots at <a href=\"file:///home/shmuma/.julia/packages/Plots/Awg62/src/plot.jl\" target=\"_blank\">/home/shmuma/.julia/packages/Plots/Awg62/src/plot.jl:191</a></li> <li> plot(sp::<b>Plots.Subplot</b>, args...; <i>kw...</i>) in Plots at <a href=\"file:///home/shmuma/.julia/packages/Plots/Awg62/src/plot.jl\" target=\"_blank\">/home/shmuma/.julia/packages/Plots/Awg62/src/plot.jl:257</a></li> <li> plot(args...; <i>kw...</i>) in Plots at <a href=\"file:///home/shmuma/.julia/packages/Plots/Awg62/src/plot.jl\" target=\"_blank\">/home/shmuma/.julia/packages/Plots/Awg62/src/plot.jl:80</a></li> </ul>"
      ],
      "text/plain": [
       "# 4 methods for generic function \"plot\":\n",
       "[1] plot(plt1::Plots.Plot, plt2::Plots.Plot, plts_tail::Plots.Plot...; kw...) in Plots at /home/shmuma/.julia/packages/Plots/Awg62/src/plot.jl:94\n",
       "[2] plot(plt::Plots.Plot, args...; kw...) in Plots at /home/shmuma/.julia/packages/Plots/Awg62/src/plot.jl:191\n",
       "[3] plot(sp::Plots.Subplot, args...; kw...) in Plots at /home/shmuma/.julia/packages/Plots/Awg62/src/plot.jl:257\n",
       "[4] plot(args...; kw...) in Plots at /home/shmuma/.julia/packages/Plots/Awg62/src/plot.jl:80"
      ]
     },
     "execution_count": 32,
     "metadata": {},
     "output_type": "execute_result"
    }
   ],
   "source": [
    "methods(plot)"
   ]
  },
  {
   "cell_type": "code",
   "execution_count": 33,
   "id": "c3afd0a4",
   "metadata": {},
   "outputs": [
    {
     "data": {
      "text/plain": [
       "0.0:0.05263157894736842:1.0"
      ]
     },
     "execution_count": 33,
     "metadata": {},
     "output_type": "execute_result"
    }
   ],
   "source": [
    "size = 20\n",
    "p_grid = range(0, 1; length=size)"
   ]
  },
  {
   "cell_type": "code",
   "execution_count": 40,
   "id": "91f52c76",
   "metadata": {},
   "outputs": [
    {
     "data": {
      "text/plain": [
       "20-element Array{AbstractFloat,1}:\n",
       " 0.0\n",
       " 0.0\n",
       " 0.0\n",
       " 0.0\n",
       " 0.0\n",
       " 0.0\n",
       " 0.0\n",
       " 0.0\n",
       " 0.0\n",
       " 0.0\n",
       " 1.0\n",
       " 1.0\n",
       " 1.0\n",
       " 1.0\n",
       " 1.0\n",
       " 1.0\n",
       " 1.0\n",
       " 1.0\n",
       " 1.0\n",
       " 1.0"
      ]
     },
     "execution_count": 40,
     "metadata": {},
     "output_type": "execute_result"
    }
   ],
   "source": []
  },
  {
   "cell_type": "code",
   "execution_count": 51,
   "id": "c2447148",
   "metadata": {},
   "outputs": [
    {
     "data": {
      "image/svg+xml": [
       "<?xml version=\"1.0\" encoding=\"utf-8\"?>\n",
       "<svg xmlns=\"http://www.w3.org/2000/svg\" xmlns:xlink=\"http://www.w3.org/1999/xlink\" width=\"600\" height=\"400\" viewBox=\"0 0 2400 1600\">\n",
       "<defs>\n",
       "  <clipPath id=\"clip180\">\n",
       "    <rect x=\"0\" y=\"0\" width=\"2400\" height=\"1600\"/>\n",
       "  </clipPath>\n",
       "</defs>\n",
       "<path clip-path=\"url(#clip180)\" d=\"\n",
       "M0 1600 L2400 1600 L2400 0 L0 0  Z\n",
       "  \" fill=\"#ffffff\" fill-rule=\"evenodd\" fill-opacity=\"1\"/>\n",
       "<defs>\n",
       "  <clipPath id=\"clip181\">\n",
       "    <rect x=\"480\" y=\"0\" width=\"1681\" height=\"1600\"/>\n",
       "  </clipPath>\n",
       "</defs>\n",
       "<path clip-path=\"url(#clip180)\" d=\"\n",
       "M156.598 1486.45 L2352.76 1486.45 L2352.76 47.2441 L156.598 47.2441  Z\n",
       "  \" fill=\"#ffffff\" fill-rule=\"evenodd\" fill-opacity=\"1\"/>\n",
       "<defs>\n",
       "  <clipPath id=\"clip182\">\n",
       "    <rect x=\"156\" y=\"47\" width=\"2197\" height=\"1440\"/>\n",
       "  </clipPath>\n",
       "</defs>\n",
       "<polyline clip-path=\"url(#clip182)\" style=\"stroke:#000000; stroke-linecap:butt; stroke-linejoin:round; stroke-width:2; stroke-opacity:0.1; fill:none\" points=\"\n",
       "  218.754,1486.45 218.754,47.2441 \n",
       "  \"/>\n",
       "<polyline clip-path=\"url(#clip182)\" style=\"stroke:#000000; stroke-linecap:butt; stroke-linejoin:round; stroke-width:2; stroke-opacity:0.1; fill:none\" points=\"\n",
       "  736.715,1486.45 736.715,47.2441 \n",
       "  \"/>\n",
       "<polyline clip-path=\"url(#clip182)\" style=\"stroke:#000000; stroke-linecap:butt; stroke-linejoin:round; stroke-width:2; stroke-opacity:0.1; fill:none\" points=\"\n",
       "  1254.68,1486.45 1254.68,47.2441 \n",
       "  \"/>\n",
       "<polyline clip-path=\"url(#clip182)\" style=\"stroke:#000000; stroke-linecap:butt; stroke-linejoin:round; stroke-width:2; stroke-opacity:0.1; fill:none\" points=\"\n",
       "  1772.64,1486.45 1772.64,47.2441 \n",
       "  \"/>\n",
       "<polyline clip-path=\"url(#clip182)\" style=\"stroke:#000000; stroke-linecap:butt; stroke-linejoin:round; stroke-width:2; stroke-opacity:0.1; fill:none\" points=\"\n",
       "  2290.6,1486.45 2290.6,47.2441 \n",
       "  \"/>\n",
       "<polyline clip-path=\"url(#clip180)\" style=\"stroke:#000000; stroke-linecap:butt; stroke-linejoin:round; stroke-width:4; stroke-opacity:1; fill:none\" points=\"\n",
       "  156.598,1486.45 2352.76,1486.45 \n",
       "  \"/>\n",
       "<polyline clip-path=\"url(#clip180)\" style=\"stroke:#000000; stroke-linecap:butt; stroke-linejoin:round; stroke-width:4; stroke-opacity:1; fill:none\" points=\"\n",
       "  218.754,1486.45 218.754,1467.55 \n",
       "  \"/>\n",
       "<polyline clip-path=\"url(#clip180)\" style=\"stroke:#000000; stroke-linecap:butt; stroke-linejoin:round; stroke-width:4; stroke-opacity:1; fill:none\" points=\"\n",
       "  736.715,1486.45 736.715,1467.55 \n",
       "  \"/>\n",
       "<polyline clip-path=\"url(#clip180)\" style=\"stroke:#000000; stroke-linecap:butt; stroke-linejoin:round; stroke-width:4; stroke-opacity:1; fill:none\" points=\"\n",
       "  1254.68,1486.45 1254.68,1467.55 \n",
       "  \"/>\n",
       "<polyline clip-path=\"url(#clip180)\" style=\"stroke:#000000; stroke-linecap:butt; stroke-linejoin:round; stroke-width:4; stroke-opacity:1; fill:none\" points=\"\n",
       "  1772.64,1486.45 1772.64,1467.55 \n",
       "  \"/>\n",
       "<polyline clip-path=\"url(#clip180)\" style=\"stroke:#000000; stroke-linecap:butt; stroke-linejoin:round; stroke-width:4; stroke-opacity:1; fill:none\" points=\"\n",
       "  2290.6,1486.45 2290.6,1467.55 \n",
       "  \"/>\n",
       "<path clip-path=\"url(#clip180)\" d=\"M181.057 1515.64 Q177.446 1515.64 175.617 1519.2 Q173.812 1522.75 173.812 1529.87 Q173.812 1536.98 175.617 1540.55 Q177.446 1544.09 181.057 1544.09 Q184.691 1544.09 186.497 1540.55 Q188.326 1536.98 188.326 1529.87 Q188.326 1522.75 186.497 1519.2 Q184.691 1515.64 181.057 1515.64 M181.057 1511.93 Q186.867 1511.93 189.923 1516.54 Q193.001 1521.12 193.001 1529.87 Q193.001 1538.6 189.923 1543.21 Q186.867 1547.79 181.057 1547.79 Q175.247 1547.79 172.168 1543.21 Q169.113 1538.6 169.113 1529.87 Q169.113 1521.12 172.168 1516.54 Q175.247 1511.93 181.057 1511.93 Z\" fill=\"#000000\" fill-rule=\"evenodd\" fill-opacity=\"1\" /><path clip-path=\"url(#clip180)\" d=\"M201.219 1541.24 L206.103 1541.24 L206.103 1547.12 L201.219 1547.12 L201.219 1541.24 Z\" fill=\"#000000\" fill-rule=\"evenodd\" fill-opacity=\"1\" /><path clip-path=\"url(#clip180)\" d=\"M226.288 1515.64 Q222.677 1515.64 220.849 1519.2 Q219.043 1522.75 219.043 1529.87 Q219.043 1536.98 220.849 1540.55 Q222.677 1544.09 226.288 1544.09 Q229.923 1544.09 231.728 1540.55 Q233.557 1536.98 233.557 1529.87 Q233.557 1522.75 231.728 1519.2 Q229.923 1515.64 226.288 1515.64 M226.288 1511.93 Q232.098 1511.93 235.154 1516.54 Q238.233 1521.12 238.233 1529.87 Q238.233 1538.6 235.154 1543.21 Q232.098 1547.79 226.288 1547.79 Q220.478 1547.79 217.399 1543.21 Q214.344 1538.6 214.344 1529.87 Q214.344 1521.12 217.399 1516.54 Q220.478 1511.93 226.288 1511.93 Z\" fill=\"#000000\" fill-rule=\"evenodd\" fill-opacity=\"1\" /><path clip-path=\"url(#clip180)\" d=\"M256.45 1515.64 Q252.839 1515.64 251.01 1519.2 Q249.205 1522.75 249.205 1529.87 Q249.205 1536.98 251.01 1540.55 Q252.839 1544.09 256.45 1544.09 Q260.084 1544.09 261.89 1540.55 Q263.719 1536.98 263.719 1529.87 Q263.719 1522.75 261.89 1519.2 Q260.084 1515.64 256.45 1515.64 M256.45 1511.93 Q262.26 1511.93 265.316 1516.54 Q268.395 1521.12 268.395 1529.87 Q268.395 1538.6 265.316 1543.21 Q262.26 1547.79 256.45 1547.79 Q250.64 1547.79 247.561 1543.21 Q244.506 1538.6 244.506 1529.87 Q244.506 1521.12 247.561 1516.54 Q250.64 1511.93 256.45 1511.93 Z\" fill=\"#000000\" fill-rule=\"evenodd\" fill-opacity=\"1\" /><path clip-path=\"url(#clip180)\" d=\"M699.516 1515.64 Q695.905 1515.64 694.077 1519.2 Q692.271 1522.75 692.271 1529.87 Q692.271 1536.98 694.077 1540.55 Q695.905 1544.09 699.516 1544.09 Q703.151 1544.09 704.956 1540.55 Q706.785 1536.98 706.785 1529.87 Q706.785 1522.75 704.956 1519.2 Q703.151 1515.64 699.516 1515.64 M699.516 1511.93 Q705.327 1511.93 708.382 1516.54 Q711.461 1521.12 711.461 1529.87 Q711.461 1538.6 708.382 1543.21 Q705.327 1547.79 699.516 1547.79 Q693.706 1547.79 690.628 1543.21 Q687.572 1538.6 687.572 1529.87 Q687.572 1521.12 690.628 1516.54 Q693.706 1511.93 699.516 1511.93 Z\" fill=\"#000000\" fill-rule=\"evenodd\" fill-opacity=\"1\" /><path clip-path=\"url(#clip180)\" d=\"M719.678 1541.24 L724.563 1541.24 L724.563 1547.12 L719.678 1547.12 L719.678 1541.24 Z\" fill=\"#000000\" fill-rule=\"evenodd\" fill-opacity=\"1\" /><path clip-path=\"url(#clip180)\" d=\"M738.776 1543.18 L755.095 1543.18 L755.095 1547.12 L733.151 1547.12 L733.151 1543.18 Q735.813 1540.43 740.396 1535.8 Q745.002 1531.15 746.183 1529.81 Q748.428 1527.28 749.308 1525.55 Q750.211 1523.79 750.211 1522.1 Q750.211 1519.34 748.266 1517.61 Q746.345 1515.87 743.243 1515.87 Q741.044 1515.87 738.59 1516.63 Q736.16 1517.4 733.382 1518.95 L733.382 1514.23 Q736.206 1513.09 738.66 1512.51 Q741.113 1511.93 743.151 1511.93 Q748.521 1511.93 751.715 1514.62 Q754.91 1517.31 754.91 1521.8 Q754.91 1523.93 754.1 1525.85 Q753.312 1527.74 751.206 1530.34 Q750.627 1531.01 747.525 1534.23 Q744.424 1537.42 738.776 1543.18 Z\" fill=\"#000000\" fill-rule=\"evenodd\" fill-opacity=\"1\" /><path clip-path=\"url(#clip180)\" d=\"M764.956 1512.56 L783.312 1512.56 L783.312 1516.5 L769.238 1516.5 L769.238 1524.97 Q770.257 1524.62 771.275 1524.46 Q772.294 1524.27 773.312 1524.27 Q779.099 1524.27 782.479 1527.44 Q785.859 1530.62 785.859 1536.03 Q785.859 1541.61 782.386 1544.71 Q778.914 1547.79 772.595 1547.79 Q770.419 1547.79 768.15 1547.42 Q765.905 1547.05 763.498 1546.31 L763.498 1541.61 Q765.581 1542.74 767.803 1543.3 Q770.025 1543.86 772.502 1543.86 Q776.507 1543.86 778.845 1541.75 Q781.183 1539.64 781.183 1536.03 Q781.183 1532.42 778.845 1530.31 Q776.507 1528.21 772.502 1528.21 Q770.627 1528.21 768.752 1528.62 Q766.9 1529.04 764.956 1529.92 L764.956 1512.56 Z\" fill=\"#000000\" fill-rule=\"evenodd\" fill-opacity=\"1\" /><path clip-path=\"url(#clip180)\" d=\"M1216.98 1515.64 Q1213.37 1515.64 1211.54 1519.2 Q1209.74 1522.75 1209.74 1529.87 Q1209.74 1536.98 1211.54 1540.55 Q1213.37 1544.09 1216.98 1544.09 Q1220.61 1544.09 1222.42 1540.55 Q1224.25 1536.98 1224.25 1529.87 Q1224.25 1522.75 1222.42 1519.2 Q1220.61 1515.64 1216.98 1515.64 M1216.98 1511.93 Q1222.79 1511.93 1225.85 1516.54 Q1228.92 1521.12 1228.92 1529.87 Q1228.92 1538.6 1225.85 1543.21 Q1222.79 1547.79 1216.98 1547.79 Q1211.17 1547.79 1208.09 1543.21 Q1205.04 1538.6 1205.04 1529.87 Q1205.04 1521.12 1208.09 1516.54 Q1211.17 1511.93 1216.98 1511.93 Z\" fill=\"#000000\" fill-rule=\"evenodd\" fill-opacity=\"1\" /><path clip-path=\"url(#clip180)\" d=\"M1237.14 1541.24 L1242.03 1541.24 L1242.03 1547.12 L1237.14 1547.12 L1237.14 1541.24 Z\" fill=\"#000000\" fill-rule=\"evenodd\" fill-opacity=\"1\" /><path clip-path=\"url(#clip180)\" d=\"M1252.26 1512.56 L1270.61 1512.56 L1270.61 1516.5 L1256.54 1516.5 L1256.54 1524.97 Q1257.56 1524.62 1258.58 1524.46 Q1259.6 1524.27 1260.61 1524.27 Q1266.4 1524.27 1269.78 1527.44 Q1273.16 1530.62 1273.16 1536.03 Q1273.16 1541.61 1269.69 1544.71 Q1266.22 1547.79 1259.9 1547.79 Q1257.72 1547.79 1255.45 1547.42 Q1253.21 1547.05 1250.8 1546.31 L1250.8 1541.61 Q1252.88 1542.74 1255.11 1543.3 Q1257.33 1543.86 1259.8 1543.86 Q1263.81 1543.86 1266.15 1541.75 Q1268.48 1539.64 1268.48 1536.03 Q1268.48 1532.42 1266.15 1530.31 Q1263.81 1528.21 1259.8 1528.21 Q1257.93 1528.21 1256.05 1528.62 Q1254.2 1529.04 1252.26 1529.92 L1252.26 1512.56 Z\" fill=\"#000000\" fill-rule=\"evenodd\" fill-opacity=\"1\" /><path clip-path=\"url(#clip180)\" d=\"M1292.37 1515.64 Q1288.76 1515.64 1286.93 1519.2 Q1285.13 1522.75 1285.13 1529.87 Q1285.13 1536.98 1286.93 1540.55 Q1288.76 1544.09 1292.37 1544.09 Q1296.01 1544.09 1297.81 1540.55 Q1299.64 1536.98 1299.64 1529.87 Q1299.64 1522.75 1297.81 1519.2 Q1296.01 1515.64 1292.37 1515.64 M1292.37 1511.93 Q1298.18 1511.93 1301.24 1516.54 Q1304.32 1521.12 1304.32 1529.87 Q1304.32 1538.6 1301.24 1543.21 Q1298.18 1547.79 1292.37 1547.79 Q1286.56 1547.79 1283.48 1543.21 Q1280.43 1538.6 1280.43 1529.87 Q1280.43 1521.12 1283.48 1516.54 Q1286.56 1511.93 1292.37 1511.93 Z\" fill=\"#000000\" fill-rule=\"evenodd\" fill-opacity=\"1\" /><path clip-path=\"url(#clip180)\" d=\"M1735.44 1515.64 Q1731.83 1515.64 1730 1519.2 Q1728.19 1522.75 1728.19 1529.87 Q1728.19 1536.98 1730 1540.55 Q1731.83 1544.09 1735.44 1544.09 Q1739.07 1544.09 1740.88 1540.55 Q1742.71 1536.98 1742.71 1529.87 Q1742.71 1522.75 1740.88 1519.2 Q1739.07 1515.64 1735.44 1515.64 M1735.44 1511.93 Q1741.25 1511.93 1744.31 1516.54 Q1747.38 1521.12 1747.38 1529.87 Q1747.38 1538.6 1744.31 1543.21 Q1741.25 1547.79 1735.44 1547.79 Q1729.63 1547.79 1726.55 1543.21 Q1723.5 1538.6 1723.5 1529.87 Q1723.5 1521.12 1726.55 1516.54 Q1729.63 1511.93 1735.44 1511.93 Z\" fill=\"#000000\" fill-rule=\"evenodd\" fill-opacity=\"1\" /><path clip-path=\"url(#clip180)\" d=\"M1755.6 1541.24 L1760.49 1541.24 L1760.49 1547.12 L1755.6 1547.12 L1755.6 1541.24 Z\" fill=\"#000000\" fill-rule=\"evenodd\" fill-opacity=\"1\" /><path clip-path=\"url(#clip180)\" d=\"M1769.49 1512.56 L1791.71 1512.56 L1791.71 1514.55 L1779.17 1547.12 L1774.28 1547.12 L1786.09 1516.5 L1769.49 1516.5 L1769.49 1512.56 Z\" fill=\"#000000\" fill-rule=\"evenodd\" fill-opacity=\"1\" /><path clip-path=\"url(#clip180)\" d=\"M1800.88 1512.56 L1819.24 1512.56 L1819.24 1516.5 L1805.16 1516.5 L1805.16 1524.97 Q1806.18 1524.62 1807.2 1524.46 Q1808.22 1524.27 1809.24 1524.27 Q1815.02 1524.27 1818.4 1527.44 Q1821.78 1530.62 1821.78 1536.03 Q1821.78 1541.61 1818.31 1544.71 Q1814.84 1547.79 1808.52 1547.79 Q1806.34 1547.79 1804.07 1547.42 Q1801.83 1547.05 1799.42 1546.31 L1799.42 1541.61 Q1801.5 1542.74 1803.73 1543.3 Q1805.95 1543.86 1808.43 1543.86 Q1812.43 1543.86 1814.77 1541.75 Q1817.11 1539.64 1817.11 1536.03 Q1817.11 1532.42 1814.77 1530.31 Q1812.43 1528.21 1808.43 1528.21 Q1806.55 1528.21 1804.68 1528.62 Q1802.82 1529.04 1800.88 1529.92 L1800.88 1512.56 Z\" fill=\"#000000\" fill-rule=\"evenodd\" fill-opacity=\"1\" /><path clip-path=\"url(#clip180)\" d=\"M2242.67 1543.18 L2250.31 1543.18 L2250.31 1516.82 L2242 1518.49 L2242 1514.23 L2250.27 1512.56 L2254.94 1512.56 L2254.94 1543.18 L2262.58 1543.18 L2262.58 1547.12 L2242.67 1547.12 L2242.67 1543.18 Z\" fill=\"#000000\" fill-rule=\"evenodd\" fill-opacity=\"1\" /><path clip-path=\"url(#clip180)\" d=\"M2272.02 1541.24 L2276.91 1541.24 L2276.91 1547.12 L2272.02 1547.12 L2272.02 1541.24 Z\" fill=\"#000000\" fill-rule=\"evenodd\" fill-opacity=\"1\" /><path clip-path=\"url(#clip180)\" d=\"M2297.09 1515.64 Q2293.48 1515.64 2291.65 1519.2 Q2289.85 1522.75 2289.85 1529.87 Q2289.85 1536.98 2291.65 1540.55 Q2293.48 1544.09 2297.09 1544.09 Q2300.73 1544.09 2302.53 1540.55 Q2304.36 1536.98 2304.36 1529.87 Q2304.36 1522.75 2302.53 1519.2 Q2300.73 1515.64 2297.09 1515.64 M2297.09 1511.93 Q2302.9 1511.93 2305.96 1516.54 Q2309.04 1521.12 2309.04 1529.87 Q2309.04 1538.6 2305.96 1543.21 Q2302.9 1547.79 2297.09 1547.79 Q2291.28 1547.79 2288.2 1543.21 Q2285.15 1538.6 2285.15 1529.87 Q2285.15 1521.12 2288.2 1516.54 Q2291.28 1511.93 2297.09 1511.93 Z\" fill=\"#000000\" fill-rule=\"evenodd\" fill-opacity=\"1\" /><path clip-path=\"url(#clip180)\" d=\"M2327.26 1515.64 Q2323.64 1515.64 2321.82 1519.2 Q2320.01 1522.75 2320.01 1529.87 Q2320.01 1536.98 2321.82 1540.55 Q2323.64 1544.09 2327.26 1544.09 Q2330.89 1544.09 2332.7 1540.55 Q2334.52 1536.98 2334.52 1529.87 Q2334.52 1522.75 2332.7 1519.2 Q2330.89 1515.64 2327.26 1515.64 M2327.26 1511.93 Q2333.07 1511.93 2336.12 1516.54 Q2339.2 1521.12 2339.2 1529.87 Q2339.2 1538.6 2336.12 1543.21 Q2333.07 1547.79 2327.26 1547.79 Q2321.45 1547.79 2318.37 1543.21 Q2315.31 1538.6 2315.31 1529.87 Q2315.31 1521.12 2318.37 1516.54 Q2321.45 1511.93 2327.26 1511.93 Z\" fill=\"#000000\" fill-rule=\"evenodd\" fill-opacity=\"1\" /><polyline clip-path=\"url(#clip182)\" style=\"stroke:#000000; stroke-linecap:butt; stroke-linejoin:round; stroke-width:2; stroke-opacity:0.1; fill:none\" points=\"\n",
       "  156.598,1244.24 2352.76,1244.24 \n",
       "  \"/>\n",
       "<polyline clip-path=\"url(#clip182)\" style=\"stroke:#000000; stroke-linecap:butt; stroke-linejoin:round; stroke-width:2; stroke-opacity:0.1; fill:none\" points=\"\n",
       "  156.598,902.509 2352.76,902.509 \n",
       "  \"/>\n",
       "<polyline clip-path=\"url(#clip182)\" style=\"stroke:#000000; stroke-linecap:butt; stroke-linejoin:round; stroke-width:2; stroke-opacity:0.1; fill:none\" points=\"\n",
       "  156.598,560.778 2352.76,560.778 \n",
       "  \"/>\n",
       "<polyline clip-path=\"url(#clip182)\" style=\"stroke:#000000; stroke-linecap:butt; stroke-linejoin:round; stroke-width:2; stroke-opacity:0.1; fill:none\" points=\"\n",
       "  156.598,219.047 2352.76,219.047 \n",
       "  \"/>\n",
       "<polyline clip-path=\"url(#clip180)\" style=\"stroke:#000000; stroke-linecap:butt; stroke-linejoin:round; stroke-width:4; stroke-opacity:1; fill:none\" points=\"\n",
       "  156.598,1486.45 156.598,47.2441 \n",
       "  \"/>\n",
       "<polyline clip-path=\"url(#clip180)\" style=\"stroke:#000000; stroke-linecap:butt; stroke-linejoin:round; stroke-width:4; stroke-opacity:1; fill:none\" points=\"\n",
       "  156.598,1244.24 175.496,1244.24 \n",
       "  \"/>\n",
       "<polyline clip-path=\"url(#clip180)\" style=\"stroke:#000000; stroke-linecap:butt; stroke-linejoin:round; stroke-width:4; stroke-opacity:1; fill:none\" points=\"\n",
       "  156.598,902.509 175.496,902.509 \n",
       "  \"/>\n",
       "<polyline clip-path=\"url(#clip180)\" style=\"stroke:#000000; stroke-linecap:butt; stroke-linejoin:round; stroke-width:4; stroke-opacity:1; fill:none\" points=\"\n",
       "  156.598,560.778 175.496,560.778 \n",
       "  \"/>\n",
       "<polyline clip-path=\"url(#clip180)\" style=\"stroke:#000000; stroke-linecap:butt; stroke-linejoin:round; stroke-width:4; stroke-opacity:1; fill:none\" points=\"\n",
       "  156.598,219.047 175.496,219.047 \n",
       "  \"/>\n",
       "<path clip-path=\"url(#clip180)\" d=\"M65.0198 1230.04 Q61.4087 1230.04 59.58 1233.6 Q57.7745 1237.14 57.7745 1244.27 Q57.7745 1251.38 59.58 1254.95 Q61.4087 1258.49 65.0198 1258.49 Q68.6541 1258.49 70.4596 1254.95 Q72.2883 1251.38 72.2883 1244.27 Q72.2883 1237.14 70.4596 1233.6 Q68.6541 1230.04 65.0198 1230.04 M65.0198 1226.33 Q70.83 1226.33 73.8855 1230.94 Q76.9642 1235.52 76.9642 1244.27 Q76.9642 1253 73.8855 1257.61 Q70.83 1262.19 65.0198 1262.19 Q59.2097 1262.19 56.131 1257.61 Q53.0754 1253 53.0754 1244.27 Q53.0754 1235.52 56.131 1230.94 Q59.2097 1226.33 65.0198 1226.33 Z\" fill=\"#000000\" fill-rule=\"evenodd\" fill-opacity=\"1\" /><path clip-path=\"url(#clip180)\" d=\"M85.1818 1255.64 L90.066 1255.64 L90.066 1261.52 L85.1818 1261.52 L85.1818 1255.64 Z\" fill=\"#000000\" fill-rule=\"evenodd\" fill-opacity=\"1\" /><path clip-path=\"url(#clip180)\" d=\"M104.279 1257.58 L120.598 1257.58 L120.598 1261.52 L98.6539 1261.52 L98.6539 1257.58 Q101.316 1254.83 105.899 1250.2 Q110.506 1245.55 111.686 1244.21 Q113.932 1241.68 114.811 1239.95 Q115.714 1238.19 115.714 1236.5 Q115.714 1233.74 113.77 1232.01 Q111.848 1230.27 108.746 1230.27 Q106.547 1230.27 104.094 1231.03 Q101.663 1231.8 98.8854 1233.35 L98.8854 1228.63 Q101.709 1227.49 104.163 1226.91 Q106.617 1226.33 108.654 1226.33 Q114.024 1226.33 117.219 1229.02 Q120.413 1231.71 120.413 1236.2 Q120.413 1238.33 119.603 1240.25 Q118.816 1242.14 116.709 1244.74 Q116.131 1245.41 113.029 1248.63 Q109.927 1251.82 104.279 1257.58 Z\" fill=\"#000000\" fill-rule=\"evenodd\" fill-opacity=\"1\" /><path clip-path=\"url(#clip180)\" d=\"M62.9365 888.308 Q59.3254 888.308 57.4967 891.872 Q55.6912 895.414 55.6912 902.544 Q55.6912 909.65 57.4967 913.215 Q59.3254 916.757 62.9365 916.757 Q66.5707 916.757 68.3763 913.215 Q70.205 909.65 70.205 902.544 Q70.205 895.414 68.3763 891.872 Q66.5707 888.308 62.9365 888.308 M62.9365 884.604 Q68.7467 884.604 71.8022 889.21 Q74.8809 893.794 74.8809 902.544 Q74.8809 911.27 71.8022 915.877 Q68.7467 920.46 62.9365 920.46 Q57.1264 920.46 54.0477 915.877 Q50.9921 911.27 50.9921 902.544 Q50.9921 893.794 54.0477 889.21 Q57.1264 884.604 62.9365 884.604 Z\" fill=\"#000000\" fill-rule=\"evenodd\" fill-opacity=\"1\" /><path clip-path=\"url(#clip180)\" d=\"M83.0984 913.909 L87.9827 913.909 L87.9827 919.789 L83.0984 919.789 L83.0984 913.909 Z\" fill=\"#000000\" fill-rule=\"evenodd\" fill-opacity=\"1\" /><path clip-path=\"url(#clip180)\" d=\"M111.015 889.303 L99.2095 907.752 L111.015 907.752 L111.015 889.303 M109.788 885.229 L115.668 885.229 L115.668 907.752 L120.598 907.752 L120.598 911.641 L115.668 911.641 L115.668 919.789 L111.015 919.789 L111.015 911.641 L95.4132 911.641 L95.4132 907.127 L109.788 885.229 Z\" fill=\"#000000\" fill-rule=\"evenodd\" fill-opacity=\"1\" /><path clip-path=\"url(#clip180)\" d=\"M63.2606 546.577 Q59.6495 546.577 57.8208 550.142 Q56.0152 553.683 56.0152 560.813 Q56.0152 567.919 57.8208 571.484 Q59.6495 575.026 63.2606 575.026 Q66.8948 575.026 68.7004 571.484 Q70.5291 567.919 70.5291 560.813 Q70.5291 553.683 68.7004 550.142 Q66.8948 546.577 63.2606 546.577 M63.2606 542.873 Q69.0707 542.873 72.1263 547.48 Q75.205 552.063 75.205 560.813 Q75.205 569.54 72.1263 574.146 Q69.0707 578.729 63.2606 578.729 Q57.4504 578.729 54.3717 574.146 Q51.3162 569.54 51.3162 560.813 Q51.3162 552.063 54.3717 547.48 Q57.4504 542.873 63.2606 542.873 Z\" fill=\"#000000\" fill-rule=\"evenodd\" fill-opacity=\"1\" /><path clip-path=\"url(#clip180)\" d=\"M83.4225 572.178 L88.3067 572.178 L88.3067 578.058 L83.4225 578.058 L83.4225 572.178 Z\" fill=\"#000000\" fill-rule=\"evenodd\" fill-opacity=\"1\" /><path clip-path=\"url(#clip180)\" d=\"M109.071 558.915 Q105.922 558.915 104.071 561.067 Q102.242 563.22 102.242 566.97 Q102.242 570.697 104.071 572.873 Q105.922 575.026 109.071 575.026 Q112.219 575.026 114.047 572.873 Q115.899 570.697 115.899 566.97 Q115.899 563.22 114.047 561.067 Q112.219 558.915 109.071 558.915 M118.353 544.262 L118.353 548.521 Q116.594 547.688 114.788 547.248 Q113.006 546.808 111.246 546.808 Q106.617 546.808 104.163 549.933 Q101.733 553.058 101.385 559.378 Q102.751 557.364 104.811 556.299 Q106.871 555.211 109.348 555.211 Q114.557 555.211 117.566 558.382 Q120.598 561.53 120.598 566.97 Q120.598 572.294 117.45 575.512 Q114.302 578.729 109.071 578.729 Q103.075 578.729 99.9039 574.146 Q96.7326 569.54 96.7326 560.813 Q96.7326 552.618 100.621 547.757 Q104.51 542.873 111.061 542.873 Q112.82 542.873 114.603 543.22 Q116.408 543.568 118.353 544.262 Z\" fill=\"#000000\" fill-rule=\"evenodd\" fill-opacity=\"1\" /><path clip-path=\"url(#clip180)\" d=\"M63.5152 204.846 Q59.9041 204.846 58.0754 208.411 Q56.2699 211.952 56.2699 219.082 Q56.2699 226.188 58.0754 229.753 Q59.9041 233.295 63.5152 233.295 Q67.1494 233.295 68.955 229.753 Q70.7837 226.188 70.7837 219.082 Q70.7837 211.952 68.955 208.411 Q67.1494 204.846 63.5152 204.846 M63.5152 201.142 Q69.3254 201.142 72.3809 205.749 Q75.4596 210.332 75.4596 219.082 Q75.4596 227.809 72.3809 232.415 Q69.3254 236.999 63.5152 236.999 Q57.7051 236.999 54.6264 232.415 Q51.5708 227.809 51.5708 219.082 Q51.5708 210.332 54.6264 205.749 Q57.7051 201.142 63.5152 201.142 Z\" fill=\"#000000\" fill-rule=\"evenodd\" fill-opacity=\"1\" /><path clip-path=\"url(#clip180)\" d=\"M83.6771 230.448 L88.5614 230.448 L88.5614 236.327 L83.6771 236.327 L83.6771 230.448 Z\" fill=\"#000000\" fill-rule=\"evenodd\" fill-opacity=\"1\" /><path clip-path=\"url(#clip180)\" d=\"M108.746 219.915 Q105.413 219.915 103.492 221.698 Q101.594 223.48 101.594 226.605 Q101.594 229.73 103.492 231.512 Q105.413 233.295 108.746 233.295 Q112.08 233.295 114.001 231.512 Q115.922 229.707 115.922 226.605 Q115.922 223.48 114.001 221.698 Q112.103 219.915 108.746 219.915 M104.071 217.925 Q101.061 217.184 99.3715 215.124 Q97.7048 213.063 97.7048 210.101 Q97.7048 205.957 100.645 203.55 Q103.608 201.142 108.746 201.142 Q113.908 201.142 116.848 203.55 Q119.788 205.957 119.788 210.101 Q119.788 213.063 118.098 215.124 Q116.432 217.184 113.445 217.925 Q116.825 218.712 118.7 221.003 Q120.598 223.295 120.598 226.605 Q120.598 231.628 117.52 234.313 Q114.464 236.999 108.746 236.999 Q103.029 236.999 99.9502 234.313 Q96.8947 231.628 96.8947 226.605 Q96.8947 223.295 98.7928 221.003 Q100.691 218.712 104.071 217.925 M102.358 210.54 Q102.358 213.226 104.024 214.73 Q105.714 216.235 108.746 216.235 Q111.756 216.235 113.445 214.73 Q115.158 213.226 115.158 210.54 Q115.158 207.855 113.445 206.351 Q111.756 204.846 108.746 204.846 Q105.714 204.846 104.024 206.351 Q102.358 207.855 102.358 210.54 Z\" fill=\"#000000\" fill-rule=\"evenodd\" fill-opacity=\"1\" /><polyline clip-path=\"url(#clip182)\" style=\"stroke:#009af9; stroke-linecap:butt; stroke-linejoin:round; stroke-width:4; stroke-opacity:1; fill:none\" points=\"\n",
       "  218.754,1445.72 327.798,1403.49 436.843,1348.56 545.887,1277.1 654.932,1184.11 763.976,1063.14 873.021,905.756 982.066,700.989 1091.11,434.581 1200.15,87.9763 \n",
       "  1309.2,87.9763 1418.24,434.581 1527.29,700.989 1636.33,905.756 1745.38,1063.14 1854.42,1184.11 1963.47,1277.1 2072.51,1348.56 2181.56,1403.49 2290.6,1445.72 \n",
       "  \n",
       "  \"/>\n",
       "<path clip-path=\"url(#clip180)\" d=\"\n",
       "M1983.1 198.898 L2279.55 198.898 L2279.55 95.2176 L1983.1 95.2176  Z\n",
       "  \" fill=\"#ffffff\" fill-rule=\"evenodd\" fill-opacity=\"1\"/>\n",
       "<polyline clip-path=\"url(#clip180)\" style=\"stroke:#000000; stroke-linecap:butt; stroke-linejoin:round; stroke-width:4; stroke-opacity:1; fill:none\" points=\"\n",
       "  1983.1,198.898 2279.55,198.898 2279.55,95.2176 1983.1,95.2176 1983.1,198.898 \n",
       "  \"/>\n",
       "<polyline clip-path=\"url(#clip180)\" style=\"stroke:#009af9; stroke-linecap:butt; stroke-linejoin:round; stroke-width:4; stroke-opacity:1; fill:none\" points=\"\n",
       "  2007.5,147.058 2153.92,147.058 \n",
       "  \"/>\n",
       "<path clip-path=\"url(#clip180)\" d=\"M2192.16 166.745 Q2190.35 171.375 2188.64 172.787 Q2186.93 174.199 2184.06 174.199 L2180.65 174.199 L2180.65 170.634 L2183.15 170.634 Q2184.91 170.634 2185.89 169.8 Q2186.86 168.967 2188.04 165.865 L2188.8 163.921 L2178.32 138.412 L2182.83 138.412 L2190.93 158.689 L2199.03 138.412 L2203.55 138.412 L2192.16 166.745 Z\" fill=\"#000000\" fill-rule=\"evenodd\" fill-opacity=\"1\" /><path clip-path=\"url(#clip180)\" d=\"M2210.84 160.402 L2218.48 160.402 L2218.48 134.037 L2210.17 135.703 L2210.17 131.444 L2218.43 129.778 L2223.11 129.778 L2223.11 160.402 L2230.75 160.402 L2230.75 164.338 L2210.84 164.338 L2210.84 160.402 Z\" fill=\"#000000\" fill-rule=\"evenodd\" fill-opacity=\"1\" /></svg>\n"
      ]
     },
     "execution_count": 51,
     "metadata": {},
     "output_type": "execute_result"
    }
   ],
   "source": [
    "plot(p_grid, exp.(-5*abs.(p_grid .- 0.5)))"
   ]
  },
  {
   "cell_type": "code",
   "execution_count": 52,
   "id": "b06cad01",
   "metadata": {},
   "outputs": [
    {
     "data": {
      "text/plain": [
       "water_land (generic function with 1 method)"
      ]
     },
     "execution_count": 52,
     "metadata": {},
     "output_type": "execute_result"
    }
   ],
   "source": [
    "@model function water_land(W, L)\n",
    "    p ~ Uniform(0, 1)\n",
    "    W ~ Binomial(W + L, p)\n",
    "end"
   ]
  },
  {
   "cell_type": "code",
   "execution_count": 56,
   "id": "09dae128",
   "metadata": {},
   "outputs": [
    {
     "data": {
      "text/plain": [
       "Chains MCMC chain (1000×13×1 Array{Float64,3}):\n",
       "\n",
       "Iterations        = 501:1:1500\n",
       "Number of chains  = 1\n",
       "Samples per chain = 1000\n",
       "Wall duration     = 0.04 seconds\n",
       "Compute duration  = 0.04 seconds\n",
       "parameters        = p\n",
       "internals         = lp, n_steps, is_accept, acceptance_rate, log_density, hamiltonian_energy, hamiltonian_energy_error, max_hamiltonian_energy_error, tree_depth, numerical_error, step_size, nom_step_size\n",
       "\n",
       "Summary Statistics\n",
       " \u001b[1m parameters \u001b[0m \u001b[1m    mean \u001b[0m \u001b[1m     std \u001b[0m \u001b[1m naive_se \u001b[0m \u001b[1m    mcse \u001b[0m \u001b[1m      ess \u001b[0m \u001b[1m    rhat \u001b[0m \u001b[1m e\u001b[0m ⋯\n",
       " \u001b[90m     Symbol \u001b[0m \u001b[90m Float64 \u001b[0m \u001b[90m Float64 \u001b[0m \u001b[90m  Float64 \u001b[0m \u001b[90m Float64 \u001b[0m \u001b[90m  Float64 \u001b[0m \u001b[90m Float64 \u001b[0m \u001b[90m  \u001b[0m ⋯\n",
       "\n",
       "           p    0.6399    0.1449     0.0046    0.0034   788.7260    0.9994     ⋯\n",
       "\u001b[36m                                                                1 column omitted\u001b[0m\n",
       "\n",
       "Quantiles\n",
       " \u001b[1m parameters \u001b[0m \u001b[1m    2.5% \u001b[0m \u001b[1m   25.0% \u001b[0m \u001b[1m   50.0% \u001b[0m \u001b[1m   75.0% \u001b[0m \u001b[1m   97.5% \u001b[0m\n",
       " \u001b[90m     Symbol \u001b[0m \u001b[90m Float64 \u001b[0m \u001b[90m Float64 \u001b[0m \u001b[90m Float64 \u001b[0m \u001b[90m Float64 \u001b[0m \u001b[90m Float64 \u001b[0m\n",
       "\n",
       "           p    0.3326    0.5410    0.6550    0.7544    0.8737\n"
      ]
     },
     "execution_count": 56,
     "metadata": {},
     "output_type": "execute_result"
    }
   ],
   "source": [
    "Logging.disable_logging(Logging.Warn)\n",
    "chain = sample(water_land(6, 3), NUTS(0.65), 1000)"
   ]
  },
  {
   "cell_type": "code",
   "execution_count": 60,
   "id": "15b5f8bd",
   "metadata": {},
   "outputs": [
    {
     "data": {
      "text/plain": [
       "2-element Array{ChainDataFrame,1}:\n",
       " Summary Statistics (1 x 8)\n",
       " Quantiles (1 x 6)"
      ]
     },
     "execution_count": 60,
     "metadata": {},
     "output_type": "execute_result"
    }
   ],
   "source": [
    "describe(chain)"
   ]
  },
  {
   "cell_type": "code",
   "execution_count": 62,
   "id": "ac986553",
   "metadata": {},
   "outputs": [
    {
     "data": {
      "text/plain": [
       "Quantiles\n",
       " \u001b[1m parameters \u001b[0m \u001b[1m   89.0% \u001b[0m\n",
       " \u001b[90m     Symbol \u001b[0m \u001b[90m Float64 \u001b[0m\n",
       "\n",
       "           p    0.8081\n"
      ]
     },
     "execution_count": 62,
     "metadata": {},
     "output_type": "execute_result"
    }
   ],
   "source": [
    "quantile(chain, q=[0.89])"
   ]
  },
  {
   "cell_type": "code",
   "execution_count": 77,
   "id": "d6157341",
   "metadata": {},
   "outputs": [
    {
     "data": {
      "text/plain": [
       "Summary Statistics\n",
       " \u001b[1m                   parameters \u001b[0m \u001b[1m    mean \u001b[0m \u001b[1m     std \u001b[0m \u001b[1m naive_se \u001b[0m \u001b[1m    mcse \u001b[0m \u001b[1m     \u001b[0m ⋯\n",
       " \u001b[90m                       Symbol \u001b[0m \u001b[90m Float64 \u001b[0m \u001b[90m Float64 \u001b[0m \u001b[90m  Float64 \u001b[0m \u001b[90m Float64 \u001b[0m \u001b[90m   Fl\u001b[0m ⋯\n",
       "\n",
       "                             p    0.6399    0.1449     0.0046    0.0034    788 ⋯\n",
       "                            lp   -3.3470    0.7534     0.0238    0.0352    493 ⋯\n",
       "                       n_steps    1.7140    0.9587     0.0303    0.0450    608 ⋯\n",
       "                     is_accept    1.0000    0.0000     0.0000    0.0000        ⋯\n",
       "               acceptance_rate    0.6950    0.3244     0.0103    0.0103    959 ⋯\n",
       "                   log_density   -3.3470    0.7534     0.0238    0.0352    493 ⋯\n",
       "            hamiltonian_energy    3.8597    1.0452     0.0331    0.0624    475 ⋯\n",
       "      hamiltonian_energy_error   -0.0031    0.6151     0.0195    0.0055   3797 ⋯\n",
       "  max_hamiltonian_energy_error    0.6895    1.5334     0.0485    0.0562    947 ⋯\n",
       "                    tree_depth    1.1540    0.3611     0.0114    0.0161    765 ⋯\n",
       "               numerical_error    0.0000    0.0000     0.0000    0.0000        ⋯\n",
       "                     step_size    1.7426    0.0080     0.0003    0.0003   1000 ⋯\n",
       "                 nom_step_size    1.7426    0.0080     0.0003    0.0003   1000 ⋯\n",
       "\u001b[36m                                                               3 columns omitted\u001b[0m\n"
      ]
     },
     "execution_count": 77,
     "metadata": {},
     "output_type": "execute_result"
    }
   ],
   "source": [
    "summarize(chain, sections=(:parameters,))"
   ]
  },
  {
   "cell_type": "code",
   "execution_count": 73,
   "id": "bc29b720",
   "metadata": {},
   "outputs": [
    {
     "data": {
      "text/plain": [
       "(parameters = [:p], internals = [:lp, :n_steps, :is_accept, :acceptance_rate, :log_density, :hamiltonian_energy, :hamiltonian_energy_error, :max_hamiltonian_energy_error, :tree_depth, :numerical_error, :step_size, :nom_step_size])"
      ]
     },
     "execution_count": 73,
     "metadata": {},
     "output_type": "execute_result"
    }
   ],
   "source": [
    "chain.name_map"
   ]
  },
  {
   "cell_type": "code",
   "execution_count": 84,
   "id": "220632ce",
   "metadata": {},
   "outputs": [
    {
     "data": {
      "text/plain": [
       "Beta{Float64}(α=7.0, β=4.0)"
      ]
     },
     "execution_count": 84,
     "metadata": {},
     "output_type": "execute_result"
    }
   ],
   "source": [
    "b = Beta(W+1, L+1)"
   ]
  },
  {
   "cell_type": "code",
   "execution_count": 86,
   "id": "4ad78e67",
   "metadata": {},
   "outputs": [
    {
     "data": {
      "image/svg+xml": [
       "<?xml version=\"1.0\" encoding=\"utf-8\"?>\n",
       "<svg xmlns=\"http://www.w3.org/2000/svg\" xmlns:xlink=\"http://www.w3.org/1999/xlink\" width=\"600\" height=\"400\" viewBox=\"0 0 2400 1600\">\n",
       "<defs>\n",
       "  <clipPath id=\"clip220\">\n",
       "    <rect x=\"0\" y=\"0\" width=\"2400\" height=\"1600\"/>\n",
       "  </clipPath>\n",
       "</defs>\n",
       "<path clip-path=\"url(#clip220)\" d=\"\n",
       "M0 1600 L2400 1600 L2400 0 L0 0  Z\n",
       "  \" fill=\"#ffffff\" fill-rule=\"evenodd\" fill-opacity=\"1\"/>\n",
       "<defs>\n",
       "  <clipPath id=\"clip221\">\n",
       "    <rect x=\"480\" y=\"0\" width=\"1681\" height=\"1600\"/>\n",
       "  </clipPath>\n",
       "</defs>\n",
       "<path clip-path=\"url(#clip220)\" d=\"\n",
       "M156.112 1486.45 L2352.76 1486.45 L2352.76 47.2441 L156.112 47.2441  Z\n",
       "  \" fill=\"#ffffff\" fill-rule=\"evenodd\" fill-opacity=\"1\"/>\n",
       "<defs>\n",
       "  <clipPath id=\"clip222\">\n",
       "    <rect x=\"156\" y=\"47\" width=\"2198\" height=\"1440\"/>\n",
       "  </clipPath>\n",
       "</defs>\n",
       "<polyline clip-path=\"url(#clip222)\" style=\"stroke:#000000; stroke-linecap:butt; stroke-linejoin:round; stroke-width:2; stroke-opacity:0.1; fill:none\" points=\"\n",
       "  218.281,1486.45 218.281,47.2441 \n",
       "  \"/>\n",
       "<polyline clip-path=\"url(#clip222)\" style=\"stroke:#000000; stroke-linecap:butt; stroke-linejoin:round; stroke-width:2; stroke-opacity:0.1; fill:none\" points=\"\n",
       "  736.358,1486.45 736.358,47.2441 \n",
       "  \"/>\n",
       "<polyline clip-path=\"url(#clip222)\" style=\"stroke:#000000; stroke-linecap:butt; stroke-linejoin:round; stroke-width:2; stroke-opacity:0.1; fill:none\" points=\"\n",
       "  1254.43,1486.45 1254.43,47.2441 \n",
       "  \"/>\n",
       "<polyline clip-path=\"url(#clip222)\" style=\"stroke:#000000; stroke-linecap:butt; stroke-linejoin:round; stroke-width:2; stroke-opacity:0.1; fill:none\" points=\"\n",
       "  1772.51,1486.45 1772.51,47.2441 \n",
       "  \"/>\n",
       "<polyline clip-path=\"url(#clip222)\" style=\"stroke:#000000; stroke-linecap:butt; stroke-linejoin:round; stroke-width:2; stroke-opacity:0.1; fill:none\" points=\"\n",
       "  2290.59,1486.45 2290.59,47.2441 \n",
       "  \"/>\n",
       "<polyline clip-path=\"url(#clip220)\" style=\"stroke:#000000; stroke-linecap:butt; stroke-linejoin:round; stroke-width:4; stroke-opacity:1; fill:none\" points=\"\n",
       "  156.112,1486.45 2352.76,1486.45 \n",
       "  \"/>\n",
       "<polyline clip-path=\"url(#clip220)\" style=\"stroke:#000000; stroke-linecap:butt; stroke-linejoin:round; stroke-width:4; stroke-opacity:1; fill:none\" points=\"\n",
       "  218.281,1486.45 218.281,1467.55 \n",
       "  \"/>\n",
       "<polyline clip-path=\"url(#clip220)\" style=\"stroke:#000000; stroke-linecap:butt; stroke-linejoin:round; stroke-width:4; stroke-opacity:1; fill:none\" points=\"\n",
       "  736.358,1486.45 736.358,1467.55 \n",
       "  \"/>\n",
       "<polyline clip-path=\"url(#clip220)\" style=\"stroke:#000000; stroke-linecap:butt; stroke-linejoin:round; stroke-width:4; stroke-opacity:1; fill:none\" points=\"\n",
       "  1254.43,1486.45 1254.43,1467.55 \n",
       "  \"/>\n",
       "<polyline clip-path=\"url(#clip220)\" style=\"stroke:#000000; stroke-linecap:butt; stroke-linejoin:round; stroke-width:4; stroke-opacity:1; fill:none\" points=\"\n",
       "  1772.51,1486.45 1772.51,1467.55 \n",
       "  \"/>\n",
       "<polyline clip-path=\"url(#clip220)\" style=\"stroke:#000000; stroke-linecap:butt; stroke-linejoin:round; stroke-width:4; stroke-opacity:1; fill:none\" points=\"\n",
       "  2290.59,1486.45 2290.59,1467.55 \n",
       "  \"/>\n",
       "<path clip-path=\"url(#clip220)\" d=\"M180.585 1515.64 Q176.974 1515.64 175.145 1519.2 Q173.339 1522.75 173.339 1529.87 Q173.339 1536.98 175.145 1540.55 Q176.974 1544.09 180.585 1544.09 Q184.219 1544.09 186.025 1540.55 Q187.853 1536.98 187.853 1529.87 Q187.853 1522.75 186.025 1519.2 Q184.219 1515.64 180.585 1515.64 M180.585 1511.93 Q186.395 1511.93 189.45 1516.54 Q192.529 1521.12 192.529 1529.87 Q192.529 1538.6 189.45 1543.21 Q186.395 1547.79 180.585 1547.79 Q174.775 1547.79 171.696 1543.21 Q168.64 1538.6 168.64 1529.87 Q168.64 1521.12 171.696 1516.54 Q174.775 1511.93 180.585 1511.93 Z\" fill=\"#000000\" fill-rule=\"evenodd\" fill-opacity=\"1\" /><path clip-path=\"url(#clip220)\" d=\"M200.747 1541.24 L205.631 1541.24 L205.631 1547.12 L200.747 1547.12 L200.747 1541.24 Z\" fill=\"#000000\" fill-rule=\"evenodd\" fill-opacity=\"1\" /><path clip-path=\"url(#clip220)\" d=\"M225.816 1515.64 Q222.205 1515.64 220.376 1519.2 Q218.571 1522.75 218.571 1529.87 Q218.571 1536.98 220.376 1540.55 Q222.205 1544.09 225.816 1544.09 Q229.45 1544.09 231.256 1540.55 Q233.084 1536.98 233.084 1529.87 Q233.084 1522.75 231.256 1519.2 Q229.45 1515.64 225.816 1515.64 M225.816 1511.93 Q231.626 1511.93 234.682 1516.54 Q237.76 1521.12 237.76 1529.87 Q237.76 1538.6 234.682 1543.21 Q231.626 1547.79 225.816 1547.79 Q220.006 1547.79 216.927 1543.21 Q213.872 1538.6 213.872 1529.87 Q213.872 1521.12 216.927 1516.54 Q220.006 1511.93 225.816 1511.93 Z\" fill=\"#000000\" fill-rule=\"evenodd\" fill-opacity=\"1\" /><path clip-path=\"url(#clip220)\" d=\"M255.978 1515.64 Q252.367 1515.64 250.538 1519.2 Q248.733 1522.75 248.733 1529.87 Q248.733 1536.98 250.538 1540.55 Q252.367 1544.09 255.978 1544.09 Q259.612 1544.09 261.418 1540.55 Q263.246 1536.98 263.246 1529.87 Q263.246 1522.75 261.418 1519.2 Q259.612 1515.64 255.978 1515.64 M255.978 1511.93 Q261.788 1511.93 264.844 1516.54 Q267.922 1521.12 267.922 1529.87 Q267.922 1538.6 264.844 1543.21 Q261.788 1547.79 255.978 1547.79 Q250.168 1547.79 247.089 1543.21 Q244.033 1538.6 244.033 1529.87 Q244.033 1521.12 247.089 1516.54 Q250.168 1511.93 255.978 1511.93 Z\" fill=\"#000000\" fill-rule=\"evenodd\" fill-opacity=\"1\" /><path clip-path=\"url(#clip220)\" d=\"M699.159 1515.64 Q695.548 1515.64 693.719 1519.2 Q691.913 1522.75 691.913 1529.87 Q691.913 1536.98 693.719 1540.55 Q695.548 1544.09 699.159 1544.09 Q702.793 1544.09 704.599 1540.55 Q706.427 1536.98 706.427 1529.87 Q706.427 1522.75 704.599 1519.2 Q702.793 1515.64 699.159 1515.64 M699.159 1511.93 Q704.969 1511.93 708.024 1516.54 Q711.103 1521.12 711.103 1529.87 Q711.103 1538.6 708.024 1543.21 Q704.969 1547.79 699.159 1547.79 Q693.349 1547.79 690.27 1543.21 Q687.214 1538.6 687.214 1529.87 Q687.214 1521.12 690.27 1516.54 Q693.349 1511.93 699.159 1511.93 Z\" fill=\"#000000\" fill-rule=\"evenodd\" fill-opacity=\"1\" /><path clip-path=\"url(#clip220)\" d=\"M719.321 1541.24 L724.205 1541.24 L724.205 1547.12 L719.321 1547.12 L719.321 1541.24 Z\" fill=\"#000000\" fill-rule=\"evenodd\" fill-opacity=\"1\" /><path clip-path=\"url(#clip220)\" d=\"M738.418 1543.18 L754.737 1543.18 L754.737 1547.12 L732.793 1547.12 L732.793 1543.18 Q735.455 1540.43 740.038 1535.8 Q744.645 1531.15 745.825 1529.81 Q748.071 1527.28 748.95 1525.55 Q749.853 1523.79 749.853 1522.1 Q749.853 1519.34 747.909 1517.61 Q745.987 1515.87 742.885 1515.87 Q740.686 1515.87 738.233 1516.63 Q735.802 1517.4 733.024 1518.95 L733.024 1514.23 Q735.848 1513.09 738.302 1512.51 Q740.756 1511.93 742.793 1511.93 Q748.163 1511.93 751.358 1514.62 Q754.552 1517.31 754.552 1521.8 Q754.552 1523.93 753.742 1525.85 Q752.955 1527.74 750.848 1530.34 Q750.27 1531.01 747.168 1534.23 Q744.066 1537.42 738.418 1543.18 Z\" fill=\"#000000\" fill-rule=\"evenodd\" fill-opacity=\"1\" /><path clip-path=\"url(#clip220)\" d=\"M764.598 1512.56 L782.955 1512.56 L782.955 1516.5 L768.881 1516.5 L768.881 1524.97 Q769.899 1524.62 770.918 1524.46 Q771.936 1524.27 772.955 1524.27 Q778.742 1524.27 782.121 1527.44 Q785.501 1530.62 785.501 1536.03 Q785.501 1541.61 782.029 1544.71 Q778.557 1547.79 772.237 1547.79 Q770.061 1547.79 767.793 1547.42 Q765.547 1547.05 763.14 1546.31 L763.14 1541.61 Q765.223 1542.74 767.445 1543.3 Q769.668 1543.86 772.144 1543.86 Q776.149 1543.86 778.487 1541.75 Q780.825 1539.64 780.825 1536.03 Q780.825 1532.42 778.487 1530.31 Q776.149 1528.21 772.144 1528.21 Q770.27 1528.21 768.395 1528.62 Q766.543 1529.04 764.598 1529.92 L764.598 1512.56 Z\" fill=\"#000000\" fill-rule=\"evenodd\" fill-opacity=\"1\" /><path clip-path=\"url(#clip220)\" d=\"M1216.74 1515.64 Q1213.13 1515.64 1211.3 1519.2 Q1209.49 1522.75 1209.49 1529.87 Q1209.49 1536.98 1211.3 1540.55 Q1213.13 1544.09 1216.74 1544.09 Q1220.37 1544.09 1222.18 1540.55 Q1224.01 1536.98 1224.01 1529.87 Q1224.01 1522.75 1222.18 1519.2 Q1220.37 1515.64 1216.74 1515.64 M1216.74 1511.93 Q1222.55 1511.93 1225.6 1516.54 Q1228.68 1521.12 1228.68 1529.87 Q1228.68 1538.6 1225.6 1543.21 Q1222.55 1547.79 1216.74 1547.79 Q1210.93 1547.79 1207.85 1543.21 Q1204.79 1538.6 1204.79 1529.87 Q1204.79 1521.12 1207.85 1516.54 Q1210.93 1511.93 1216.74 1511.93 Z\" fill=\"#000000\" fill-rule=\"evenodd\" fill-opacity=\"1\" /><path clip-path=\"url(#clip220)\" d=\"M1236.9 1541.24 L1241.78 1541.24 L1241.78 1547.12 L1236.9 1547.12 L1236.9 1541.24 Z\" fill=\"#000000\" fill-rule=\"evenodd\" fill-opacity=\"1\" /><path clip-path=\"url(#clip220)\" d=\"M1252.02 1512.56 L1270.37 1512.56 L1270.37 1516.5 L1256.3 1516.5 L1256.3 1524.97 Q1257.32 1524.62 1258.33 1524.46 Q1259.35 1524.27 1260.37 1524.27 Q1266.16 1524.27 1269.54 1527.44 Q1272.92 1530.62 1272.92 1536.03 Q1272.92 1541.61 1269.45 1544.71 Q1265.97 1547.79 1259.65 1547.79 Q1257.48 1547.79 1255.21 1547.42 Q1252.96 1547.05 1250.56 1546.31 L1250.56 1541.61 Q1252.64 1542.74 1254.86 1543.3 Q1257.08 1543.86 1259.56 1543.86 Q1263.57 1543.86 1265.9 1541.75 Q1268.24 1539.64 1268.24 1536.03 Q1268.24 1532.42 1265.9 1530.31 Q1263.57 1528.21 1259.56 1528.21 Q1257.69 1528.21 1255.81 1528.62 Q1253.96 1529.04 1252.02 1529.92 L1252.02 1512.56 Z\" fill=\"#000000\" fill-rule=\"evenodd\" fill-opacity=\"1\" /><path clip-path=\"url(#clip220)\" d=\"M1292.13 1515.64 Q1288.52 1515.64 1286.69 1519.2 Q1284.89 1522.75 1284.89 1529.87 Q1284.89 1536.98 1286.69 1540.55 Q1288.52 1544.09 1292.13 1544.09 Q1295.76 1544.09 1297.57 1540.55 Q1299.4 1536.98 1299.4 1529.87 Q1299.4 1522.75 1297.57 1519.2 Q1295.76 1515.64 1292.13 1515.64 M1292.13 1511.93 Q1297.94 1511.93 1301 1516.54 Q1304.07 1521.12 1304.07 1529.87 Q1304.07 1538.6 1301 1543.21 Q1297.94 1547.79 1292.13 1547.79 Q1286.32 1547.79 1283.24 1543.21 Q1280.19 1538.6 1280.19 1529.87 Q1280.19 1521.12 1283.24 1516.54 Q1286.32 1511.93 1292.13 1511.93 Z\" fill=\"#000000\" fill-rule=\"evenodd\" fill-opacity=\"1\" /><path clip-path=\"url(#clip220)\" d=\"M1735.31 1515.64 Q1731.7 1515.64 1729.87 1519.2 Q1728.07 1522.75 1728.07 1529.87 Q1728.07 1536.98 1729.87 1540.55 Q1731.7 1544.09 1735.31 1544.09 Q1738.95 1544.09 1740.75 1540.55 Q1742.58 1536.98 1742.58 1529.87 Q1742.58 1522.75 1740.75 1519.2 Q1738.95 1515.64 1735.31 1515.64 M1735.31 1511.93 Q1741.12 1511.93 1744.18 1516.54 Q1747.26 1521.12 1747.26 1529.87 Q1747.26 1538.6 1744.18 1543.21 Q1741.12 1547.79 1735.31 1547.79 Q1729.5 1547.79 1726.42 1543.21 Q1723.37 1538.6 1723.37 1529.87 Q1723.37 1521.12 1726.42 1516.54 Q1729.5 1511.93 1735.31 1511.93 Z\" fill=\"#000000\" fill-rule=\"evenodd\" fill-opacity=\"1\" /><path clip-path=\"url(#clip220)\" d=\"M1755.47 1541.24 L1760.36 1541.24 L1760.36 1547.12 L1755.47 1547.12 L1755.47 1541.24 Z\" fill=\"#000000\" fill-rule=\"evenodd\" fill-opacity=\"1\" /><path clip-path=\"url(#clip220)\" d=\"M1769.36 1512.56 L1791.58 1512.56 L1791.58 1514.55 L1779.04 1547.12 L1774.15 1547.12 L1785.96 1516.5 L1769.36 1516.5 L1769.36 1512.56 Z\" fill=\"#000000\" fill-rule=\"evenodd\" fill-opacity=\"1\" /><path clip-path=\"url(#clip220)\" d=\"M1800.75 1512.56 L1819.11 1512.56 L1819.11 1516.5 L1805.03 1516.5 L1805.03 1524.97 Q1806.05 1524.62 1807.07 1524.46 Q1808.09 1524.27 1809.11 1524.27 Q1814.89 1524.27 1818.27 1527.44 Q1821.65 1530.62 1821.65 1536.03 Q1821.65 1541.61 1818.18 1544.71 Q1814.71 1547.79 1808.39 1547.79 Q1806.21 1547.79 1803.95 1547.42 Q1801.7 1547.05 1799.29 1546.31 L1799.29 1541.61 Q1801.38 1542.74 1803.6 1543.3 Q1805.82 1543.86 1808.3 1543.86 Q1812.3 1543.86 1814.64 1541.75 Q1816.98 1539.64 1816.98 1536.03 Q1816.98 1532.42 1814.64 1530.31 Q1812.3 1528.21 1808.3 1528.21 Q1806.42 1528.21 1804.55 1528.62 Q1802.7 1529.04 1800.75 1529.92 L1800.75 1512.56 Z\" fill=\"#000000\" fill-rule=\"evenodd\" fill-opacity=\"1\" /><path clip-path=\"url(#clip220)\" d=\"M2242.66 1543.18 L2250.3 1543.18 L2250.3 1516.82 L2241.99 1518.49 L2241.99 1514.23 L2250.25 1512.56 L2254.93 1512.56 L2254.93 1543.18 L2262.57 1543.18 L2262.57 1547.12 L2242.66 1547.12 L2242.66 1543.18 Z\" fill=\"#000000\" fill-rule=\"evenodd\" fill-opacity=\"1\" /><path clip-path=\"url(#clip220)\" d=\"M2272.01 1541.24 L2276.89 1541.24 L2276.89 1547.12 L2272.01 1547.12 L2272.01 1541.24 Z\" fill=\"#000000\" fill-rule=\"evenodd\" fill-opacity=\"1\" /><path clip-path=\"url(#clip220)\" d=\"M2297.08 1515.64 Q2293.47 1515.64 2291.64 1519.2 Q2289.83 1522.75 2289.83 1529.87 Q2289.83 1536.98 2291.64 1540.55 Q2293.47 1544.09 2297.08 1544.09 Q2300.71 1544.09 2302.52 1540.55 Q2304.35 1536.98 2304.35 1529.87 Q2304.35 1522.75 2302.52 1519.2 Q2300.71 1515.64 2297.08 1515.64 M2297.08 1511.93 Q2302.89 1511.93 2305.95 1516.54 Q2309.02 1521.12 2309.02 1529.87 Q2309.02 1538.6 2305.95 1543.21 Q2302.89 1547.79 2297.08 1547.79 Q2291.27 1547.79 2288.19 1543.21 Q2285.14 1538.6 2285.14 1529.87 Q2285.14 1521.12 2288.19 1516.54 Q2291.27 1511.93 2297.08 1511.93 Z\" fill=\"#000000\" fill-rule=\"evenodd\" fill-opacity=\"1\" /><path clip-path=\"url(#clip220)\" d=\"M2327.24 1515.64 Q2323.63 1515.64 2321.8 1519.2 Q2320 1522.75 2320 1529.87 Q2320 1536.98 2321.8 1540.55 Q2323.63 1544.09 2327.24 1544.09 Q2330.88 1544.09 2332.68 1540.55 Q2334.51 1536.98 2334.51 1529.87 Q2334.51 1522.75 2332.68 1519.2 Q2330.88 1515.64 2327.24 1515.64 M2327.24 1511.93 Q2333.05 1511.93 2336.11 1516.54 Q2339.19 1521.12 2339.19 1529.87 Q2339.19 1538.6 2336.11 1543.21 Q2333.05 1547.79 2327.24 1547.79 Q2321.43 1547.79 2318.35 1543.21 Q2315.3 1538.6 2315.3 1529.87 Q2315.3 1521.12 2318.35 1516.54 Q2321.43 1511.93 2327.24 1511.93 Z\" fill=\"#000000\" fill-rule=\"evenodd\" fill-opacity=\"1\" /><polyline clip-path=\"url(#clip222)\" style=\"stroke:#000000; stroke-linecap:butt; stroke-linejoin:round; stroke-width:2; stroke-opacity:0.1; fill:none\" points=\"\n",
       "  156.112,1445.72 2352.76,1445.72 \n",
       "  \"/>\n",
       "<polyline clip-path=\"url(#clip222)\" style=\"stroke:#000000; stroke-linecap:butt; stroke-linejoin:round; stroke-width:2; stroke-opacity:0.1; fill:none\" points=\"\n",
       "  156.112,1197.11 2352.76,1197.11 \n",
       "  \"/>\n",
       "<polyline clip-path=\"url(#clip222)\" style=\"stroke:#000000; stroke-linecap:butt; stroke-linejoin:round; stroke-width:2; stroke-opacity:0.1; fill:none\" points=\"\n",
       "  156.112,948.498 2352.76,948.498 \n",
       "  \"/>\n",
       "<polyline clip-path=\"url(#clip222)\" style=\"stroke:#000000; stroke-linecap:butt; stroke-linejoin:round; stroke-width:2; stroke-opacity:0.1; fill:none\" points=\"\n",
       "  156.112,699.889 2352.76,699.889 \n",
       "  \"/>\n",
       "<polyline clip-path=\"url(#clip222)\" style=\"stroke:#000000; stroke-linecap:butt; stroke-linejoin:round; stroke-width:2; stroke-opacity:0.1; fill:none\" points=\"\n",
       "  156.112,451.28 2352.76,451.28 \n",
       "  \"/>\n",
       "<polyline clip-path=\"url(#clip222)\" style=\"stroke:#000000; stroke-linecap:butt; stroke-linejoin:round; stroke-width:2; stroke-opacity:0.1; fill:none\" points=\"\n",
       "  156.112,202.672 2352.76,202.672 \n",
       "  \"/>\n",
       "<polyline clip-path=\"url(#clip220)\" style=\"stroke:#000000; stroke-linecap:butt; stroke-linejoin:round; stroke-width:4; stroke-opacity:1; fill:none\" points=\"\n",
       "  156.112,1486.45 156.112,47.2441 \n",
       "  \"/>\n",
       "<polyline clip-path=\"url(#clip220)\" style=\"stroke:#000000; stroke-linecap:butt; stroke-linejoin:round; stroke-width:4; stroke-opacity:1; fill:none\" points=\"\n",
       "  156.112,1445.72 175.01,1445.72 \n",
       "  \"/>\n",
       "<polyline clip-path=\"url(#clip220)\" style=\"stroke:#000000; stroke-linecap:butt; stroke-linejoin:round; stroke-width:4; stroke-opacity:1; fill:none\" points=\"\n",
       "  156.112,1197.11 175.01,1197.11 \n",
       "  \"/>\n",
       "<polyline clip-path=\"url(#clip220)\" style=\"stroke:#000000; stroke-linecap:butt; stroke-linejoin:round; stroke-width:4; stroke-opacity:1; fill:none\" points=\"\n",
       "  156.112,948.498 175.01,948.498 \n",
       "  \"/>\n",
       "<polyline clip-path=\"url(#clip220)\" style=\"stroke:#000000; stroke-linecap:butt; stroke-linejoin:round; stroke-width:4; stroke-opacity:1; fill:none\" points=\"\n",
       "  156.112,699.889 175.01,699.889 \n",
       "  \"/>\n",
       "<polyline clip-path=\"url(#clip220)\" style=\"stroke:#000000; stroke-linecap:butt; stroke-linejoin:round; stroke-width:4; stroke-opacity:1; fill:none\" points=\"\n",
       "  156.112,451.28 175.01,451.28 \n",
       "  \"/>\n",
       "<polyline clip-path=\"url(#clip220)\" style=\"stroke:#000000; stroke-linecap:butt; stroke-linejoin:round; stroke-width:4; stroke-opacity:1; fill:none\" points=\"\n",
       "  156.112,202.672 175.01,202.672 \n",
       "  \"/>\n",
       "<path clip-path=\"url(#clip220)\" d=\"M62.9365 1431.51 Q59.3254 1431.51 57.4967 1435.08 Q55.6912 1438.62 55.6912 1445.75 Q55.6912 1452.86 57.4967 1456.42 Q59.3254 1459.96 62.9365 1459.96 Q66.5707 1459.96 68.3763 1456.42 Q70.205 1452.86 70.205 1445.75 Q70.205 1438.62 68.3763 1435.08 Q66.5707 1431.51 62.9365 1431.51 M62.9365 1427.81 Q68.7467 1427.81 71.8022 1432.42 Q74.8809 1437 74.8809 1445.75 Q74.8809 1454.48 71.8022 1459.08 Q68.7467 1463.67 62.9365 1463.67 Q57.1264 1463.67 54.0477 1459.08 Q50.9921 1454.48 50.9921 1445.75 Q50.9921 1437 54.0477 1432.42 Q57.1264 1427.81 62.9365 1427.81 Z\" fill=\"#000000\" fill-rule=\"evenodd\" fill-opacity=\"1\" /><path clip-path=\"url(#clip220)\" d=\"M83.0984 1457.12 L87.9827 1457.12 L87.9827 1463 L83.0984 1463 L83.0984 1457.12 Z\" fill=\"#000000\" fill-rule=\"evenodd\" fill-opacity=\"1\" /><path clip-path=\"url(#clip220)\" d=\"M108.168 1431.51 Q104.557 1431.51 102.728 1435.08 Q100.922 1438.62 100.922 1445.75 Q100.922 1452.86 102.728 1456.42 Q104.557 1459.96 108.168 1459.96 Q111.802 1459.96 113.608 1456.42 Q115.436 1452.86 115.436 1445.75 Q115.436 1438.62 113.608 1435.08 Q111.802 1431.51 108.168 1431.51 M108.168 1427.81 Q113.978 1427.81 117.033 1432.42 Q120.112 1437 120.112 1445.75 Q120.112 1454.48 117.033 1459.08 Q113.978 1463.67 108.168 1463.67 Q102.358 1463.67 99.2789 1459.08 Q96.2234 1454.48 96.2234 1445.75 Q96.2234 1437 99.2789 1432.42 Q102.358 1427.81 108.168 1427.81 Z\" fill=\"#000000\" fill-rule=\"evenodd\" fill-opacity=\"1\" /><path clip-path=\"url(#clip220)\" d=\"M63.9319 1182.91 Q60.3208 1182.91 58.4921 1186.47 Q56.6865 1190.01 56.6865 1197.14 Q56.6865 1204.25 58.4921 1207.81 Q60.3208 1211.35 63.9319 1211.35 Q67.5661 1211.35 69.3717 1207.81 Q71.2004 1204.25 71.2004 1197.14 Q71.2004 1190.01 69.3717 1186.47 Q67.5661 1182.91 63.9319 1182.91 M63.9319 1179.2 Q69.742 1179.2 72.7976 1183.81 Q75.8763 1188.39 75.8763 1197.14 Q75.8763 1205.87 72.7976 1210.47 Q69.742 1215.06 63.9319 1215.06 Q58.1217 1215.06 55.043 1210.47 Q51.9875 1205.87 51.9875 1197.14 Q51.9875 1188.39 55.043 1183.81 Q58.1217 1179.2 63.9319 1179.2 Z\" fill=\"#000000\" fill-rule=\"evenodd\" fill-opacity=\"1\" /><path clip-path=\"url(#clip220)\" d=\"M84.0938 1208.51 L88.978 1208.51 L88.978 1214.39 L84.0938 1214.39 L84.0938 1208.51 Z\" fill=\"#000000\" fill-rule=\"evenodd\" fill-opacity=\"1\" /><path clip-path=\"url(#clip220)\" d=\"M99.2095 1179.83 L117.566 1179.83 L117.566 1183.76 L103.492 1183.76 L103.492 1192.23 Q104.51 1191.89 105.529 1191.72 Q106.547 1191.54 107.566 1191.54 Q113.353 1191.54 116.733 1194.71 Q120.112 1197.88 120.112 1203.3 Q120.112 1208.88 116.64 1211.98 Q113.168 1215.06 106.848 1215.06 Q104.672 1215.06 102.404 1214.69 Q100.159 1214.32 97.7511 1213.58 L97.7511 1208.88 Q99.8345 1210.01 102.057 1210.57 Q104.279 1211.12 106.756 1211.12 Q110.76 1211.12 113.098 1209.02 Q115.436 1206.91 115.436 1203.3 Q115.436 1199.69 113.098 1197.58 Q110.76 1195.47 106.756 1195.47 Q104.881 1195.47 103.006 1195.89 Q101.154 1196.31 99.2095 1197.19 L99.2095 1179.83 Z\" fill=\"#000000\" fill-rule=\"evenodd\" fill-opacity=\"1\" /><path clip-path=\"url(#clip220)\" d=\"M53.7467 961.843 L61.3856 961.843 L61.3856 935.477 L53.0754 937.144 L53.0754 932.885 L61.3393 931.218 L66.0152 931.218 L66.0152 961.843 L73.654 961.843 L73.654 965.778 L53.7467 965.778 L53.7467 961.843 Z\" fill=\"#000000\" fill-rule=\"evenodd\" fill-opacity=\"1\" /><path clip-path=\"url(#clip220)\" d=\"M83.0984 959.898 L87.9827 959.898 L87.9827 965.778 L83.0984 965.778 L83.0984 959.898 Z\" fill=\"#000000\" fill-rule=\"evenodd\" fill-opacity=\"1\" /><path clip-path=\"url(#clip220)\" d=\"M108.168 934.297 Q104.557 934.297 102.728 937.862 Q100.922 941.403 100.922 948.533 Q100.922 955.639 102.728 959.204 Q104.557 962.746 108.168 962.746 Q111.802 962.746 113.608 959.204 Q115.436 955.639 115.436 948.533 Q115.436 941.403 113.608 937.862 Q111.802 934.297 108.168 934.297 M108.168 930.593 Q113.978 930.593 117.033 935.2 Q120.112 939.783 120.112 948.533 Q120.112 957.26 117.033 961.866 Q113.978 966.449 108.168 966.449 Q102.358 966.449 99.2789 961.866 Q96.2234 957.26 96.2234 948.533 Q96.2234 939.783 99.2789 935.2 Q102.358 930.593 108.168 930.593 Z\" fill=\"#000000\" fill-rule=\"evenodd\" fill-opacity=\"1\" /><path clip-path=\"url(#clip220)\" d=\"M54.7421 713.234 L62.381 713.234 L62.381 686.869 L54.0708 688.535 L54.0708 684.276 L62.3347 682.609 L67.0106 682.609 L67.0106 713.234 L74.6494 713.234 L74.6494 717.169 L54.7421 717.169 L54.7421 713.234 Z\" fill=\"#000000\" fill-rule=\"evenodd\" fill-opacity=\"1\" /><path clip-path=\"url(#clip220)\" d=\"M84.0938 711.29 L88.978 711.29 L88.978 717.169 L84.0938 717.169 L84.0938 711.29 Z\" fill=\"#000000\" fill-rule=\"evenodd\" fill-opacity=\"1\" /><path clip-path=\"url(#clip220)\" d=\"M99.2095 682.609 L117.566 682.609 L117.566 686.544 L103.492 686.544 L103.492 695.017 Q104.51 694.669 105.529 694.507 Q106.547 694.322 107.566 694.322 Q113.353 694.322 116.733 697.493 Q120.112 700.665 120.112 706.081 Q120.112 711.66 116.64 714.762 Q113.168 717.841 106.848 717.841 Q104.672 717.841 102.404 717.47 Q100.159 717.1 97.7511 716.359 L97.7511 711.66 Q99.8345 712.794 102.057 713.35 Q104.279 713.905 106.756 713.905 Q110.76 713.905 113.098 711.799 Q115.436 709.692 115.436 706.081 Q115.436 702.47 113.098 700.364 Q110.76 698.257 106.756 698.257 Q104.881 698.257 103.006 698.674 Q101.154 699.091 99.2095 699.97 L99.2095 682.609 Z\" fill=\"#000000\" fill-rule=\"evenodd\" fill-opacity=\"1\" /><path clip-path=\"url(#clip220)\" d=\"M56.9643 464.625 L73.2837 464.625 L73.2837 468.56 L51.3393 468.56 L51.3393 464.625 Q54.0014 461.871 58.5847 457.241 Q63.1911 452.588 64.3717 451.246 Q66.617 448.723 67.4967 446.987 Q68.3994 445.227 68.3994 443.537 Q68.3994 440.783 66.455 439.047 Q64.5337 437.311 61.4319 437.311 Q59.2328 437.311 56.7791 438.075 Q54.3486 438.838 51.5708 440.389 L51.5708 435.667 Q54.3949 434.533 56.8486 433.954 Q59.3023 433.375 61.3393 433.375 Q66.7096 433.375 69.9041 436.061 Q73.0985 438.746 73.0985 443.237 Q73.0985 445.366 72.2883 447.287 Q71.5013 449.186 69.3948 451.778 Q68.8161 452.449 65.7143 455.667 Q62.6124 458.861 56.9643 464.625 Z\" fill=\"#000000\" fill-rule=\"evenodd\" fill-opacity=\"1\" /><path clip-path=\"url(#clip220)\" d=\"M83.0984 462.681 L87.9827 462.681 L87.9827 468.56 L83.0984 468.56 L83.0984 462.681 Z\" fill=\"#000000\" fill-rule=\"evenodd\" fill-opacity=\"1\" /><path clip-path=\"url(#clip220)\" d=\"M108.168 437.079 Q104.557 437.079 102.728 440.644 Q100.922 444.186 100.922 451.315 Q100.922 458.422 102.728 461.986 Q104.557 465.528 108.168 465.528 Q111.802 465.528 113.608 461.986 Q115.436 458.422 115.436 451.315 Q115.436 444.186 113.608 440.644 Q111.802 437.079 108.168 437.079 M108.168 433.375 Q113.978 433.375 117.033 437.982 Q120.112 442.565 120.112 451.315 Q120.112 460.042 117.033 464.648 Q113.978 469.232 108.168 469.232 Q102.358 469.232 99.2789 464.648 Q96.2234 460.042 96.2234 451.315 Q96.2234 442.565 99.2789 437.982 Q102.358 433.375 108.168 433.375 Z\" fill=\"#000000\" fill-rule=\"evenodd\" fill-opacity=\"1\" /><path clip-path=\"url(#clip220)\" d=\"M57.9597 216.016 L74.279 216.016 L74.279 219.952 L52.3347 219.952 L52.3347 216.016 Q54.9967 213.262 59.58 208.632 Q64.1865 203.98 65.367 202.637 Q67.6124 200.114 68.492 198.378 Q69.3948 196.618 69.3948 194.929 Q69.3948 192.174 67.4504 190.438 Q65.5291 188.702 62.4272 188.702 Q60.2282 188.702 57.7745 189.466 Q55.344 190.23 52.5662 191.781 L52.5662 187.058 Q55.3903 185.924 57.8439 185.345 Q60.2976 184.767 62.3347 184.767 Q67.705 184.767 70.8994 187.452 Q74.0939 190.137 74.0939 194.628 Q74.0939 196.757 73.2837 198.679 Q72.4966 200.577 70.3902 203.169 Q69.8115 203.841 66.7096 207.058 Q63.6078 210.253 57.9597 216.016 Z\" fill=\"#000000\" fill-rule=\"evenodd\" fill-opacity=\"1\" /><path clip-path=\"url(#clip220)\" d=\"M84.0938 214.072 L88.978 214.072 L88.978 219.952 L84.0938 219.952 L84.0938 214.072 Z\" fill=\"#000000\" fill-rule=\"evenodd\" fill-opacity=\"1\" /><path clip-path=\"url(#clip220)\" d=\"M99.2095 185.392 L117.566 185.392 L117.566 189.327 L103.492 189.327 L103.492 197.799 Q104.51 197.452 105.529 197.29 Q106.547 197.105 107.566 197.105 Q113.353 197.105 116.733 200.276 Q120.112 203.447 120.112 208.864 Q120.112 214.442 116.64 217.544 Q113.168 220.623 106.848 220.623 Q104.672 220.623 102.404 220.253 Q100.159 219.882 97.7511 219.141 L97.7511 214.442 Q99.8345 215.577 102.057 216.132 Q104.279 216.688 106.756 216.688 Q110.76 216.688 113.098 214.581 Q115.436 212.475 115.436 208.864 Q115.436 205.253 113.098 203.146 Q110.76 201.04 106.756 201.04 Q104.881 201.04 103.006 201.456 Q101.154 201.873 99.2095 202.753 L99.2095 185.392 Z\" fill=\"#000000\" fill-rule=\"evenodd\" fill-opacity=\"1\" /><polyline clip-path=\"url(#clip222)\" style=\"stroke:#009af9; stroke-linecap:butt; stroke-linejoin:round; stroke-width:4; stroke-opacity:1; fill:none\" points=\"\n",
       "  218.281,1445.72 239.004,1445.72 259.727,1445.72 280.45,1445.72 301.174,1445.71 321.897,1445.71 342.62,1445.7 363.343,1445.68 384.066,1445.63 404.789,1445.55 \n",
       "  425.512,1445.41 446.235,1445.19 466.958,1444.87 487.681,1444.39 508.404,1443.72 529.127,1442.79 549.85,1441.56 570.573,1439.95 591.296,1437.88 612.019,1435.27 \n",
       "  632.742,1432.03 653.465,1428.05 674.188,1423.24 694.912,1417.49 715.635,1410.68 736.358,1402.7 757.081,1393.43 777.804,1382.77 798.527,1370.59 819.25,1356.8 \n",
       "  839.973,1341.28 860.696,1323.94 881.419,1304.7 902.142,1283.48 922.865,1260.22 943.588,1234.87 964.311,1207.38 985.034,1177.76 1005.76,1146 1026.48,1112.13 \n",
       "  1047.2,1076.19 1067.93,1038.26 1088.65,998.409 1109.37,956.769 1130.1,913.478 1150.82,868.698 1171.54,822.621 1192.26,775.46 1212.99,727.453 1233.71,678.861 \n",
       "  1254.43,629.968 1275.16,581.076 1295.88,532.508 1316.6,484.602 1337.33,437.713 1358.05,392.204 1378.77,348.45 1399.5,306.83 1420.22,267.726 1440.94,231.518 \n",
       "  1461.66,198.581 1482.39,169.281 1503.11,143.968 1523.83,122.976 1544.56,106.615 1565.28,95.1676 1586,88.8835 1606.73,87.9763 1627.45,92.6179 1648.17,102.934 \n",
       "  1668.9,119 1689.62,140.838 1710.34,168.41 1731.06,201.619 1751.79,240.302 1772.51,284.231 1793.23,333.111 1813.96,386.575 1834.68,444.191 1855.4,505.459 \n",
       "  1876.13,569.813 1896.85,636.626 1917.57,705.213 1938.29,774.841 1959.02,844.734 1979.74,914.081 2000.46,982.055 2021.19,1047.82 2041.91,1110.55 2062.63,1169.44 \n",
       "  2083.36,1223.75 2104.08,1272.81 2124.8,1316.05 2145.53,1353.03 2166.25,1383.48 2186.97,1407.34 2207.69,1424.79 2228.42,1436.32 2249.14,1442.76 2269.86,1445.32 \n",
       "  2290.59,1445.72 \n",
       "  \"/>\n",
       "<path clip-path=\"url(#clip220)\" d=\"\n",
       "M1983.03 198.898 L2279.53 198.898 L2279.53 95.2176 L1983.03 95.2176  Z\n",
       "  \" fill=\"#ffffff\" fill-rule=\"evenodd\" fill-opacity=\"1\"/>\n",
       "<polyline clip-path=\"url(#clip220)\" style=\"stroke:#000000; stroke-linecap:butt; stroke-linejoin:round; stroke-width:4; stroke-opacity:1; fill:none\" points=\"\n",
       "  1983.03,198.898 2279.53,198.898 2279.53,95.2176 1983.03,95.2176 1983.03,198.898 \n",
       "  \"/>\n",
       "<polyline clip-path=\"url(#clip220)\" style=\"stroke:#009af9; stroke-linecap:butt; stroke-linejoin:round; stroke-width:4; stroke-opacity:1; fill:none\" points=\"\n",
       "  2007.44,147.058 2153.88,147.058 \n",
       "  \"/>\n",
       "<path clip-path=\"url(#clip220)\" d=\"M2192.13 166.745 Q2190.33 171.375 2188.61 172.787 Q2186.9 174.199 2184.03 174.199 L2180.63 174.199 L2180.63 170.634 L2183.13 170.634 Q2184.89 170.634 2185.86 169.8 Q2186.83 168.967 2188.01 165.865 L2188.78 163.921 L2178.29 138.412 L2182.8 138.412 L2190.91 158.689 L2199.01 138.412 L2203.52 138.412 L2192.13 166.745 Z\" fill=\"#000000\" fill-rule=\"evenodd\" fill-opacity=\"1\" /><path clip-path=\"url(#clip220)\" d=\"M2210.81 160.402 L2218.45 160.402 L2218.45 134.037 L2210.14 135.703 L2210.14 131.444 L2218.41 129.778 L2223.08 129.778 L2223.08 160.402 L2230.72 160.402 L2230.72 164.338 L2210.81 164.338 L2210.81 160.402 Z\" fill=\"#000000\" fill-rule=\"evenodd\" fill-opacity=\"1\" /></svg>\n"
      ]
     },
     "execution_count": 86,
     "metadata": {},
     "output_type": "execute_result"
    }
   ],
   "source": [
    "plot(x, pdf(b, x))"
   ]
  },
  {
   "cell_type": "code",
   "execution_count": 113,
   "id": "444cacff",
   "metadata": {},
   "outputs": [
    {
     "data": {
      "image/svg+xml": [
       "<?xml version=\"1.0\" encoding=\"utf-8\"?>\n",
       "<svg xmlns=\"http://www.w3.org/2000/svg\" xmlns:xlink=\"http://www.w3.org/1999/xlink\" width=\"600\" height=\"400\" viewBox=\"0 0 2400 1600\">\n",
       "<defs>\n",
       "  <clipPath id=\"clip000\">\n",
       "    <rect x=\"0\" y=\"0\" width=\"2400\" height=\"1600\"/>\n",
       "  </clipPath>\n",
       "</defs>\n",
       "<path clip-path=\"url(#clip000)\" d=\"\n",
       "M0 1600 L2400 1600 L2400 0 L0 0  Z\n",
       "  \" fill=\"#ffffff\" fill-rule=\"evenodd\" fill-opacity=\"1\"/>\n",
       "<defs>\n",
       "  <clipPath id=\"clip001\">\n",
       "    <rect x=\"480\" y=\"0\" width=\"1681\" height=\"1600\"/>\n",
       "  </clipPath>\n",
       "</defs>\n",
       "<defs>\n",
       "  <clipPath id=\"clip002\">\n",
       "    <rect x=\"156\" y=\"47\" width=\"2198\" height=\"1440\"/>\n",
       "  </clipPath>\n",
       "</defs>\n",
       "<path clip-path=\"url(#clip000)\" d=\"\n",
       "M156.112 1486.45 L2352.76 1486.45 L2352.76 47.2441 L156.112 47.2441  Z\n",
       "  \" fill=\"#ffffff\" fill-rule=\"evenodd\" fill-opacity=\"1\"/>\n",
       "<polyline clip-path=\"url(#clip002)\" style=\"stroke:#000000; stroke-linecap:butt; stroke-linejoin:round; stroke-width:2; stroke-opacity:0.1; fill:none\" points=\"\n",
       "  218.281,1486.45 218.281,47.2441 \n",
       "  \"/>\n",
       "<polyline clip-path=\"url(#clip002)\" style=\"stroke:#000000; stroke-linecap:butt; stroke-linejoin:round; stroke-width:2; stroke-opacity:0.1; fill:none\" points=\"\n",
       "  736.358,1486.45 736.358,47.2441 \n",
       "  \"/>\n",
       "<polyline clip-path=\"url(#clip002)\" style=\"stroke:#000000; stroke-linecap:butt; stroke-linejoin:round; stroke-width:2; stroke-opacity:0.1; fill:none\" points=\"\n",
       "  1254.43,1486.45 1254.43,47.2441 \n",
       "  \"/>\n",
       "<polyline clip-path=\"url(#clip002)\" style=\"stroke:#000000; stroke-linecap:butt; stroke-linejoin:round; stroke-width:2; stroke-opacity:0.1; fill:none\" points=\"\n",
       "  1772.51,1486.45 1772.51,47.2441 \n",
       "  \"/>\n",
       "<polyline clip-path=\"url(#clip002)\" style=\"stroke:#000000; stroke-linecap:butt; stroke-linejoin:round; stroke-width:2; stroke-opacity:0.1; fill:none\" points=\"\n",
       "  2290.59,1486.45 2290.59,47.2441 \n",
       "  \"/>\n",
       "<polyline clip-path=\"url(#clip000)\" style=\"stroke:#000000; stroke-linecap:butt; stroke-linejoin:round; stroke-width:4; stroke-opacity:1; fill:none\" points=\"\n",
       "  156.112,1486.45 2352.76,1486.45 \n",
       "  \"/>\n",
       "<polyline clip-path=\"url(#clip000)\" style=\"stroke:#000000; stroke-linecap:butt; stroke-linejoin:round; stroke-width:4; stroke-opacity:1; fill:none\" points=\"\n",
       "  218.281,1486.45 218.281,1467.55 \n",
       "  \"/>\n",
       "<polyline clip-path=\"url(#clip000)\" style=\"stroke:#000000; stroke-linecap:butt; stroke-linejoin:round; stroke-width:4; stroke-opacity:1; fill:none\" points=\"\n",
       "  736.358,1486.45 736.358,1467.55 \n",
       "  \"/>\n",
       "<polyline clip-path=\"url(#clip000)\" style=\"stroke:#000000; stroke-linecap:butt; stroke-linejoin:round; stroke-width:4; stroke-opacity:1; fill:none\" points=\"\n",
       "  1254.43,1486.45 1254.43,1467.55 \n",
       "  \"/>\n",
       "<polyline clip-path=\"url(#clip000)\" style=\"stroke:#000000; stroke-linecap:butt; stroke-linejoin:round; stroke-width:4; stroke-opacity:1; fill:none\" points=\"\n",
       "  1772.51,1486.45 1772.51,1467.55 \n",
       "  \"/>\n",
       "<polyline clip-path=\"url(#clip000)\" style=\"stroke:#000000; stroke-linecap:butt; stroke-linejoin:round; stroke-width:4; stroke-opacity:1; fill:none\" points=\"\n",
       "  2290.59,1486.45 2290.59,1467.55 \n",
       "  \"/>\n",
       "<path clip-path=\"url(#clip000)\" d=\"M180.585 1515.64 Q176.974 1515.64 175.145 1519.2 Q173.339 1522.75 173.339 1529.87 Q173.339 1536.98 175.145 1540.55 Q176.974 1544.09 180.585 1544.09 Q184.219 1544.09 186.025 1540.55 Q187.853 1536.98 187.853 1529.87 Q187.853 1522.75 186.025 1519.2 Q184.219 1515.64 180.585 1515.64 M180.585 1511.93 Q186.395 1511.93 189.45 1516.54 Q192.529 1521.12 192.529 1529.87 Q192.529 1538.6 189.45 1543.21 Q186.395 1547.79 180.585 1547.79 Q174.775 1547.79 171.696 1543.21 Q168.64 1538.6 168.64 1529.87 Q168.64 1521.12 171.696 1516.54 Q174.775 1511.93 180.585 1511.93 Z\" fill=\"#000000\" fill-rule=\"evenodd\" fill-opacity=\"1\" /><path clip-path=\"url(#clip000)\" d=\"M200.747 1541.24 L205.631 1541.24 L205.631 1547.12 L200.747 1547.12 L200.747 1541.24 Z\" fill=\"#000000\" fill-rule=\"evenodd\" fill-opacity=\"1\" /><path clip-path=\"url(#clip000)\" d=\"M225.816 1515.64 Q222.205 1515.64 220.376 1519.2 Q218.571 1522.75 218.571 1529.87 Q218.571 1536.98 220.376 1540.55 Q222.205 1544.09 225.816 1544.09 Q229.45 1544.09 231.256 1540.55 Q233.084 1536.98 233.084 1529.87 Q233.084 1522.75 231.256 1519.2 Q229.45 1515.64 225.816 1515.64 M225.816 1511.93 Q231.626 1511.93 234.682 1516.54 Q237.76 1521.12 237.76 1529.87 Q237.76 1538.6 234.682 1543.21 Q231.626 1547.79 225.816 1547.79 Q220.006 1547.79 216.927 1543.21 Q213.872 1538.6 213.872 1529.87 Q213.872 1521.12 216.927 1516.54 Q220.006 1511.93 225.816 1511.93 Z\" fill=\"#000000\" fill-rule=\"evenodd\" fill-opacity=\"1\" /><path clip-path=\"url(#clip000)\" d=\"M255.978 1515.64 Q252.367 1515.64 250.538 1519.2 Q248.733 1522.75 248.733 1529.87 Q248.733 1536.98 250.538 1540.55 Q252.367 1544.09 255.978 1544.09 Q259.612 1544.09 261.418 1540.55 Q263.246 1536.98 263.246 1529.87 Q263.246 1522.75 261.418 1519.2 Q259.612 1515.64 255.978 1515.64 M255.978 1511.93 Q261.788 1511.93 264.844 1516.54 Q267.922 1521.12 267.922 1529.87 Q267.922 1538.6 264.844 1543.21 Q261.788 1547.79 255.978 1547.79 Q250.168 1547.79 247.089 1543.21 Q244.033 1538.6 244.033 1529.87 Q244.033 1521.12 247.089 1516.54 Q250.168 1511.93 255.978 1511.93 Z\" fill=\"#000000\" fill-rule=\"evenodd\" fill-opacity=\"1\" /><path clip-path=\"url(#clip000)\" d=\"M699.159 1515.64 Q695.548 1515.64 693.719 1519.2 Q691.913 1522.75 691.913 1529.87 Q691.913 1536.98 693.719 1540.55 Q695.548 1544.09 699.159 1544.09 Q702.793 1544.09 704.599 1540.55 Q706.427 1536.98 706.427 1529.87 Q706.427 1522.75 704.599 1519.2 Q702.793 1515.64 699.159 1515.64 M699.159 1511.93 Q704.969 1511.93 708.024 1516.54 Q711.103 1521.12 711.103 1529.87 Q711.103 1538.6 708.024 1543.21 Q704.969 1547.79 699.159 1547.79 Q693.349 1547.79 690.27 1543.21 Q687.214 1538.6 687.214 1529.87 Q687.214 1521.12 690.27 1516.54 Q693.349 1511.93 699.159 1511.93 Z\" fill=\"#000000\" fill-rule=\"evenodd\" fill-opacity=\"1\" /><path clip-path=\"url(#clip000)\" d=\"M719.321 1541.24 L724.205 1541.24 L724.205 1547.12 L719.321 1547.12 L719.321 1541.24 Z\" fill=\"#000000\" fill-rule=\"evenodd\" fill-opacity=\"1\" /><path clip-path=\"url(#clip000)\" d=\"M738.418 1543.18 L754.737 1543.18 L754.737 1547.12 L732.793 1547.12 L732.793 1543.18 Q735.455 1540.43 740.038 1535.8 Q744.645 1531.15 745.825 1529.81 Q748.071 1527.28 748.95 1525.55 Q749.853 1523.79 749.853 1522.1 Q749.853 1519.34 747.909 1517.61 Q745.987 1515.87 742.885 1515.87 Q740.686 1515.87 738.233 1516.63 Q735.802 1517.4 733.024 1518.95 L733.024 1514.23 Q735.848 1513.09 738.302 1512.51 Q740.756 1511.93 742.793 1511.93 Q748.163 1511.93 751.358 1514.62 Q754.552 1517.31 754.552 1521.8 Q754.552 1523.93 753.742 1525.85 Q752.955 1527.74 750.848 1530.34 Q750.27 1531.01 747.168 1534.23 Q744.066 1537.42 738.418 1543.18 Z\" fill=\"#000000\" fill-rule=\"evenodd\" fill-opacity=\"1\" /><path clip-path=\"url(#clip000)\" d=\"M764.598 1512.56 L782.955 1512.56 L782.955 1516.5 L768.881 1516.5 L768.881 1524.97 Q769.899 1524.62 770.918 1524.46 Q771.936 1524.27 772.955 1524.27 Q778.742 1524.27 782.121 1527.44 Q785.501 1530.62 785.501 1536.03 Q785.501 1541.61 782.029 1544.71 Q778.557 1547.79 772.237 1547.79 Q770.061 1547.79 767.793 1547.42 Q765.547 1547.05 763.14 1546.31 L763.14 1541.61 Q765.223 1542.74 767.445 1543.3 Q769.668 1543.86 772.144 1543.86 Q776.149 1543.86 778.487 1541.75 Q780.825 1539.64 780.825 1536.03 Q780.825 1532.42 778.487 1530.31 Q776.149 1528.21 772.144 1528.21 Q770.27 1528.21 768.395 1528.62 Q766.543 1529.04 764.598 1529.92 L764.598 1512.56 Z\" fill=\"#000000\" fill-rule=\"evenodd\" fill-opacity=\"1\" /><path clip-path=\"url(#clip000)\" d=\"M1216.74 1515.64 Q1213.13 1515.64 1211.3 1519.2 Q1209.49 1522.75 1209.49 1529.87 Q1209.49 1536.98 1211.3 1540.55 Q1213.13 1544.09 1216.74 1544.09 Q1220.37 1544.09 1222.18 1540.55 Q1224.01 1536.98 1224.01 1529.87 Q1224.01 1522.75 1222.18 1519.2 Q1220.37 1515.64 1216.74 1515.64 M1216.74 1511.93 Q1222.55 1511.93 1225.6 1516.54 Q1228.68 1521.12 1228.68 1529.87 Q1228.68 1538.6 1225.6 1543.21 Q1222.55 1547.79 1216.74 1547.79 Q1210.93 1547.79 1207.85 1543.21 Q1204.79 1538.6 1204.79 1529.87 Q1204.79 1521.12 1207.85 1516.54 Q1210.93 1511.93 1216.74 1511.93 Z\" fill=\"#000000\" fill-rule=\"evenodd\" fill-opacity=\"1\" /><path clip-path=\"url(#clip000)\" d=\"M1236.9 1541.24 L1241.78 1541.24 L1241.78 1547.12 L1236.9 1547.12 L1236.9 1541.24 Z\" fill=\"#000000\" fill-rule=\"evenodd\" fill-opacity=\"1\" /><path clip-path=\"url(#clip000)\" d=\"M1252.02 1512.56 L1270.37 1512.56 L1270.37 1516.5 L1256.3 1516.5 L1256.3 1524.97 Q1257.32 1524.62 1258.33 1524.46 Q1259.35 1524.27 1260.37 1524.27 Q1266.16 1524.27 1269.54 1527.44 Q1272.92 1530.62 1272.92 1536.03 Q1272.92 1541.61 1269.45 1544.71 Q1265.97 1547.79 1259.65 1547.79 Q1257.48 1547.79 1255.21 1547.42 Q1252.96 1547.05 1250.56 1546.31 L1250.56 1541.61 Q1252.64 1542.74 1254.86 1543.3 Q1257.08 1543.86 1259.56 1543.86 Q1263.57 1543.86 1265.9 1541.75 Q1268.24 1539.64 1268.24 1536.03 Q1268.24 1532.42 1265.9 1530.31 Q1263.57 1528.21 1259.56 1528.21 Q1257.69 1528.21 1255.81 1528.62 Q1253.96 1529.04 1252.02 1529.92 L1252.02 1512.56 Z\" fill=\"#000000\" fill-rule=\"evenodd\" fill-opacity=\"1\" /><path clip-path=\"url(#clip000)\" d=\"M1292.13 1515.64 Q1288.52 1515.64 1286.69 1519.2 Q1284.89 1522.75 1284.89 1529.87 Q1284.89 1536.98 1286.69 1540.55 Q1288.52 1544.09 1292.13 1544.09 Q1295.76 1544.09 1297.57 1540.55 Q1299.4 1536.98 1299.4 1529.87 Q1299.4 1522.75 1297.57 1519.2 Q1295.76 1515.64 1292.13 1515.64 M1292.13 1511.93 Q1297.94 1511.93 1301 1516.54 Q1304.07 1521.12 1304.07 1529.87 Q1304.07 1538.6 1301 1543.21 Q1297.94 1547.79 1292.13 1547.79 Q1286.32 1547.79 1283.24 1543.21 Q1280.19 1538.6 1280.19 1529.87 Q1280.19 1521.12 1283.24 1516.54 Q1286.32 1511.93 1292.13 1511.93 Z\" fill=\"#000000\" fill-rule=\"evenodd\" fill-opacity=\"1\" /><path clip-path=\"url(#clip000)\" d=\"M1735.31 1515.64 Q1731.7 1515.64 1729.87 1519.2 Q1728.07 1522.75 1728.07 1529.87 Q1728.07 1536.98 1729.87 1540.55 Q1731.7 1544.09 1735.31 1544.09 Q1738.95 1544.09 1740.75 1540.55 Q1742.58 1536.98 1742.58 1529.87 Q1742.58 1522.75 1740.75 1519.2 Q1738.95 1515.64 1735.31 1515.64 M1735.31 1511.93 Q1741.12 1511.93 1744.18 1516.54 Q1747.26 1521.12 1747.26 1529.87 Q1747.26 1538.6 1744.18 1543.21 Q1741.12 1547.79 1735.31 1547.79 Q1729.5 1547.79 1726.42 1543.21 Q1723.37 1538.6 1723.37 1529.87 Q1723.37 1521.12 1726.42 1516.54 Q1729.5 1511.93 1735.31 1511.93 Z\" fill=\"#000000\" fill-rule=\"evenodd\" fill-opacity=\"1\" /><path clip-path=\"url(#clip000)\" d=\"M1755.47 1541.24 L1760.36 1541.24 L1760.36 1547.12 L1755.47 1547.12 L1755.47 1541.24 Z\" fill=\"#000000\" fill-rule=\"evenodd\" fill-opacity=\"1\" /><path clip-path=\"url(#clip000)\" d=\"M1769.36 1512.56 L1791.58 1512.56 L1791.58 1514.55 L1779.04 1547.12 L1774.15 1547.12 L1785.96 1516.5 L1769.36 1516.5 L1769.36 1512.56 Z\" fill=\"#000000\" fill-rule=\"evenodd\" fill-opacity=\"1\" /><path clip-path=\"url(#clip000)\" d=\"M1800.75 1512.56 L1819.11 1512.56 L1819.11 1516.5 L1805.03 1516.5 L1805.03 1524.97 Q1806.05 1524.62 1807.07 1524.46 Q1808.09 1524.27 1809.11 1524.27 Q1814.89 1524.27 1818.27 1527.44 Q1821.65 1530.62 1821.65 1536.03 Q1821.65 1541.61 1818.18 1544.71 Q1814.71 1547.79 1808.39 1547.79 Q1806.21 1547.79 1803.95 1547.42 Q1801.7 1547.05 1799.29 1546.31 L1799.29 1541.61 Q1801.38 1542.74 1803.6 1543.3 Q1805.82 1543.86 1808.3 1543.86 Q1812.3 1543.86 1814.64 1541.75 Q1816.98 1539.64 1816.98 1536.03 Q1816.98 1532.42 1814.64 1530.31 Q1812.3 1528.21 1808.3 1528.21 Q1806.42 1528.21 1804.55 1528.62 Q1802.7 1529.04 1800.75 1529.92 L1800.75 1512.56 Z\" fill=\"#000000\" fill-rule=\"evenodd\" fill-opacity=\"1\" /><path clip-path=\"url(#clip000)\" d=\"M2242.66 1543.18 L2250.3 1543.18 L2250.3 1516.82 L2241.99 1518.49 L2241.99 1514.23 L2250.25 1512.56 L2254.93 1512.56 L2254.93 1543.18 L2262.57 1543.18 L2262.57 1547.12 L2242.66 1547.12 L2242.66 1543.18 Z\" fill=\"#000000\" fill-rule=\"evenodd\" fill-opacity=\"1\" /><path clip-path=\"url(#clip000)\" d=\"M2272.01 1541.24 L2276.89 1541.24 L2276.89 1547.12 L2272.01 1547.12 L2272.01 1541.24 Z\" fill=\"#000000\" fill-rule=\"evenodd\" fill-opacity=\"1\" /><path clip-path=\"url(#clip000)\" d=\"M2297.08 1515.64 Q2293.47 1515.64 2291.64 1519.2 Q2289.83 1522.75 2289.83 1529.87 Q2289.83 1536.98 2291.64 1540.55 Q2293.47 1544.09 2297.08 1544.09 Q2300.71 1544.09 2302.52 1540.55 Q2304.35 1536.98 2304.35 1529.87 Q2304.35 1522.75 2302.52 1519.2 Q2300.71 1515.64 2297.08 1515.64 M2297.08 1511.93 Q2302.89 1511.93 2305.95 1516.54 Q2309.02 1521.12 2309.02 1529.87 Q2309.02 1538.6 2305.95 1543.21 Q2302.89 1547.79 2297.08 1547.79 Q2291.27 1547.79 2288.19 1543.21 Q2285.14 1538.6 2285.14 1529.87 Q2285.14 1521.12 2288.19 1516.54 Q2291.27 1511.93 2297.08 1511.93 Z\" fill=\"#000000\" fill-rule=\"evenodd\" fill-opacity=\"1\" /><path clip-path=\"url(#clip000)\" d=\"M2327.24 1515.64 Q2323.63 1515.64 2321.8 1519.2 Q2320 1522.75 2320 1529.87 Q2320 1536.98 2321.8 1540.55 Q2323.63 1544.09 2327.24 1544.09 Q2330.88 1544.09 2332.68 1540.55 Q2334.51 1536.98 2334.51 1529.87 Q2334.51 1522.75 2332.68 1519.2 Q2330.88 1515.64 2327.24 1515.64 M2327.24 1511.93 Q2333.05 1511.93 2336.11 1516.54 Q2339.19 1521.12 2339.19 1529.87 Q2339.19 1538.6 2336.11 1543.21 Q2333.05 1547.79 2327.24 1547.79 Q2321.43 1547.79 2318.35 1543.21 Q2315.3 1538.6 2315.3 1529.87 Q2315.3 1521.12 2318.35 1516.54 Q2321.43 1511.93 2327.24 1511.93 Z\" fill=\"#000000\" fill-rule=\"evenodd\" fill-opacity=\"1\" /><polyline clip-path=\"url(#clip002)\" style=\"stroke:#000000; stroke-linecap:butt; stroke-linejoin:round; stroke-width:2; stroke-opacity:0.1; fill:none\" points=\"\n",
       "  156.112,1445.72 2352.76,1445.72 \n",
       "  \"/>\n",
       "<polyline clip-path=\"url(#clip002)\" style=\"stroke:#000000; stroke-linecap:butt; stroke-linejoin:round; stroke-width:2; stroke-opacity:0.1; fill:none\" points=\"\n",
       "  156.112,1197.11 2352.76,1197.11 \n",
       "  \"/>\n",
       "<polyline clip-path=\"url(#clip002)\" style=\"stroke:#000000; stroke-linecap:butt; stroke-linejoin:round; stroke-width:2; stroke-opacity:0.1; fill:none\" points=\"\n",
       "  156.112,948.498 2352.76,948.498 \n",
       "  \"/>\n",
       "<polyline clip-path=\"url(#clip002)\" style=\"stroke:#000000; stroke-linecap:butt; stroke-linejoin:round; stroke-width:2; stroke-opacity:0.1; fill:none\" points=\"\n",
       "  156.112,699.889 2352.76,699.889 \n",
       "  \"/>\n",
       "<polyline clip-path=\"url(#clip002)\" style=\"stroke:#000000; stroke-linecap:butt; stroke-linejoin:round; stroke-width:2; stroke-opacity:0.1; fill:none\" points=\"\n",
       "  156.112,451.28 2352.76,451.28 \n",
       "  \"/>\n",
       "<polyline clip-path=\"url(#clip002)\" style=\"stroke:#000000; stroke-linecap:butt; stroke-linejoin:round; stroke-width:2; stroke-opacity:0.1; fill:none\" points=\"\n",
       "  156.112,202.672 2352.76,202.672 \n",
       "  \"/>\n",
       "<polyline clip-path=\"url(#clip000)\" style=\"stroke:#000000; stroke-linecap:butt; stroke-linejoin:round; stroke-width:4; stroke-opacity:1; fill:none\" points=\"\n",
       "  156.112,1486.45 156.112,47.2441 \n",
       "  \"/>\n",
       "<polyline clip-path=\"url(#clip000)\" style=\"stroke:#000000; stroke-linecap:butt; stroke-linejoin:round; stroke-width:4; stroke-opacity:1; fill:none\" points=\"\n",
       "  156.112,1445.72 175.01,1445.72 \n",
       "  \"/>\n",
       "<polyline clip-path=\"url(#clip000)\" style=\"stroke:#000000; stroke-linecap:butt; stroke-linejoin:round; stroke-width:4; stroke-opacity:1; fill:none\" points=\"\n",
       "  156.112,1197.11 175.01,1197.11 \n",
       "  \"/>\n",
       "<polyline clip-path=\"url(#clip000)\" style=\"stroke:#000000; stroke-linecap:butt; stroke-linejoin:round; stroke-width:4; stroke-opacity:1; fill:none\" points=\"\n",
       "  156.112,948.498 175.01,948.498 \n",
       "  \"/>\n",
       "<polyline clip-path=\"url(#clip000)\" style=\"stroke:#000000; stroke-linecap:butt; stroke-linejoin:round; stroke-width:4; stroke-opacity:1; fill:none\" points=\"\n",
       "  156.112,699.889 175.01,699.889 \n",
       "  \"/>\n",
       "<polyline clip-path=\"url(#clip000)\" style=\"stroke:#000000; stroke-linecap:butt; stroke-linejoin:round; stroke-width:4; stroke-opacity:1; fill:none\" points=\"\n",
       "  156.112,451.28 175.01,451.28 \n",
       "  \"/>\n",
       "<polyline clip-path=\"url(#clip000)\" style=\"stroke:#000000; stroke-linecap:butt; stroke-linejoin:round; stroke-width:4; stroke-opacity:1; fill:none\" points=\"\n",
       "  156.112,202.672 175.01,202.672 \n",
       "  \"/>\n",
       "<path clip-path=\"url(#clip000)\" d=\"M62.9365 1431.51 Q59.3254 1431.51 57.4967 1435.08 Q55.6912 1438.62 55.6912 1445.75 Q55.6912 1452.86 57.4967 1456.42 Q59.3254 1459.96 62.9365 1459.96 Q66.5707 1459.96 68.3763 1456.42 Q70.205 1452.86 70.205 1445.75 Q70.205 1438.62 68.3763 1435.08 Q66.5707 1431.51 62.9365 1431.51 M62.9365 1427.81 Q68.7467 1427.81 71.8022 1432.42 Q74.8809 1437 74.8809 1445.75 Q74.8809 1454.48 71.8022 1459.08 Q68.7467 1463.67 62.9365 1463.67 Q57.1264 1463.67 54.0477 1459.08 Q50.9921 1454.48 50.9921 1445.75 Q50.9921 1437 54.0477 1432.42 Q57.1264 1427.81 62.9365 1427.81 Z\" fill=\"#000000\" fill-rule=\"evenodd\" fill-opacity=\"1\" /><path clip-path=\"url(#clip000)\" d=\"M83.0984 1457.12 L87.9827 1457.12 L87.9827 1463 L83.0984 1463 L83.0984 1457.12 Z\" fill=\"#000000\" fill-rule=\"evenodd\" fill-opacity=\"1\" /><path clip-path=\"url(#clip000)\" d=\"M108.168 1431.51 Q104.557 1431.51 102.728 1435.08 Q100.922 1438.62 100.922 1445.75 Q100.922 1452.86 102.728 1456.42 Q104.557 1459.96 108.168 1459.96 Q111.802 1459.96 113.608 1456.42 Q115.436 1452.86 115.436 1445.75 Q115.436 1438.62 113.608 1435.08 Q111.802 1431.51 108.168 1431.51 M108.168 1427.81 Q113.978 1427.81 117.033 1432.42 Q120.112 1437 120.112 1445.75 Q120.112 1454.48 117.033 1459.08 Q113.978 1463.67 108.168 1463.67 Q102.358 1463.67 99.2789 1459.08 Q96.2234 1454.48 96.2234 1445.75 Q96.2234 1437 99.2789 1432.42 Q102.358 1427.81 108.168 1427.81 Z\" fill=\"#000000\" fill-rule=\"evenodd\" fill-opacity=\"1\" /><path clip-path=\"url(#clip000)\" d=\"M63.9319 1182.91 Q60.3208 1182.91 58.4921 1186.47 Q56.6865 1190.01 56.6865 1197.14 Q56.6865 1204.25 58.4921 1207.81 Q60.3208 1211.35 63.9319 1211.35 Q67.5661 1211.35 69.3717 1207.81 Q71.2004 1204.25 71.2004 1197.14 Q71.2004 1190.01 69.3717 1186.47 Q67.5661 1182.91 63.9319 1182.91 M63.9319 1179.2 Q69.742 1179.2 72.7976 1183.81 Q75.8763 1188.39 75.8763 1197.14 Q75.8763 1205.87 72.7976 1210.47 Q69.742 1215.06 63.9319 1215.06 Q58.1217 1215.06 55.043 1210.47 Q51.9875 1205.87 51.9875 1197.14 Q51.9875 1188.39 55.043 1183.81 Q58.1217 1179.2 63.9319 1179.2 Z\" fill=\"#000000\" fill-rule=\"evenodd\" fill-opacity=\"1\" /><path clip-path=\"url(#clip000)\" d=\"M84.0938 1208.51 L88.978 1208.51 L88.978 1214.39 L84.0938 1214.39 L84.0938 1208.51 Z\" fill=\"#000000\" fill-rule=\"evenodd\" fill-opacity=\"1\" /><path clip-path=\"url(#clip000)\" d=\"M99.2095 1179.83 L117.566 1179.83 L117.566 1183.76 L103.492 1183.76 L103.492 1192.23 Q104.51 1191.89 105.529 1191.72 Q106.547 1191.54 107.566 1191.54 Q113.353 1191.54 116.733 1194.71 Q120.112 1197.88 120.112 1203.3 Q120.112 1208.88 116.64 1211.98 Q113.168 1215.06 106.848 1215.06 Q104.672 1215.06 102.404 1214.69 Q100.159 1214.32 97.7511 1213.58 L97.7511 1208.88 Q99.8345 1210.01 102.057 1210.57 Q104.279 1211.12 106.756 1211.12 Q110.76 1211.12 113.098 1209.02 Q115.436 1206.91 115.436 1203.3 Q115.436 1199.69 113.098 1197.58 Q110.76 1195.47 106.756 1195.47 Q104.881 1195.47 103.006 1195.89 Q101.154 1196.31 99.2095 1197.19 L99.2095 1179.83 Z\" fill=\"#000000\" fill-rule=\"evenodd\" fill-opacity=\"1\" /><path clip-path=\"url(#clip000)\" d=\"M53.7467 961.843 L61.3856 961.843 L61.3856 935.477 L53.0754 937.144 L53.0754 932.885 L61.3393 931.218 L66.0152 931.218 L66.0152 961.843 L73.654 961.843 L73.654 965.778 L53.7467 965.778 L53.7467 961.843 Z\" fill=\"#000000\" fill-rule=\"evenodd\" fill-opacity=\"1\" /><path clip-path=\"url(#clip000)\" d=\"M83.0984 959.898 L87.9827 959.898 L87.9827 965.778 L83.0984 965.778 L83.0984 959.898 Z\" fill=\"#000000\" fill-rule=\"evenodd\" fill-opacity=\"1\" /><path clip-path=\"url(#clip000)\" d=\"M108.168 934.297 Q104.557 934.297 102.728 937.862 Q100.922 941.403 100.922 948.533 Q100.922 955.639 102.728 959.204 Q104.557 962.746 108.168 962.746 Q111.802 962.746 113.608 959.204 Q115.436 955.639 115.436 948.533 Q115.436 941.403 113.608 937.862 Q111.802 934.297 108.168 934.297 M108.168 930.593 Q113.978 930.593 117.033 935.2 Q120.112 939.783 120.112 948.533 Q120.112 957.26 117.033 961.866 Q113.978 966.449 108.168 966.449 Q102.358 966.449 99.2789 961.866 Q96.2234 957.26 96.2234 948.533 Q96.2234 939.783 99.2789 935.2 Q102.358 930.593 108.168 930.593 Z\" fill=\"#000000\" fill-rule=\"evenodd\" fill-opacity=\"1\" /><path clip-path=\"url(#clip000)\" d=\"M54.7421 713.234 L62.381 713.234 L62.381 686.869 L54.0708 688.535 L54.0708 684.276 L62.3347 682.609 L67.0106 682.609 L67.0106 713.234 L74.6494 713.234 L74.6494 717.169 L54.7421 717.169 L54.7421 713.234 Z\" fill=\"#000000\" fill-rule=\"evenodd\" fill-opacity=\"1\" /><path clip-path=\"url(#clip000)\" d=\"M84.0938 711.29 L88.978 711.29 L88.978 717.169 L84.0938 717.169 L84.0938 711.29 Z\" fill=\"#000000\" fill-rule=\"evenodd\" fill-opacity=\"1\" /><path clip-path=\"url(#clip000)\" d=\"M99.2095 682.609 L117.566 682.609 L117.566 686.544 L103.492 686.544 L103.492 695.017 Q104.51 694.669 105.529 694.507 Q106.547 694.322 107.566 694.322 Q113.353 694.322 116.733 697.493 Q120.112 700.665 120.112 706.081 Q120.112 711.66 116.64 714.762 Q113.168 717.841 106.848 717.841 Q104.672 717.841 102.404 717.47 Q100.159 717.1 97.7511 716.359 L97.7511 711.66 Q99.8345 712.794 102.057 713.35 Q104.279 713.905 106.756 713.905 Q110.76 713.905 113.098 711.799 Q115.436 709.692 115.436 706.081 Q115.436 702.47 113.098 700.364 Q110.76 698.257 106.756 698.257 Q104.881 698.257 103.006 698.674 Q101.154 699.091 99.2095 699.97 L99.2095 682.609 Z\" fill=\"#000000\" fill-rule=\"evenodd\" fill-opacity=\"1\" /><path clip-path=\"url(#clip000)\" d=\"M56.9643 464.625 L73.2837 464.625 L73.2837 468.56 L51.3393 468.56 L51.3393 464.625 Q54.0014 461.871 58.5847 457.241 Q63.1911 452.588 64.3717 451.246 Q66.617 448.723 67.4967 446.987 Q68.3994 445.227 68.3994 443.537 Q68.3994 440.783 66.455 439.047 Q64.5337 437.311 61.4319 437.311 Q59.2328 437.311 56.7791 438.075 Q54.3486 438.838 51.5708 440.389 L51.5708 435.667 Q54.3949 434.533 56.8486 433.954 Q59.3023 433.375 61.3393 433.375 Q66.7096 433.375 69.9041 436.061 Q73.0985 438.746 73.0985 443.237 Q73.0985 445.366 72.2883 447.287 Q71.5013 449.186 69.3948 451.778 Q68.8161 452.449 65.7143 455.667 Q62.6124 458.861 56.9643 464.625 Z\" fill=\"#000000\" fill-rule=\"evenodd\" fill-opacity=\"1\" /><path clip-path=\"url(#clip000)\" d=\"M83.0984 462.681 L87.9827 462.681 L87.9827 468.56 L83.0984 468.56 L83.0984 462.681 Z\" fill=\"#000000\" fill-rule=\"evenodd\" fill-opacity=\"1\" /><path clip-path=\"url(#clip000)\" d=\"M108.168 437.079 Q104.557 437.079 102.728 440.644 Q100.922 444.186 100.922 451.315 Q100.922 458.422 102.728 461.986 Q104.557 465.528 108.168 465.528 Q111.802 465.528 113.608 461.986 Q115.436 458.422 115.436 451.315 Q115.436 444.186 113.608 440.644 Q111.802 437.079 108.168 437.079 M108.168 433.375 Q113.978 433.375 117.033 437.982 Q120.112 442.565 120.112 451.315 Q120.112 460.042 117.033 464.648 Q113.978 469.232 108.168 469.232 Q102.358 469.232 99.2789 464.648 Q96.2234 460.042 96.2234 451.315 Q96.2234 442.565 99.2789 437.982 Q102.358 433.375 108.168 433.375 Z\" fill=\"#000000\" fill-rule=\"evenodd\" fill-opacity=\"1\" /><path clip-path=\"url(#clip000)\" d=\"M57.9597 216.016 L74.279 216.016 L74.279 219.952 L52.3347 219.952 L52.3347 216.016 Q54.9967 213.262 59.58 208.632 Q64.1865 203.98 65.367 202.637 Q67.6124 200.114 68.492 198.378 Q69.3948 196.618 69.3948 194.929 Q69.3948 192.174 67.4504 190.438 Q65.5291 188.702 62.4272 188.702 Q60.2282 188.702 57.7745 189.466 Q55.344 190.23 52.5662 191.781 L52.5662 187.058 Q55.3903 185.924 57.8439 185.345 Q60.2976 184.767 62.3347 184.767 Q67.705 184.767 70.8994 187.452 Q74.0939 190.137 74.0939 194.628 Q74.0939 196.757 73.2837 198.679 Q72.4966 200.577 70.3902 203.169 Q69.8115 203.841 66.7096 207.058 Q63.6078 210.253 57.9597 216.016 Z\" fill=\"#000000\" fill-rule=\"evenodd\" fill-opacity=\"1\" /><path clip-path=\"url(#clip000)\" d=\"M84.0938 214.072 L88.978 214.072 L88.978 219.952 L84.0938 219.952 L84.0938 214.072 Z\" fill=\"#000000\" fill-rule=\"evenodd\" fill-opacity=\"1\" /><path clip-path=\"url(#clip000)\" d=\"M99.2095 185.392 L117.566 185.392 L117.566 189.327 L103.492 189.327 L103.492 197.799 Q104.51 197.452 105.529 197.29 Q106.547 197.105 107.566 197.105 Q113.353 197.105 116.733 200.276 Q120.112 203.447 120.112 208.864 Q120.112 214.442 116.64 217.544 Q113.168 220.623 106.848 220.623 Q104.672 220.623 102.404 220.253 Q100.159 219.882 97.7511 219.141 L97.7511 214.442 Q99.8345 215.577 102.057 216.132 Q104.279 216.688 106.756 216.688 Q110.76 216.688 113.098 214.581 Q115.436 212.475 115.436 208.864 Q115.436 205.253 113.098 203.146 Q110.76 201.04 106.756 201.04 Q104.881 201.04 103.006 201.456 Q101.154 201.873 99.2095 202.753 L99.2095 185.392 Z\" fill=\"#000000\" fill-rule=\"evenodd\" fill-opacity=\"1\" /><polyline clip-path=\"url(#clip002)\" style=\"stroke:#009af9; stroke-linecap:butt; stroke-linejoin:round; stroke-width:4; stroke-opacity:1; fill:none\" points=\"\n",
       "  218.281,1445.72 239.004,1445.72 259.727,1445.72 280.45,1445.72 301.174,1445.71 321.897,1445.71 342.62,1445.7 363.343,1445.68 384.066,1445.63 404.789,1445.55 \n",
       "  425.512,1445.41 446.235,1445.19 466.958,1444.87 487.681,1444.39 508.404,1443.72 529.127,1442.79 549.85,1441.56 570.573,1439.95 591.296,1437.88 612.019,1435.27 \n",
       "  632.742,1432.03 653.465,1428.05 674.188,1423.24 694.912,1417.49 715.635,1410.68 736.358,1402.7 757.081,1393.43 777.804,1382.77 798.527,1370.59 819.25,1356.8 \n",
       "  839.973,1341.28 860.696,1323.94 881.419,1304.7 902.142,1283.48 922.865,1260.22 943.588,1234.87 964.311,1207.38 985.034,1177.76 1005.76,1146 1026.48,1112.13 \n",
       "  1047.2,1076.19 1067.93,1038.26 1088.65,998.409 1109.37,956.769 1130.1,913.478 1150.82,868.698 1171.54,822.621 1192.26,775.46 1212.99,727.453 1233.71,678.861 \n",
       "  1254.43,629.968 1275.16,581.076 1295.88,532.508 1316.6,484.602 1337.33,437.713 1358.05,392.204 1378.77,348.45 1399.5,306.83 1420.22,267.726 1440.94,231.518 \n",
       "  1461.66,198.581 1482.39,169.281 1503.11,143.968 1523.83,122.976 1544.56,106.615 1565.28,95.1676 1586,88.8835 1606.73,87.9763 1627.45,92.6179 1648.17,102.934 \n",
       "  1668.9,119 1689.62,140.838 1710.34,168.41 1731.06,201.619 1751.79,240.302 1772.51,284.231 1793.23,333.111 1813.96,386.575 1834.68,444.191 1855.4,505.459 \n",
       "  1876.13,569.813 1896.85,636.626 1917.57,705.213 1938.29,774.841 1959.02,844.734 1979.74,914.081 2000.46,982.055 2021.19,1047.82 2041.91,1110.55 2062.63,1169.44 \n",
       "  2083.36,1223.75 2104.08,1272.81 2124.8,1316.05 2145.53,1353.03 2166.25,1383.48 2186.97,1407.34 2207.69,1424.79 2228.42,1436.32 2249.14,1442.76 2269.86,1445.32 \n",
       "  2290.59,1445.72 \n",
       "  \"/>\n",
       "<polyline clip-path=\"url(#clip002)\" style=\"stroke:#e26f46; stroke-linecap:butt; stroke-linejoin:round; stroke-width:4; stroke-opacity:1; fill:none\" stroke-dasharray=\"16, 10\" points=\"\n",
       "  218.281,1443.85 239.004,1443.41 259.727,1442.89 280.45,1442.25 301.174,1441.49 321.897,1440.58 342.62,1439.49 363.343,1438.2 384.066,1436.67 404.789,1434.87 \n",
       "  425.512,1432.75 446.235,1430.28 466.958,1427.39 487.681,1424.05 508.404,1420.18 529.127,1415.72 549.85,1410.6 570.573,1404.76 591.296,1398.1 612.019,1390.56 \n",
       "  632.742,1382.04 653.465,1372.47 674.188,1361.74 694.912,1349.77 715.635,1336.48 736.358,1321.77 757.081,1305.57 777.804,1287.8 798.527,1268.39 819.25,1247.29 \n",
       "  839.973,1224.44 860.696,1199.81 881.419,1173.38 902.142,1145.16 922.865,1115.15 943.588,1083.41 964.311,1049.99 985.034,1014.97 1005.76,978.486 1026.48,940.656 \n",
       "  1047.2,901.65 1067.93,861.655 1088.65,820.886 1109.37,779.581 1130.1,737.997 1150.82,696.416 1171.54,655.131 1192.26,614.453 1212.99,574.701 1233.71,536.201 \n",
       "  1254.43,499.28 1275.16,464.261 1295.88,431.463 1316.6,401.189 1337.33,373.727 1358.05,349.343 1378.77,328.278 1399.5,310.742 1420.22,296.913 1440.94,286.933 \n",
       "  1461.66,280.903 1482.39,278.886 1503.11,280.903 1523.83,286.933 1544.56,296.913 1565.28,310.742 1586,328.278 1606.73,349.343 1627.45,373.727 1648.17,401.189 \n",
       "  1668.9,431.463 1689.62,464.261 1710.34,499.28 1731.06,536.201 1751.79,574.701 1772.51,614.453 1793.23,655.131 1813.96,696.416 1834.68,737.997 1855.4,779.581 \n",
       "  1876.13,820.886 1896.85,861.655 1917.57,901.65 1938.29,940.656 1959.02,978.486 1979.74,1014.97 2000.46,1049.99 2021.19,1083.41 2041.91,1115.15 2062.63,1145.16 \n",
       "  2083.36,1173.38 2104.08,1199.81 2124.8,1224.44 2145.53,1247.29 2166.25,1268.39 2186.97,1287.8 2207.69,1305.57 2228.42,1321.77 2249.14,1336.48 2269.86,1349.77 \n",
       "  2290.59,1361.74 \n",
       "  \"/>\n",
       "<path clip-path=\"url(#clip000)\" d=\"\n",
       "M1774.28 237.718 L2279.53 237.718 L2279.53 95.2176 L1774.28 95.2176  Z\n",
       "  \" fill=\"#ffffff\" fill-rule=\"evenodd\" fill-opacity=\"1\"/>\n",
       "<polyline clip-path=\"url(#clip000)\" style=\"stroke:#000000; stroke-linecap:butt; stroke-linejoin:round; stroke-width:4; stroke-opacity:1; fill:none\" points=\"\n",
       "  1774.28,237.718 2279.53,237.718 2279.53,95.2176 1774.28,95.2176 1774.28,237.718 \n",
       "  \"/>\n",
       "<polyline clip-path=\"url(#clip000)\" style=\"stroke:#009af9; stroke-linecap:butt; stroke-linejoin:round; stroke-width:4; stroke-opacity:1; fill:none\" points=\"\n",
       "  1798.69,142.718 1945.13,142.718 \n",
       "  \"/>\n",
       "<path clip-path=\"url(#clip000)\" d=\"M2002.83 132.774 Q2002.05 135.819 1999.24 138.02 Q1997.56 139.402 1995.21 140.503 L1995.26 140.901 Q1999.45 141.698 2000.48 143.056 Q2001.19 143.993 2001.37 145.469 Q2001.58 146.921 2001.26 148.279 Q2000.41 151.535 1996.45 154.791 Q1993.57 157.063 1989.8 158.234 Q1986.03 159.405 1982.49 159.405 L1969.54 159.405 L1971.46 156.875 Q1973.29 156.875 1974.77 156.337 Q1976.26 155.798 1977.83 154.557 Q1980.06 152.706 1981.21 150.2 Q1982.54 147.46 1983.83 142.283 L1987.39 128.089 Q1985.7 128.253 1983.53 129.05 Q1981.35 129.846 1979.75 131.111 Q1977.69 132.75 1977.27 134.366 Q1977.27 134.39 1977.13 135.959 Q1977.13 137.06 1977.06 137.294 Q1976.8 138.395 1976.26 138.817 Q1975.33 139.543 1974.39 139.543 Q1973.85 139.543 1973.62 139.074 Q1973.01 138.372 1973.48 136.428 Q1974.13 133.5 1977.27 130.97 Q1981.51 127.668 1987.72 126.731 L1990.97 125.208 L1991.37 125.536 L1991.14 126.637 Q1996.08 126.637 1998.52 127.035 Q2001.26 127.48 2002.22 128.839 Q2003.39 130.338 2002.83 132.774 M1999.19 134.085 Q1999.83 131.509 1998.66 130.01 Q1997.88 128.932 1995.92 128.417 Q1993.85 127.949 1990.79 127.949 L1987.72 140.128 Q1987.65 140.409 1987.83 140.597 Q1988.05 140.761 1988.26 140.808 Q1988.49 140.831 1988.77 140.831 Q1993.13 140.831 1996.31 138.301 Q1998.61 136.545 1999.19 134.085 M1997.6 148.842 Q1997.91 147.647 1997.72 146.312 Q1997.56 144.953 1996.92 144.11 Q1996.01 142.892 1994.49 142.471 Q1993.2 142.049 1990.32 142.049 Q1989.24 142.049 1987.04 142.236 Q1986.97 142.4 1986.66 143.197 Q1986.38 143.97 1986.29 144.251 Q1986.2 144.508 1985.91 145.211 Q1985.63 145.914 1985.47 146.288 Q1985.31 146.64 1985.02 147.272 Q1984.74 147.881 1984.51 148.303 Q1984.3 148.701 1983.99 149.216 Q1983.71 149.708 1983.41 150.153 Q1982.24 151.886 1980.36 153.737 Q1978.49 155.564 1976.92 156.524 L1977.06 156.922 L1984.98 156.922 Q1988.05 156.922 1990.65 156.477 Q1992.4 156.173 1993.95 154.838 Q1995.24 153.76 1996.2 152.121 Q1997.18 150.481 1997.6 148.842 Z\" fill=\"#000000\" fill-rule=\"evenodd\" fill-opacity=\"1\" /><path clip-path=\"url(#clip000)\" d=\"M2024.74 153.807 Q2024.92 154.018 2024.92 154.229 Q2024.92 154.439 2024.45 155.048 Q2024.01 155.657 2023.05 156.477 Q2022.09 157.297 2020.85 158.07 Q2019.61 158.843 2017.78 159.358 Q2015.95 159.897 2014.03 159.897 Q2010.59 159.897 2008.53 157.438 Q2006.49 154.978 2006.49 151.207 Q2006.49 148.795 2007.29 146.663 Q2008.08 144.508 2009.37 142.986 Q2010.68 141.463 2012.32 140.363 Q2013.98 139.238 2015.72 138.7 Q2017.45 138.161 2019.07 138.161 Q2021.43 138.161 2022.81 139.355 Q2024.2 140.55 2024.2 142.236 Q2024.2 142.635 2024.08 143.126 Q2023.99 143.618 2023.66 144.391 Q2023.35 145.164 2022.56 145.937 Q2021.76 146.687 2020.59 147.179 Q2017.99 148.279 2013.26 148.279 L2010.71 148.279 Q2009.96 151.301 2009.96 153.268 Q2009.96 154.041 2010.1 154.838 Q2010.24 155.611 2010.61 156.594 Q2011.01 157.578 2011.9 158.21 Q2012.81 158.819 2014.12 158.819 Q2014.55 158.819 2014.99 158.796 Q2015.46 158.773 2016.63 158.515 Q2017.83 158.257 2018.88 157.812 Q2019.93 157.367 2021.27 156.407 Q2022.63 155.423 2023.7 154.088 Q2024.08 153.596 2024.34 153.596 Q2024.55 153.596 2024.74 153.807 M2022.6 142.236 Q2022.6 140.948 2021.64 140.082 Q2020.71 139.215 2019.07 139.215 Q2018.55 139.215 2017.92 139.332 Q2017.29 139.449 2016.23 139.941 Q2015.2 140.433 2014.29 141.253 Q2013.38 142.049 2012.46 143.618 Q2011.55 145.164 2011.01 147.225 L2012.98 147.225 Q2013.66 147.225 2014.15 147.225 Q2014.64 147.202 2015.72 147.108 Q2016.82 147.015 2017.61 146.851 Q2018.41 146.663 2019.42 146.288 Q2020.43 145.914 2021.06 145.422 Q2021.71 144.907 2022.16 144.087 Q2022.6 143.267 2022.6 142.236 Z\" fill=\"#000000\" fill-rule=\"evenodd\" fill-opacity=\"1\" /><path clip-path=\"url(#clip000)\" d=\"M2042.22 139.215 Q2042.22 139.871 2041.92 140.035 Q2041.61 140.175 2040.77 140.175 L2036.27 140.175 L2032.71 154.322 Q2032.43 155.564 2032.43 156.618 Q2032.43 157.789 2032.78 158.304 Q2033.16 158.819 2033.93 158.819 Q2035.45 158.819 2037.09 157.438 Q2038.76 156.056 2040.16 152.683 Q2040.35 152.238 2040.44 152.144 Q2040.56 152.027 2040.86 152.027 Q2041.45 152.027 2041.45 152.495 Q2041.45 152.659 2041.12 153.409 Q2040.82 154.158 2040.14 155.259 Q2039.48 156.36 2038.62 157.391 Q2037.77 158.421 2036.48 159.171 Q2035.2 159.897 2033.81 159.897 Q2031.87 159.897 2030.63 158.656 Q2029.41 157.414 2029.41 155.47 Q2029.41 154.838 2029.9 152.823 Q2030.39 150.786 2033.07 140.175 L2028.83 140.175 Q2028.24 140.175 2028.01 140.152 Q2027.79 140.128 2027.63 140.011 Q2027.49 139.871 2027.49 139.59 Q2027.49 139.145 2027.68 138.957 Q2027.87 138.746 2028.1 138.723 Q2028.36 138.676 2028.94 138.676 L2033.44 138.676 L2035.31 131.064 Q2035.5 130.314 2035.97 129.893 Q2036.46 129.448 2036.74 129.401 Q2037.02 129.331 2037.23 129.331 Q2037.87 129.331 2038.24 129.682 Q2038.62 130.01 2038.62 130.619 Q2038.62 130.947 2036.65 138.676 L2040.86 138.676 Q2041.4 138.676 2041.61 138.7 Q2041.85 138.723 2042.04 138.84 Q2042.22 138.957 2042.22 139.215 Z\" fill=\"#000000\" fill-rule=\"evenodd\" fill-opacity=\"1\" /><path clip-path=\"url(#clip000)\" d=\"M2065.73 152.495 Q2065.09 155.517 2064.27 157.25 Q2062.96 159.897 2060.74 159.897 Q2059.05 159.897 2057.86 158.866 Q2056.66 157.836 2056.38 156.29 Q2053.31 159.897 2050.13 159.897 Q2047.32 159.897 2045.54 157.765 Q2043.76 155.611 2043.76 152.214 Q2043.76 148.795 2045.44 145.516 Q2047.15 142.236 2049.85 140.199 Q2052.54 138.161 2055.3 138.161 Q2058.23 138.161 2059.73 141.229 Q2059.85 140.386 2060.39 139.754 Q2060.92 139.121 2061.74 139.121 Q2062.38 139.121 2062.75 139.473 Q2063.13 139.8 2063.13 140.409 Q2063.13 140.714 2062.8 142.049 L2061.06 148.748 L2060.01 153.081 Q2059.61 154.674 2059.5 155.259 Q2059.4 155.845 2059.4 156.618 Q2059.4 158.819 2060.83 158.819 Q2061.53 158.819 2062.1 158.374 Q2062.66 157.929 2063.1 156.993 Q2063.55 156.056 2063.83 155.189 Q2064.11 154.299 2064.48 152.894 Q2064.6 152.331 2064.7 152.191 Q2064.81 152.027 2065.14 152.027 Q2065.73 152.027 2065.73 152.495 M2059.14 143.431 Q2059.14 143.22 2058.98 142.635 Q2058.82 142.049 2058.44 141.229 Q2058.07 140.409 2057.25 139.824 Q2056.45 139.215 2055.37 139.215 Q2053.92 139.215 2052.4 140.456 Q2050.9 141.698 2049.8 143.806 Q2048.96 145.492 2048.04 149.029 Q2047.15 152.566 2047.15 154.322 Q2047.15 155.4 2047.39 156.36 Q2047.64 157.297 2048.37 158.07 Q2049.1 158.819 2050.22 158.819 Q2052.96 158.819 2055.65 155.423 Q2056.17 154.838 2056.29 154.603 Q2056.43 154.346 2056.61 153.643 L2059 144.251 Q2059.14 143.548 2059.14 143.431 Z\" fill=\"#000000\" fill-rule=\"evenodd\" fill-opacity=\"1\" /><polyline clip-path=\"url(#clip000)\" style=\"stroke:#e26f46; stroke-linecap:butt; stroke-linejoin:round; stroke-width:4; stroke-opacity:1; fill:none\" stroke-dasharray=\"16, 10\" points=\"\n",
       "  1798.69,190.218 1945.13,190.218 \n",
       "  \"/>\n",
       "<path clip-path=\"url(#clip000)\" d=\"M2014.11 170.636 Q2013.9 171.479 2013.46 171.784 L2011.73 172.533 Q2010.86 172.533 2010.77 172.346 Q2010.37 171.854 2010.3 171.339 Q2010.3 170.964 2010.09 170.73 Q2009.9 170.472 2009.57 170.472 Q2008.89 170.472 2008.47 170.824 Q2007.46 171.62 2006.83 173.494 Q2006.29 175.04 2004.77 180.989 L1999.87 200.992 L1997.18 202.42 Q1995.1 194.34 1992.89 187.922 Q1990.69 181.481 1987.83 176.422 L1985.73 183.964 Q1982.92 192.888 1982.38 193.988 Q1980.71 197.642 1977.95 199.985 Q1975.21 202.28 1972.63 202.28 Q1970.97 202.28 1970.22 201.273 Q1969.54 200.43 1969.8 199.446 Q1969.99 198.532 1971.04 197.689 Q1971.7 197.197 1972.24 197.197 Q1973.08 197.197 1973.41 197.642 Q1973.45 197.689 1973.52 197.853 Q1973.59 198.017 1973.69 198.251 Q1973.78 198.462 1973.83 198.579 Q1974.11 199.258 1975.02 199.258 Q1976.52 199.258 1978.18 197.923 Q1978.82 197.408 1979.36 196.659 Q1979.92 195.886 1980.15 195.417 Q1980.41 194.949 1980.93 193.895 Q1982.17 191.061 1983.34 186.587 L1986.45 174.173 Q1985.33 172.721 1984.3 172.018 Q1983.15 171.245 1982.21 171.245 Q1980.46 171.245 1979.31 172.252 Q1978.7 172.721 1978.14 173.494 Q1977.6 174.267 1977.32 174.805 Q1977.04 175.344 1976.62 176.328 L1975.51 176.562 Q1976.59 172.276 1979.15 170.191 Q1981.37 168.458 1984.3 168.458 Q1987.11 168.458 1989.29 171.479 Q1990.04 172.44 1990.74 173.798 Q1991.47 175.133 1991.79 175.953 Q1992.14 176.749 1992.87 178.53 L1999.24 196.143 L1999.73 195.558 L2003.43 179.068 Q2004.14 176.117 2005.54 173.166 Q2006.62 170.777 2007.88 169.77 Q2009.78 168.224 2012.1 168.224 Q2013.18 168.224 2013.83 168.95 Q2014.35 169.606 2014.11 170.636 Z\" fill=\"#000000\" fill-rule=\"evenodd\" fill-opacity=\"1\" /><path clip-path=\"url(#clip000)\" d=\"M2017.37 190.1 Q2017.37 181.996 2020.39 175.461 Q2021.68 172.721 2023.48 170.425 Q2025.28 168.13 2026.48 167.123 Q2027.67 166.116 2028 166.116 Q2028.47 166.116 2028.49 166.584 Q2028.49 166.818 2027.86 167.404 Q2020.13 175.274 2020.15 190.1 Q2020.15 204.974 2027.67 212.539 Q2028.49 213.359 2028.49 213.616 Q2028.49 214.085 2028 214.085 Q2027.67 214.085 2026.52 213.125 Q2025.38 212.164 2023.6 209.962 Q2021.82 207.761 2020.53 205.067 Q2017.37 198.532 2017.37 190.1 Z\" fill=\"#000000\" fill-rule=\"evenodd\" fill-opacity=\"1\" /><path clip-path=\"url(#clip000)\" d=\"M2035.78 186.751 Q2035.78 179.701 2037.56 175.859 Q2040.05 170.144 2045.9 170.144 Q2047.14 170.144 2048.43 170.496 Q2049.74 170.824 2051.38 172.112 Q2053.04 173.4 2054.05 175.508 Q2055.97 179.584 2055.97 186.751 Q2055.97 193.754 2054.19 197.572 Q2051.59 203.147 2045.85 203.147 Q2043.7 203.147 2041.5 202.046 Q2039.32 200.945 2037.94 198.298 Q2035.78 194.34 2035.78 186.751 M2039.76 186.165 Q2039.76 193.403 2040.28 196.284 Q2040.86 199.399 2042.46 200.757 Q2044.07 202.093 2045.85 202.093 Q2047.77 202.093 2049.37 200.664 Q2050.98 199.212 2051.48 196.096 Q2052.01 193.028 2051.99 186.165 Q2051.99 179.49 2051.52 176.82 Q2050.89 173.705 2049.2 172.463 Q2047.54 171.198 2045.85 171.198 Q2045.22 171.198 2044.54 171.386 Q2043.89 171.573 2042.93 172.112 Q2041.97 172.651 2041.22 173.986 Q2040.49 175.321 2040.14 177.335 Q2039.76 179.935 2039.76 186.165 Z\" fill=\"#000000\" fill-rule=\"evenodd\" fill-opacity=\"1\" /><path clip-path=\"url(#clip000)\" d=\"M2060.26 201.32 Q2059.53 200.547 2059.53 199.54 Q2059.53 198.532 2060.26 197.806 Q2060.98 197.057 2062.09 197.057 Q2063.14 197.057 2063.84 197.759 Q2064.57 198.439 2064.57 199.563 Q2064.57 200.664 2063.8 201.39 Q2063.05 202.093 2062.09 202.093 Q2060.98 202.093 2060.26 201.32 Z\" fill=\"#000000\" fill-rule=\"evenodd\" fill-opacity=\"1\" /><path clip-path=\"url(#clip000)\" d=\"M2072.73 186.938 Q2072.73 179.396 2076.57 174.782 Q2080.41 170.144 2085.35 170.144 Q2088.23 170.144 2089.83 171.62 Q2091.44 173.072 2091.44 175.321 Q2091.44 176.562 2090.72 177.101 Q2089.99 177.64 2089.24 177.64 Q2088.38 177.64 2087.7 177.054 Q2087.02 176.468 2087.02 175.414 Q2087.02 173.26 2089.66 173.26 Q2088.42 171.339 2085.45 171.339 Q2084.53 171.339 2083.6 171.62 Q2082.66 171.878 2081.44 172.768 Q2080.22 173.658 2079.29 175.063 Q2078.35 176.468 2077.69 179.115 Q2077.04 181.762 2077.04 185.205 L2077.04 186.353 Q2079.01 181.598 2083.04 181.621 Q2087.06 181.621 2089.85 184.69 Q2092.64 187.758 2092.64 192.302 Q2092.64 196.963 2089.73 200.055 Q2086.83 203.147 2082.75 203.147 Q2080.93 203.147 2079.26 202.374 Q2077.62 201.624 2076.08 199.891 Q2074.56 198.158 2073.64 194.832 Q2072.73 191.506 2072.73 186.938 M2077.13 191.248 Q2077.13 195.956 2078 198.204 Q2078.14 198.579 2078.44 199.094 Q2078.77 199.61 2079.31 200.289 Q2079.87 200.945 2080.79 201.39 Q2081.7 201.811 2082.75 201.811 Q2085.96 201.811 2087.51 198.696 Q2088.33 196.963 2088.33 192.255 Q2088.33 187.454 2087.46 185.697 Q2085.99 182.722 2082.99 182.722 Q2080.97 182.722 2079.57 184.104 Q2078.19 185.486 2077.65 187.336 Q2077.13 189.187 2077.13 191.248 Z\" fill=\"#000000\" fill-rule=\"evenodd\" fill-opacity=\"1\" /><path clip-path=\"url(#clip000)\" d=\"M2093.98 174.712 L2093.98 173.213 Q2099.74 173.213 2102.72 170.144 Q2103.54 170.144 2103.68 170.332 Q2103.82 170.519 2103.82 171.386 L2103.82 198.298 Q2103.82 199.727 2104.52 200.172 Q2105.22 200.617 2108.29 200.617 L2109.81 200.617 L2109.81 202.093 Q2108.13 201.952 2102.04 201.952 Q2095.95 201.952 2094.28 202.093 L2094.28 200.617 L2095.81 200.617 Q2098.83 200.617 2099.55 200.195 Q2100.28 199.75 2100.28 198.298 L2100.28 173.447 Q2097.77 174.712 2093.98 174.712 Z\" fill=\"#000000\" fill-rule=\"evenodd\" fill-opacity=\"1\" /><path clip-path=\"url(#clip000)\" d=\"M2118.41 201.32 Q2117.73 200.547 2117.73 199.54 Q2117.73 198.532 2118.39 197.783 Q2119.06 197.01 2120.28 197.01 Q2121.71 197.01 2122.53 198.392 Q2123.35 199.75 2123.35 202.046 Q2123.35 204.528 2122.34 206.824 Q2121.34 209.143 2120.35 210.244 Q2119.37 211.344 2118.97 211.344 Q2118.5 211.344 2118.5 210.829 Q2118.5 210.642 2118.83 210.29 Q2122.27 206.59 2122.3 202.046 Q2122.3 201.32 2122.2 201.32 L2122.09 201.413 Q2121.27 202.093 2120.28 202.093 Q2119.09 202.093 2118.41 201.32 Z\" fill=\"#000000\" fill-rule=\"evenodd\" fill-opacity=\"1\" /><path clip-path=\"url(#clip000)\" d=\"M2138.48 186.751 Q2138.48 179.701 2140.26 175.859 Q2142.75 170.144 2148.6 170.144 Q2149.84 170.144 2151.13 170.496 Q2152.44 170.824 2154.08 172.112 Q2155.74 173.4 2156.75 175.508 Q2158.67 179.584 2158.67 186.751 Q2158.67 193.754 2156.89 197.572 Q2154.29 203.147 2148.55 203.147 Q2146.4 203.147 2144.2 202.046 Q2142.02 200.945 2140.64 198.298 Q2138.48 194.34 2138.48 186.751 M2142.46 186.165 Q2142.46 193.403 2142.98 196.284 Q2143.57 199.399 2145.16 200.757 Q2146.77 202.093 2148.55 202.093 Q2150.47 202.093 2152.07 200.664 Q2153.68 199.212 2154.18 196.096 Q2154.71 193.028 2154.69 186.165 Q2154.69 179.49 2154.22 176.82 Q2153.59 173.705 2151.9 172.463 Q2150.24 171.198 2148.55 171.198 Q2147.92 171.198 2147.24 171.386 Q2146.59 171.573 2145.63 172.112 Q2144.67 172.651 2143.92 173.986 Q2143.19 175.321 2142.84 177.335 Q2142.46 179.935 2142.46 186.165 Z\" fill=\"#000000\" fill-rule=\"evenodd\" fill-opacity=\"1\" /><path clip-path=\"url(#clip000)\" d=\"M2162.96 201.32 Q2162.23 200.547 2162.23 199.54 Q2162.23 198.532 2162.96 197.806 Q2163.68 197.057 2164.79 197.057 Q2165.84 197.057 2166.54 197.759 Q2167.27 198.439 2167.27 199.563 Q2167.27 200.664 2166.5 201.39 Q2165.75 202.093 2164.79 202.093 Q2163.68 202.093 2162.96 201.32 Z\" fill=\"#000000\" fill-rule=\"evenodd\" fill-opacity=\"1\" /><path clip-path=\"url(#clip000)\" d=\"M2170.55 174.712 L2170.55 173.213 Q2176.32 173.213 2179.29 170.144 Q2180.11 170.144 2180.25 170.332 Q2180.39 170.519 2180.39 171.386 L2180.39 198.298 Q2180.39 199.727 2181.09 200.172 Q2181.8 200.617 2184.87 200.617 L2186.39 200.617 L2186.39 202.093 Q2184.7 201.952 2178.61 201.952 Q2172.52 201.952 2170.86 202.093 L2170.86 200.617 L2172.38 200.617 Q2175.4 200.617 2176.13 200.195 Q2176.86 199.75 2176.86 198.298 L2176.86 173.447 Q2174.35 174.712 2170.55 174.712 Z\" fill=\"#000000\" fill-rule=\"evenodd\" fill-opacity=\"1\" /><path clip-path=\"url(#clip000)\" d=\"M2188.55 179.537 L2190.12 169.676 L2191.32 169.676 Q2191.46 170.261 2191.69 170.519 Q2191.95 170.777 2193.31 170.988 Q2194.69 171.198 2197.48 171.198 L2209.12 171.198 Q2209.12 172.299 2208.7 172.885 L2202.21 181.996 Q2200.15 184.877 2199.24 190.194 Q2198.7 193.754 2198.72 198.064 L2198.72 200.5 Q2198.72 203.147 2196.49 203.147 Q2194.29 203.147 2194.29 200.5 Q2194.29 191.342 2200.2 182.465 Q2200.83 181.551 2203.15 178.295 Q2205.49 175.04 2205.58 174.899 L2195.65 174.899 Q2191.3 174.899 2190.94 175.18 Q2190.48 175.602 2189.75 179.537 L2188.55 179.537 Z\" fill=\"#000000\" fill-rule=\"evenodd\" fill-opacity=\"1\" /><path clip-path=\"url(#clip000)\" d=\"M2212.3 213.616 Q2212.3 213.382 2212.91 212.797 Q2220.64 204.927 2220.64 190.1 Q2220.64 175.227 2213.22 167.708 Q2212.3 166.842 2212.3 166.584 Q2212.3 166.116 2212.77 166.116 Q2213.1 166.116 2214.25 167.076 Q2215.42 168.036 2217.18 170.238 Q2218.96 172.44 2220.27 175.133 Q2223.43 181.668 2223.43 190.1 Q2223.43 198.204 2220.41 204.739 Q2219.12 207.48 2217.32 209.775 Q2215.51 212.071 2214.32 213.078 Q2213.12 214.085 2212.77 214.085 Q2212.3 214.085 2212.3 213.616 Z\" fill=\"#000000\" fill-rule=\"evenodd\" fill-opacity=\"1\" /></svg>\n"
      ]
     },
     "execution_count": 113,
     "metadata": {},
     "output_type": "execute_result"
    }
   ],
   "source": [
    "# analytical calculation\n",
    "W = 6\n",
    "L = 3\n",
    "x = range(0, 1; length=101)\n",
    "\n",
    "b = Beta(W+1, L+1)\n",
    "plot(x, pdf(b, x); label = L\"\\mathcal{Beta}\")\n",
    "\n",
    "# quadratic approximation\n",
    "b = Normal(0.61, 0.17)\n",
    "plot!(x, pdf(b, x); style=:dash, label=L\"\\mathcal{N}(0.61, 0.17)\")"
   ]
  },
  {
   "cell_type": "code",
   "execution_count": 137,
   "id": "16a6f7b0",
   "metadata": {},
   "outputs": [],
   "source": [
    "n_samples = 1000\n",
    "p = Vector{Float64}(undef, n_samples)\n",
    "p[1] = 0.5\n",
    "W, L = 6, 3\n",
    "\n",
    "for i ∈ 2:n_samples\n",
    "    p_old = p[i-1]\n",
    "    p_new = rand(Normal(p_old, 0.1))\n",
    "    if p_new < 0\n",
    "        p_new = abs(p_new)\n",
    "    elseif p_new > 1\n",
    "        p_new = 2-p_new\n",
    "    end\n",
    "\n",
    "    q0 = pdf(Binomial(W+L, p_old), W)\n",
    "    q1 = pdf(Binomial(W+L, p_new), W)\n",
    "    u = rand(Uniform())\n",
    "    p[i] = (u < q1 / q0) ? p_new : p_old\n",
    "end"
   ]
  },
  {
   "cell_type": "code",
   "execution_count": 139,
   "id": "b4b7fbaf",
   "metadata": {},
   "outputs": [
    {
     "data": {
      "image/svg+xml": [
       "<?xml version=\"1.0\" encoding=\"utf-8\"?>\n",
       "<svg xmlns=\"http://www.w3.org/2000/svg\" xmlns:xlink=\"http://www.w3.org/1999/xlink\" width=\"600\" height=\"400\" viewBox=\"0 0 2400 1600\">\n",
       "<defs>\n",
       "  <clipPath id=\"clip040\">\n",
       "    <rect x=\"0\" y=\"0\" width=\"2400\" height=\"1600\"/>\n",
       "  </clipPath>\n",
       "</defs>\n",
       "<path clip-path=\"url(#clip040)\" d=\"\n",
       "M0 1600 L2400 1600 L2400 0 L0 0  Z\n",
       "  \" fill=\"#ffffff\" fill-rule=\"evenodd\" fill-opacity=\"1\"/>\n",
       "<defs>\n",
       "  <clipPath id=\"clip041\">\n",
       "    <rect x=\"480\" y=\"0\" width=\"1681\" height=\"1600\"/>\n",
       "  </clipPath>\n",
       "</defs>\n",
       "<path clip-path=\"url(#clip040)\" d=\"\n",
       "M156.598 1486.45 L2352.76 1486.45 L2352.76 47.2441 L156.598 47.2441  Z\n",
       "  \" fill=\"#ffffff\" fill-rule=\"evenodd\" fill-opacity=\"1\"/>\n",
       "<defs>\n",
       "  <clipPath id=\"clip042\">\n",
       "    <rect x=\"156\" y=\"47\" width=\"2197\" height=\"1440\"/>\n",
       "  </clipPath>\n",
       "</defs>\n",
       "<polyline clip-path=\"url(#clip042)\" style=\"stroke:#000000; stroke-linecap:butt; stroke-linejoin:round; stroke-width:2; stroke-opacity:0.1; fill:none\" points=\"\n",
       "  216.68,1486.45 216.68,47.2441 \n",
       "  \"/>\n",
       "<polyline clip-path=\"url(#clip042)\" style=\"stroke:#000000; stroke-linecap:butt; stroke-linejoin:round; stroke-width:2; stroke-opacity:0.1; fill:none\" points=\"\n",
       "  735.16,1486.45 735.16,47.2441 \n",
       "  \"/>\n",
       "<polyline clip-path=\"url(#clip042)\" style=\"stroke:#000000; stroke-linecap:butt; stroke-linejoin:round; stroke-width:2; stroke-opacity:0.1; fill:none\" points=\"\n",
       "  1253.64,1486.45 1253.64,47.2441 \n",
       "  \"/>\n",
       "<polyline clip-path=\"url(#clip042)\" style=\"stroke:#000000; stroke-linecap:butt; stroke-linejoin:round; stroke-width:2; stroke-opacity:0.1; fill:none\" points=\"\n",
       "  1772.12,1486.45 1772.12,47.2441 \n",
       "  \"/>\n",
       "<polyline clip-path=\"url(#clip042)\" style=\"stroke:#000000; stroke-linecap:butt; stroke-linejoin:round; stroke-width:2; stroke-opacity:0.1; fill:none\" points=\"\n",
       "  2290.6,1486.45 2290.6,47.2441 \n",
       "  \"/>\n",
       "<polyline clip-path=\"url(#clip040)\" style=\"stroke:#000000; stroke-linecap:butt; stroke-linejoin:round; stroke-width:4; stroke-opacity:1; fill:none\" points=\"\n",
       "  156.598,1486.45 2352.76,1486.45 \n",
       "  \"/>\n",
       "<polyline clip-path=\"url(#clip040)\" style=\"stroke:#000000; stroke-linecap:butt; stroke-linejoin:round; stroke-width:4; stroke-opacity:1; fill:none\" points=\"\n",
       "  216.68,1486.45 216.68,1467.55 \n",
       "  \"/>\n",
       "<polyline clip-path=\"url(#clip040)\" style=\"stroke:#000000; stroke-linecap:butt; stroke-linejoin:round; stroke-width:4; stroke-opacity:1; fill:none\" points=\"\n",
       "  735.16,1486.45 735.16,1467.55 \n",
       "  \"/>\n",
       "<polyline clip-path=\"url(#clip040)\" style=\"stroke:#000000; stroke-linecap:butt; stroke-linejoin:round; stroke-width:4; stroke-opacity:1; fill:none\" points=\"\n",
       "  1253.64,1486.45 1253.64,1467.55 \n",
       "  \"/>\n",
       "<polyline clip-path=\"url(#clip040)\" style=\"stroke:#000000; stroke-linecap:butt; stroke-linejoin:round; stroke-width:4; stroke-opacity:1; fill:none\" points=\"\n",
       "  1772.12,1486.45 1772.12,1467.55 \n",
       "  \"/>\n",
       "<polyline clip-path=\"url(#clip040)\" style=\"stroke:#000000; stroke-linecap:butt; stroke-linejoin:round; stroke-width:4; stroke-opacity:1; fill:none\" points=\"\n",
       "  2290.6,1486.45 2290.6,1467.55 \n",
       "  \"/>\n",
       "<path clip-path=\"url(#clip040)\" d=\"M216.68 1515.64 Q213.069 1515.64 211.24 1519.2 Q209.434 1522.75 209.434 1529.87 Q209.434 1536.98 211.24 1540.55 Q213.069 1544.09 216.68 1544.09 Q220.314 1544.09 222.12 1540.55 Q223.948 1536.98 223.948 1529.87 Q223.948 1522.75 222.12 1519.2 Q220.314 1515.64 216.68 1515.64 M216.68 1511.93 Q222.49 1511.93 225.545 1516.54 Q228.624 1521.12 228.624 1529.87 Q228.624 1538.6 225.545 1543.21 Q222.49 1547.79 216.68 1547.79 Q210.87 1547.79 207.791 1543.21 Q204.735 1538.6 204.735 1529.87 Q204.735 1521.12 207.791 1516.54 Q210.87 1511.93 216.68 1511.93 Z\" fill=\"#000000\" fill-rule=\"evenodd\" fill-opacity=\"1\" /><path clip-path=\"url(#clip040)\" d=\"M698.852 1543.18 L715.172 1543.18 L715.172 1547.12 L693.227 1547.12 L693.227 1543.18 Q695.889 1540.43 700.473 1535.8 Q705.079 1531.15 706.26 1529.81 Q708.505 1527.28 709.385 1525.55 Q710.287 1523.79 710.287 1522.1 Q710.287 1519.34 708.343 1517.61 Q706.422 1515.87 703.32 1515.87 Q701.121 1515.87 698.667 1516.63 Q696.237 1517.4 693.459 1518.95 L693.459 1514.23 Q696.283 1513.09 698.736 1512.51 Q701.19 1511.93 703.227 1511.93 Q708.598 1511.93 711.792 1514.62 Q714.986 1517.31 714.986 1521.8 Q714.986 1523.93 714.176 1525.85 Q713.389 1527.74 711.283 1530.34 Q710.704 1531.01 707.602 1534.23 Q704.5 1537.42 698.852 1543.18 Z\" fill=\"#000000\" fill-rule=\"evenodd\" fill-opacity=\"1\" /><path clip-path=\"url(#clip040)\" d=\"M725.033 1512.56 L743.389 1512.56 L743.389 1516.5 L729.315 1516.5 L729.315 1524.97 Q730.334 1524.62 731.352 1524.46 Q732.371 1524.27 733.389 1524.27 Q739.176 1524.27 742.556 1527.44 Q745.935 1530.62 745.935 1536.03 Q745.935 1541.61 742.463 1544.71 Q738.991 1547.79 732.672 1547.79 Q730.496 1547.79 728.227 1547.42 Q725.982 1547.05 723.574 1546.31 L723.574 1541.61 Q725.658 1542.74 727.88 1543.3 Q730.102 1543.86 732.579 1543.86 Q736.584 1543.86 738.921 1541.75 Q741.259 1539.64 741.259 1536.03 Q741.259 1532.42 738.921 1530.31 Q736.584 1528.21 732.579 1528.21 Q730.704 1528.21 728.829 1528.62 Q726.977 1529.04 725.033 1529.92 L725.033 1512.56 Z\" fill=\"#000000\" fill-rule=\"evenodd\" fill-opacity=\"1\" /><path clip-path=\"url(#clip040)\" d=\"M765.148 1515.64 Q761.537 1515.64 759.708 1519.2 Q757.903 1522.75 757.903 1529.87 Q757.903 1536.98 759.708 1540.55 Q761.537 1544.09 765.148 1544.09 Q768.782 1544.09 770.588 1540.55 Q772.417 1536.98 772.417 1529.87 Q772.417 1522.75 770.588 1519.2 Q768.782 1515.64 765.148 1515.64 M765.148 1511.93 Q770.958 1511.93 774.014 1516.54 Q777.093 1521.12 777.093 1529.87 Q777.093 1538.6 774.014 1543.21 Q770.958 1547.79 765.148 1547.79 Q759.338 1547.79 756.259 1543.21 Q753.204 1538.6 753.204 1529.87 Q753.204 1521.12 756.259 1516.54 Q759.338 1511.93 765.148 1511.93 Z\" fill=\"#000000\" fill-rule=\"evenodd\" fill-opacity=\"1\" /><path clip-path=\"url(#clip040)\" d=\"M1213.26 1512.56 L1231.61 1512.56 L1231.61 1516.5 L1217.54 1516.5 L1217.54 1524.97 Q1218.56 1524.62 1219.58 1524.46 Q1220.6 1524.27 1221.61 1524.27 Q1227.4 1524.27 1230.78 1527.44 Q1234.16 1530.62 1234.16 1536.03 Q1234.16 1541.61 1230.69 1544.71 Q1227.22 1547.79 1220.9 1547.79 Q1218.72 1547.79 1216.45 1547.42 Q1214.21 1547.05 1211.8 1546.31 L1211.8 1541.61 Q1213.88 1542.74 1216.11 1543.3 Q1218.33 1543.86 1220.8 1543.86 Q1224.81 1543.86 1227.15 1541.75 Q1229.49 1539.64 1229.49 1536.03 Q1229.49 1532.42 1227.15 1530.31 Q1224.81 1528.21 1220.8 1528.21 Q1218.93 1528.21 1217.05 1528.62 Q1215.2 1529.04 1213.26 1529.92 L1213.26 1512.56 Z\" fill=\"#000000\" fill-rule=\"evenodd\" fill-opacity=\"1\" /><path clip-path=\"url(#clip040)\" d=\"M1253.37 1515.64 Q1249.76 1515.64 1247.93 1519.2 Q1246.13 1522.75 1246.13 1529.87 Q1246.13 1536.98 1247.93 1540.55 Q1249.76 1544.09 1253.37 1544.09 Q1257.01 1544.09 1258.81 1540.55 Q1260.64 1536.98 1260.64 1529.87 Q1260.64 1522.75 1258.81 1519.2 Q1257.01 1515.64 1253.37 1515.64 M1253.37 1511.93 Q1259.18 1511.93 1262.24 1516.54 Q1265.32 1521.12 1265.32 1529.87 Q1265.32 1538.6 1262.24 1543.21 Q1259.18 1547.79 1253.37 1547.79 Q1247.56 1547.79 1244.49 1543.21 Q1241.43 1538.6 1241.43 1529.87 Q1241.43 1521.12 1244.49 1516.54 Q1247.56 1511.93 1253.37 1511.93 Z\" fill=\"#000000\" fill-rule=\"evenodd\" fill-opacity=\"1\" /><path clip-path=\"url(#clip040)\" d=\"M1283.54 1515.64 Q1279.92 1515.64 1278.1 1519.2 Q1276.29 1522.75 1276.29 1529.87 Q1276.29 1536.98 1278.1 1540.55 Q1279.92 1544.09 1283.54 1544.09 Q1287.17 1544.09 1288.98 1540.55 Q1290.8 1536.98 1290.8 1529.87 Q1290.8 1522.75 1288.98 1519.2 Q1287.17 1515.64 1283.54 1515.64 M1283.54 1511.93 Q1289.35 1511.93 1292.4 1516.54 Q1295.48 1521.12 1295.48 1529.87 Q1295.48 1538.6 1292.4 1543.21 Q1289.35 1547.79 1283.54 1547.79 Q1277.73 1547.79 1274.65 1543.21 Q1271.59 1538.6 1271.59 1529.87 Q1271.59 1521.12 1274.65 1516.54 Q1277.73 1511.93 1283.54 1511.93 Z\" fill=\"#000000\" fill-rule=\"evenodd\" fill-opacity=\"1\" /><path clip-path=\"url(#clip040)\" d=\"M1730.4 1512.56 L1752.62 1512.56 L1752.62 1514.55 L1740.07 1547.12 L1735.19 1547.12 L1746.99 1516.5 L1730.4 1516.5 L1730.4 1512.56 Z\" fill=\"#000000\" fill-rule=\"evenodd\" fill-opacity=\"1\" /><path clip-path=\"url(#clip040)\" d=\"M1761.78 1512.56 L1780.14 1512.56 L1780.14 1516.5 L1766.07 1516.5 L1766.07 1524.97 Q1767.09 1524.62 1768.1 1524.46 Q1769.12 1524.27 1770.14 1524.27 Q1775.93 1524.27 1779.31 1527.44 Q1782.69 1530.62 1782.69 1536.03 Q1782.69 1541.61 1779.22 1544.71 Q1775.74 1547.79 1769.42 1547.79 Q1767.25 1547.79 1764.98 1547.42 Q1762.73 1547.05 1760.33 1546.31 L1760.33 1541.61 Q1762.41 1542.74 1764.63 1543.3 Q1766.85 1543.86 1769.33 1543.86 Q1773.34 1543.86 1775.67 1541.75 Q1778.01 1539.64 1778.01 1536.03 Q1778.01 1532.42 1775.67 1530.31 Q1773.34 1528.21 1769.33 1528.21 Q1767.46 1528.21 1765.58 1528.62 Q1763.73 1529.04 1761.78 1529.92 L1761.78 1512.56 Z\" fill=\"#000000\" fill-rule=\"evenodd\" fill-opacity=\"1\" /><path clip-path=\"url(#clip040)\" d=\"M1801.9 1515.64 Q1798.29 1515.64 1796.46 1519.2 Q1794.65 1522.75 1794.65 1529.87 Q1794.65 1536.98 1796.46 1540.55 Q1798.29 1544.09 1801.9 1544.09 Q1805.53 1544.09 1807.34 1540.55 Q1809.17 1536.98 1809.17 1529.87 Q1809.17 1522.75 1807.34 1519.2 Q1805.53 1515.64 1801.9 1515.64 M1801.9 1511.93 Q1807.71 1511.93 1810.77 1516.54 Q1813.84 1521.12 1813.84 1529.87 Q1813.84 1538.6 1810.77 1543.21 Q1807.71 1547.79 1801.9 1547.79 Q1796.09 1547.79 1793.01 1543.21 Q1789.96 1538.6 1789.96 1529.87 Q1789.96 1521.12 1793.01 1516.54 Q1796.09 1511.93 1801.9 1511.93 Z\" fill=\"#000000\" fill-rule=\"evenodd\" fill-opacity=\"1\" /><path clip-path=\"url(#clip040)\" d=\"M2235.13 1543.18 L2242.77 1543.18 L2242.77 1516.82 L2234.45 1518.49 L2234.45 1514.23 L2242.72 1512.56 L2247.39 1512.56 L2247.39 1543.18 L2255.03 1543.18 L2255.03 1547.12 L2235.13 1547.12 L2235.13 1543.18 Z\" fill=\"#000000\" fill-rule=\"evenodd\" fill-opacity=\"1\" /><path clip-path=\"url(#clip040)\" d=\"M2274.48 1515.64 Q2270.87 1515.64 2269.04 1519.2 Q2267.23 1522.75 2267.23 1529.87 Q2267.23 1536.98 2269.04 1540.55 Q2270.87 1544.09 2274.48 1544.09 Q2278.11 1544.09 2279.92 1540.55 Q2281.75 1536.98 2281.75 1529.87 Q2281.75 1522.75 2279.92 1519.2 Q2278.11 1515.64 2274.48 1515.64 M2274.48 1511.93 Q2280.29 1511.93 2283.34 1516.54 Q2286.42 1521.12 2286.42 1529.87 Q2286.42 1538.6 2283.34 1543.21 Q2280.29 1547.79 2274.48 1547.79 Q2268.67 1547.79 2265.59 1543.21 Q2262.53 1538.6 2262.53 1529.87 Q2262.53 1521.12 2265.59 1516.54 Q2268.67 1511.93 2274.48 1511.93 Z\" fill=\"#000000\" fill-rule=\"evenodd\" fill-opacity=\"1\" /><path clip-path=\"url(#clip040)\" d=\"M2304.64 1515.64 Q2301.03 1515.64 2299.2 1519.2 Q2297.39 1522.75 2297.39 1529.87 Q2297.39 1536.98 2299.2 1540.55 Q2301.03 1544.09 2304.64 1544.09 Q2308.27 1544.09 2310.08 1540.55 Q2311.91 1536.98 2311.91 1529.87 Q2311.91 1522.75 2310.08 1519.2 Q2308.27 1515.64 2304.64 1515.64 M2304.64 1511.93 Q2310.45 1511.93 2313.51 1516.54 Q2316.58 1521.12 2316.58 1529.87 Q2316.58 1538.6 2313.51 1543.21 Q2310.45 1547.79 2304.64 1547.79 Q2298.83 1547.79 2295.75 1543.21 Q2292.7 1538.6 2292.7 1529.87 Q2292.7 1521.12 2295.75 1516.54 Q2298.83 1511.93 2304.64 1511.93 Z\" fill=\"#000000\" fill-rule=\"evenodd\" fill-opacity=\"1\" /><path clip-path=\"url(#clip040)\" d=\"M2334.8 1515.64 Q2331.19 1515.64 2329.36 1519.2 Q2327.56 1522.75 2327.56 1529.87 Q2327.56 1536.98 2329.36 1540.55 Q2331.19 1544.09 2334.8 1544.09 Q2338.44 1544.09 2340.24 1540.55 Q2342.07 1536.98 2342.07 1529.87 Q2342.07 1522.75 2340.24 1519.2 Q2338.44 1515.64 2334.8 1515.64 M2334.8 1511.93 Q2340.61 1511.93 2343.67 1516.54 Q2346.75 1521.12 2346.75 1529.87 Q2346.75 1538.6 2343.67 1543.21 Q2340.61 1547.79 2334.8 1547.79 Q2328.99 1547.79 2325.91 1543.21 Q2322.86 1538.6 2322.86 1529.87 Q2322.86 1521.12 2325.91 1516.54 Q2328.99 1511.93 2334.8 1511.93 Z\" fill=\"#000000\" fill-rule=\"evenodd\" fill-opacity=\"1\" /><polyline clip-path=\"url(#clip042)\" style=\"stroke:#000000; stroke-linecap:butt; stroke-linejoin:round; stroke-width:2; stroke-opacity:0.1; fill:none\" points=\"\n",
       "  156.598,1366.63 2352.76,1366.63 \n",
       "  \"/>\n",
       "<polyline clip-path=\"url(#clip042)\" style=\"stroke:#000000; stroke-linecap:butt; stroke-linejoin:round; stroke-width:2; stroke-opacity:0.1; fill:none\" points=\"\n",
       "  156.598,1016.39 2352.76,1016.39 \n",
       "  \"/>\n",
       "<polyline clip-path=\"url(#clip042)\" style=\"stroke:#000000; stroke-linecap:butt; stroke-linejoin:round; stroke-width:2; stroke-opacity:0.1; fill:none\" points=\"\n",
       "  156.598,666.14 2352.76,666.14 \n",
       "  \"/>\n",
       "<polyline clip-path=\"url(#clip042)\" style=\"stroke:#000000; stroke-linecap:butt; stroke-linejoin:round; stroke-width:2; stroke-opacity:0.1; fill:none\" points=\"\n",
       "  156.598,315.894 2352.76,315.894 \n",
       "  \"/>\n",
       "<polyline clip-path=\"url(#clip040)\" style=\"stroke:#000000; stroke-linecap:butt; stroke-linejoin:round; stroke-width:4; stroke-opacity:1; fill:none\" points=\"\n",
       "  156.598,1486.45 156.598,47.2441 \n",
       "  \"/>\n",
       "<polyline clip-path=\"url(#clip040)\" style=\"stroke:#000000; stroke-linecap:butt; stroke-linejoin:round; stroke-width:4; stroke-opacity:1; fill:none\" points=\"\n",
       "  156.598,1366.63 175.496,1366.63 \n",
       "  \"/>\n",
       "<polyline clip-path=\"url(#clip040)\" style=\"stroke:#000000; stroke-linecap:butt; stroke-linejoin:round; stroke-width:4; stroke-opacity:1; fill:none\" points=\"\n",
       "  156.598,1016.39 175.496,1016.39 \n",
       "  \"/>\n",
       "<polyline clip-path=\"url(#clip040)\" style=\"stroke:#000000; stroke-linecap:butt; stroke-linejoin:round; stroke-width:4; stroke-opacity:1; fill:none\" points=\"\n",
       "  156.598,666.14 175.496,666.14 \n",
       "  \"/>\n",
       "<polyline clip-path=\"url(#clip040)\" style=\"stroke:#000000; stroke-linecap:butt; stroke-linejoin:round; stroke-width:4; stroke-opacity:1; fill:none\" points=\"\n",
       "  156.598,315.894 175.496,315.894 \n",
       "  \"/>\n",
       "<path clip-path=\"url(#clip040)\" d=\"M65.0198 1352.43 Q61.4087 1352.43 59.58 1356 Q57.7745 1359.54 57.7745 1366.67 Q57.7745 1373.77 59.58 1377.34 Q61.4087 1380.88 65.0198 1380.88 Q68.6541 1380.88 70.4596 1377.34 Q72.2883 1373.77 72.2883 1366.67 Q72.2883 1359.54 70.4596 1356 Q68.6541 1352.43 65.0198 1352.43 M65.0198 1348.73 Q70.83 1348.73 73.8855 1353.33 Q76.9642 1357.92 76.9642 1366.67 Q76.9642 1375.39 73.8855 1380 Q70.83 1384.58 65.0198 1384.58 Q59.2097 1384.58 56.131 1380 Q53.0754 1375.39 53.0754 1366.67 Q53.0754 1357.92 56.131 1353.33 Q59.2097 1348.73 65.0198 1348.73 Z\" fill=\"#000000\" fill-rule=\"evenodd\" fill-opacity=\"1\" /><path clip-path=\"url(#clip040)\" d=\"M85.1818 1378.03 L90.066 1378.03 L90.066 1383.91 L85.1818 1383.91 L85.1818 1378.03 Z\" fill=\"#000000\" fill-rule=\"evenodd\" fill-opacity=\"1\" /><path clip-path=\"url(#clip040)\" d=\"M104.279 1379.98 L120.598 1379.98 L120.598 1383.91 L98.6539 1383.91 L98.6539 1379.98 Q101.316 1377.22 105.899 1372.59 Q110.506 1367.94 111.686 1366.6 Q113.932 1364.07 114.811 1362.34 Q115.714 1360.58 115.714 1358.89 Q115.714 1356.13 113.77 1354.4 Q111.848 1352.66 108.746 1352.66 Q106.547 1352.66 104.094 1353.43 Q101.663 1354.19 98.8854 1355.74 L98.8854 1351.02 Q101.709 1349.88 104.163 1349.31 Q106.617 1348.73 108.654 1348.73 Q114.024 1348.73 117.219 1351.41 Q120.413 1354.1 120.413 1358.59 Q120.413 1360.72 119.603 1362.64 Q118.816 1364.54 116.709 1367.13 Q116.131 1367.8 113.029 1371.02 Q109.927 1374.21 104.279 1379.98 Z\" fill=\"#000000\" fill-rule=\"evenodd\" fill-opacity=\"1\" /><path clip-path=\"url(#clip040)\" d=\"M62.9365 1002.19 Q59.3254 1002.19 57.4967 1005.75 Q55.6912 1009.29 55.6912 1016.42 Q55.6912 1023.53 57.4967 1027.09 Q59.3254 1030.63 62.9365 1030.63 Q66.5707 1030.63 68.3763 1027.09 Q70.205 1023.53 70.205 1016.42 Q70.205 1009.29 68.3763 1005.75 Q66.5707 1002.19 62.9365 1002.19 M62.9365 998.481 Q68.7467 998.481 71.8022 1003.09 Q74.8809 1007.67 74.8809 1016.42 Q74.8809 1025.15 71.8022 1029.75 Q68.7467 1034.34 62.9365 1034.34 Q57.1264 1034.34 54.0477 1029.75 Q50.9921 1025.15 50.9921 1016.42 Q50.9921 1007.67 54.0477 1003.09 Q57.1264 998.481 62.9365 998.481 Z\" fill=\"#000000\" fill-rule=\"evenodd\" fill-opacity=\"1\" /><path clip-path=\"url(#clip040)\" d=\"M83.0984 1027.79 L87.9827 1027.79 L87.9827 1033.67 L83.0984 1033.67 L83.0984 1027.79 Z\" fill=\"#000000\" fill-rule=\"evenodd\" fill-opacity=\"1\" /><path clip-path=\"url(#clip040)\" d=\"M111.015 1003.18 L99.2095 1021.63 L111.015 1021.63 L111.015 1003.18 M109.788 999.106 L115.668 999.106 L115.668 1021.63 L120.598 1021.63 L120.598 1025.52 L115.668 1025.52 L115.668 1033.67 L111.015 1033.67 L111.015 1025.52 L95.4132 1025.52 L95.4132 1021 L109.788 999.106 Z\" fill=\"#000000\" fill-rule=\"evenodd\" fill-opacity=\"1\" /><path clip-path=\"url(#clip040)\" d=\"M63.2606 651.939 Q59.6495 651.939 57.8208 655.504 Q56.0152 659.046 56.0152 666.175 Q56.0152 673.282 57.8208 676.846 Q59.6495 680.388 63.2606 680.388 Q66.8948 680.388 68.7004 676.846 Q70.5291 673.282 70.5291 666.175 Q70.5291 659.046 68.7004 655.504 Q66.8948 651.939 63.2606 651.939 M63.2606 648.235 Q69.0707 648.235 72.1263 652.842 Q75.205 657.425 75.205 666.175 Q75.205 674.902 72.1263 679.508 Q69.0707 684.092 63.2606 684.092 Q57.4504 684.092 54.3717 679.508 Q51.3162 674.902 51.3162 666.175 Q51.3162 657.425 54.3717 652.842 Q57.4504 648.235 63.2606 648.235 Z\" fill=\"#000000\" fill-rule=\"evenodd\" fill-opacity=\"1\" /><path clip-path=\"url(#clip040)\" d=\"M83.4225 677.541 L88.3067 677.541 L88.3067 683.42 L83.4225 683.42 L83.4225 677.541 Z\" fill=\"#000000\" fill-rule=\"evenodd\" fill-opacity=\"1\" /><path clip-path=\"url(#clip040)\" d=\"M109.071 664.277 Q105.922 664.277 104.071 666.43 Q102.242 668.583 102.242 672.333 Q102.242 676.059 104.071 678.235 Q105.922 680.388 109.071 680.388 Q112.219 680.388 114.047 678.235 Q115.899 676.059 115.899 672.333 Q115.899 668.583 114.047 666.43 Q112.219 664.277 109.071 664.277 M118.353 649.624 L118.353 653.884 Q116.594 653.05 114.788 652.61 Q113.006 652.171 111.246 652.171 Q106.617 652.171 104.163 655.296 Q101.733 658.421 101.385 664.74 Q102.751 662.726 104.811 661.661 Q106.871 660.573 109.348 660.573 Q114.557 660.573 117.566 663.745 Q120.598 666.893 120.598 672.333 Q120.598 677.657 117.45 680.874 Q114.302 684.092 109.071 684.092 Q103.075 684.092 99.9039 679.508 Q96.7326 674.902 96.7326 666.175 Q96.7326 657.981 100.621 653.12 Q104.51 648.235 111.061 648.235 Q112.82 648.235 114.603 648.583 Q116.408 648.93 118.353 649.624 Z\" fill=\"#000000\" fill-rule=\"evenodd\" fill-opacity=\"1\" /><path clip-path=\"url(#clip040)\" d=\"M63.5152 301.693 Q59.9041 301.693 58.0754 305.258 Q56.2699 308.799 56.2699 315.929 Q56.2699 323.036 58.0754 326.6 Q59.9041 330.142 63.5152 330.142 Q67.1494 330.142 68.955 326.6 Q70.7837 323.036 70.7837 315.929 Q70.7837 308.799 68.955 305.258 Q67.1494 301.693 63.5152 301.693 M63.5152 297.989 Q69.3254 297.989 72.3809 302.596 Q75.4596 307.179 75.4596 315.929 Q75.4596 324.656 72.3809 329.262 Q69.3254 333.846 63.5152 333.846 Q57.7051 333.846 54.6264 329.262 Q51.5708 324.656 51.5708 315.929 Q51.5708 307.179 54.6264 302.596 Q57.7051 297.989 63.5152 297.989 Z\" fill=\"#000000\" fill-rule=\"evenodd\" fill-opacity=\"1\" /><path clip-path=\"url(#clip040)\" d=\"M83.6771 327.295 L88.5614 327.295 L88.5614 333.174 L83.6771 333.174 L83.6771 327.295 Z\" fill=\"#000000\" fill-rule=\"evenodd\" fill-opacity=\"1\" /><path clip-path=\"url(#clip040)\" d=\"M108.746 316.762 Q105.413 316.762 103.492 318.545 Q101.594 320.327 101.594 323.452 Q101.594 326.577 103.492 328.36 Q105.413 330.142 108.746 330.142 Q112.08 330.142 114.001 328.36 Q115.922 326.554 115.922 323.452 Q115.922 320.327 114.001 318.545 Q112.103 316.762 108.746 316.762 M104.071 314.772 Q101.061 314.031 99.3715 311.971 Q97.7048 309.911 97.7048 306.948 Q97.7048 302.804 100.645 300.397 Q103.608 297.989 108.746 297.989 Q113.908 297.989 116.848 300.397 Q119.788 302.804 119.788 306.948 Q119.788 309.911 118.098 311.971 Q116.432 314.031 113.445 314.772 Q116.825 315.559 118.7 317.85 Q120.598 320.142 120.598 323.452 Q120.598 328.475 117.52 331.16 Q114.464 333.846 108.746 333.846 Q103.029 333.846 99.9502 331.16 Q96.8947 328.475 96.8947 323.452 Q96.8947 320.142 98.7928 317.85 Q100.691 315.559 104.071 314.772 M102.358 307.387 Q102.358 310.073 104.024 311.577 Q105.714 313.082 108.746 313.082 Q111.756 313.082 113.445 311.577 Q115.158 310.073 115.158 307.387 Q115.158 304.702 113.445 303.198 Q111.756 301.693 108.746 301.693 Q105.714 301.693 104.024 303.198 Q102.358 304.702 102.358 307.387 Z\" fill=\"#000000\" fill-rule=\"evenodd\" fill-opacity=\"1\" /><polyline clip-path=\"url(#clip042)\" style=\"stroke:#009af9; stroke-linecap:butt; stroke-linejoin:round; stroke-width:4; stroke-opacity:1; fill:none\" points=\"\n",
       "  218.754,841.263 220.828,1047.32 222.901,1016.96 224.975,1186.42 227.049,1218.72 229.123,1037.39 231.197,922.78 233.271,884.09 235.345,1024.19 237.419,1024.19 \n",
       "  239.493,876.495 241.567,876.495 243.641,660.221 245.715,456.735 247.789,456.735 249.862,612.914 251.936,596.46 254.01,609.655 256.084,883.198 258.158,1149.66 \n",
       "  260.232,1049.59 262.306,1008.2 264.38,1057.94 266.454,1054.06 268.528,991.688 270.602,1082.67 272.676,1220.1 274.75,1220.1 276.823,1220.1 278.897,997.143 \n",
       "  280.971,1233.24 283.045,1233.24 285.119,1103.27 287.193,974.955 289.267,992.228 291.341,853.983 293.415,853.983 295.489,1055.05 297.563,953.137 299.637,945.768 \n",
       "  301.71,945.768 303.784,1059.74 305.858,1059.74 307.932,901.388 310.006,796.739 312.08,753.276 314.154,840.708 316.228,864.58 318.302,864.58 320.376,864.58 \n",
       "  322.45,899.549 324.524,949.585 326.598,799.891 328.671,690.829 330.745,690.829 332.819,748.122 334.893,451.679 336.967,351.359 339.041,308.581 341.115,308.581 \n",
       "  343.189,308.581 345.263,407.307 347.337,396.573 349.411,322.074 351.485,491.947 353.558,661.316 355.632,547.046 357.706,547.046 359.78,704.396 361.854,704.396 \n",
       "  363.928,826.44 366.002,762.618 368.076,954.47 370.15,921.039 372.224,921.039 374.298,1241.52 376.372,1169.35 378.446,813.723 380.519,669.607 382.593,644.26 \n",
       "  384.667,471.355 386.741,756.833 388.815,846.193 390.889,673.04 392.963,555.424 395.037,555.424 397.111,555.424 399.185,586.41 401.259,591.509 403.333,672.428 \n",
       "  405.407,763.564 407.48,763.564 409.554,635.268 411.628,609.259 413.702,611.472 415.776,616.794 417.85,575.42 419.924,484.934 421.998,686.172 424.072,667.703 \n",
       "  426.146,591.058 428.22,455.601 430.294,455.601 432.367,485.543 434.441,543.353 436.515,446.052 438.589,545.734 440.663,545.734 442.737,799.306 444.811,718.338 \n",
       "  446.885,818.646 448.959,818.646 451.033,740.488 453.107,692.594 455.181,835.734 457.255,560.432 459.328,636.305 461.402,355.12 463.476,355.12 465.55,287.608 \n",
       "  467.624,287.608 469.698,287.422 471.772,426.671 473.846,544.228 475.92,732.989 477.994,757.315 480.068,971.308 482.142,937.68 484.216,937.68 486.289,937.68 \n",
       "  488.363,847.962 490.437,707.665 492.511,717.248 494.585,717.248 496.659,853.991 498.733,853.991 500.807,977.619 502.881,1055.76 504.955,1163.52 507.029,1163.52 \n",
       "  509.103,963.055 511.176,807.834 513.25,387.354 515.324,555.979 517.398,621.395 519.472,691.641 521.546,612.478 523.62,435.435 525.694,415.111 527.768,345.882 \n",
       "  529.842,345.882 531.916,294.778 533.99,283.571 536.064,518.783 538.137,635.703 540.211,663.964 542.285,705.706 544.359,879.933 546.433,1014.3 548.507,902.88 \n",
       "  550.581,804.437 552.655,709.47 554.729,662.963 556.803,620.365 558.877,519.906 560.951,768.068 563.024,889.097 565.098,807.027 567.172,807.027 569.246,758.019 \n",
       "  571.32,758.019 573.394,909.003 575.468,719.188 577.542,719.188 579.616,837.234 581.69,599.536 583.764,647.968 585.838,511.407 587.912,511.407 589.985,377.595 \n",
       "  592.059,405.486 594.133,320.571 596.207,320.571 598.281,441.816 600.355,441.816 602.429,287.109 604.503,452.6 606.577,444.95 608.651,682.833 610.725,513.315 \n",
       "  612.799,660.385 614.873,724.755 616.946,324.576 619.02,494.012 621.094,711.764 623.168,711.764 625.242,679.242 627.316,982.558 629.39,982.558 631.464,1017.11 \n",
       "  633.538,881.968 635.612,881.968 637.686,872.602 639.76,872.602 641.833,822.614 643.907,593.433 645.981,593.433 648.055,668.87 650.129,711.938 652.203,639.26 \n",
       "  654.277,538.356 656.351,538.356 658.425,607.883 660.499,221.586 662.573,298.036 664.647,618.006 666.721,612.068 668.794,612.068 670.868,553.52 672.942,553.52 \n",
       "  675.016,735.984 677.09,822.402 679.164,770.063 681.238,1051.64 683.312,875.157 685.386,700.574 687.46,692.737 689.534,882.225 691.608,1010.6 693.681,1015.99 \n",
       "  695.755,1017.65 697.829,1017.65 699.903,1099.5 701.977,1099.5 704.051,1099.5 706.125,847.487 708.199,951.746 710.273,862.443 712.347,811.975 714.421,796.581 \n",
       "  716.495,740.363 718.569,762.288 720.642,571.155 722.716,564.899 724.79,597.461 726.864,923.334 728.938,729.642 731.012,800.348 733.086,992.756 735.16,858.454 \n",
       "  737.234,804.898 739.308,921.683 741.382,654.835 743.456,663.264 745.53,727.759 747.603,632.3 749.677,828.879 751.751,843.621 753.825,460.643 755.899,486.376 \n",
       "  757.973,642.492 760.047,504.256 762.121,567.364 764.195,555.387 766.269,498.626 768.343,809.04 770.417,809.04 772.49,472.673 774.564,621.549 776.638,719.389 \n",
       "  778.712,908.294 780.786,747.578 782.86,747.578 784.934,747.578 787.008,611.225 789.082,1008.25 791.156,1008.25 793.23,832.095 795.304,672.797 797.378,473.467 \n",
       "  799.451,333.428 801.525,218.737 803.599,196.176 805.673,196.176 807.747,196.176 809.821,196.176 811.895,295.18 813.969,295.18 816.043,295.18 818.117,312.814 \n",
       "  820.191,524.911 822.265,427.94 824.339,447.08 826.412,447.08 828.486,420.136 830.56,540.304 832.634,523.233 834.708,523.233 836.782,508.435 838.856,383.734 \n",
       "  840.93,383.734 843.004,677.441 845.078,683.042 847.152,775.473 849.226,824.122 851.299,824.122 853.373,682.416 855.447,700.595 857.521,561.851 859.595,736.967 \n",
       "  861.669,686.545 863.743,598.916 865.817,598.916 867.891,724.253 869.965,832.963 872.039,771.54 874.113,919.134 876.187,919.134 878.26,919.134 880.334,568.594 \n",
       "  882.408,788.911 884.482,720.359 886.556,731.529 888.63,877.691 890.704,773.939 892.778,580.811 894.852,543.109 896.926,389.651 899,567.164 901.074,667.06 \n",
       "  903.147,586.731 905.221,657.506 907.295,503.835 909.369,843.22 911.443,843.22 913.517,657.96 915.591,628.515 917.665,681.271 919.739,743.341 921.813,771.769 \n",
       "  923.887,736.513 925.961,784.434 928.035,768.21 930.108,638.107 932.182,626.666 934.256,950.866 936.33,1105.75 938.404,980.841 940.478,980.841 942.552,1003.89 \n",
       "  944.626,881.598 946.7,828.93 948.774,1023.76 950.848,1023.76 952.922,1015.68 954.996,1039.22 957.069,1072.36 959.143,1018.22 961.217,1018.22 963.291,1018.22 \n",
       "  965.365,1223.87 967.439,962.201 969.513,688.039 971.587,684.778 973.661,848.976 975.735,874.591 977.809,832.686 979.883,832.686 981.956,764.073 984.03,678.573 \n",
       "  986.104,664.902 988.178,481.39 990.252,437.614 992.326,222.648 994.4,411.928 996.474,411.928 998.548,352.122 1000.62,621.84 1002.7,546.637 1004.77,541.395 \n",
       "  1006.84,629.659 1008.92,491.954 1010.99,444.427 1013.07,183.531 1015.14,91.1945 1017.21,355.793 1019.29,429.786 1021.36,411.76 1023.43,444.184 1025.51,670.266 \n",
       "  1027.58,670.266 1029.66,865.642 1031.73,906.054 1033.8,903.95 1035.88,903.95 1037.95,830.835 1040.03,915.457 1042.1,915.457 1044.17,835.468 1046.25,835.468 \n",
       "  1048.32,861.065 1050.4,679.822 1052.47,674.623 1054.54,674.623 1056.62,674.623 1058.69,682.048 1060.77,842.513 1062.84,720.28 1064.91,720.28 1066.99,720.28 \n",
       "  1069.06,478.359 1071.14,474.447 1073.21,487.469 1075.28,487.469 1077.36,420.872 1079.43,579.387 1081.5,421.167 1083.58,565.978 1085.65,601.242 1087.73,738.366 \n",
       "  1089.8,876.396 1091.87,717.709 1093.95,732.027 1096.02,732.027 1098.1,819.951 1100.17,838.883 1102.24,970.816 1104.32,897.494 1106.39,879.765 1108.47,927.416 \n",
       "  1110.54,596.3 1112.61,565.979 1114.69,565.979 1116.76,629.188 1118.84,332.583 1120.91,356.435 1122.98,391.529 1125.06,169.293 1127.13,169.293 1129.2,315.992 \n",
       "  1131.28,564.413 1133.35,654.832 1135.43,817.732 1137.5,717.235 1139.57,764.477 1141.65,662.201 1143.72,1038.99 1145.8,1038.99 1147.87,1038.99 1149.94,1175.5 \n",
       "  1152.02,1061.86 1154.09,969.371 1156.17,670.193 1158.24,617.669 1160.31,617.669 1162.39,401.284 1164.46,409.473 1166.54,415.209 1168.61,373.125 1170.68,663.653 \n",
       "  1172.76,545.326 1174.83,686.286 1176.91,475.919 1178.98,465.556 1181.05,201.651 1183.13,201.651 1185.2,201.651 1187.27,222.414 1189.35,222.414 1191.42,418.207 \n",
       "  1193.5,321.966 1195.57,418.294 1197.64,443.53 1199.72,245.911 1201.79,290.852 1203.87,469.563 1205.94,467.276 1208.01,563.655 1210.09,563.655 1212.16,602.479 \n",
       "  1214.24,451.584 1216.31,451.584 1218.38,416.337 1220.46,295.209 1222.53,365.612 1224.61,333.447 1226.68,420.284 1228.75,420.284 1230.83,459.768 1232.9,459.768 \n",
       "  1234.97,361.627 1237.05,373.272 1239.12,585.581 1241.2,534.166 1243.27,534.166 1245.34,541.616 1247.42,650.904 1249.49,650.904 1251.57,549.492 1253.64,549.492 \n",
       "  1255.71,602.917 1257.79,538.929 1259.86,488.18 1261.94,800.872 1264.01,800.872 1266.08,800.872 1268.16,546.085 1270.23,399.076 1272.31,399.076 1274.38,422.929 \n",
       "  1276.45,384.039 1278.53,625.118 1280.6,956.99 1282.68,955.41 1284.75,955.41 1286.82,933.543 1288.9,933.543 1290.97,783.488 1293.04,451.66 1295.12,426.205 \n",
       "  1297.19,426.205 1299.27,320.561 1301.34,443.58 1303.41,317.55 1305.49,277.346 1307.56,87.9763 1309.64,87.9763 1311.71,265.958 1313.78,253.552 1315.86,253.552 \n",
       "  1317.93,271.215 1320.01,280.546 1322.08,280.546 1324.15,396.059 1326.23,173.273 1328.3,380.487 1330.38,296.996 1332.45,296.996 1334.52,296.996 1336.6,296.996 \n",
       "  1338.67,538.198 1340.74,571.789 1342.82,590.082 1344.89,626.909 1346.97,479.498 1349.04,541.146 1351.11,335.496 1353.19,335.496 1355.26,335.496 1357.34,412.887 \n",
       "  1359.41,292.946 1361.48,387.293 1363.56,387.293 1365.63,433.811 1367.71,548.202 1369.78,604.334 1371.85,443.075 1373.93,562.552 1376,387.583 1378.08,455.569 \n",
       "  1380.15,611.102 1382.22,525.287 1384.3,628.322 1386.37,620.834 1388.44,775.27 1390.52,601.825 1392.59,702.488 1394.67,601.692 1396.74,735.614 1398.81,735.614 \n",
       "  1400.89,687.393 1402.96,609.903 1405.04,548.101 1407.11,548.101 1409.18,503.28 1411.26,503.28 1413.33,794.492 1415.41,765.55 1417.48,367.071 1419.55,326.578 \n",
       "  1421.63,326.578 1423.7,369.059 1425.78,618.171 1427.85,533.74 1429.92,533.74 1432,283.736 1434.07,283.736 1436.15,465.738 1438.22,429.509 1440.29,429.509 \n",
       "  1442.37,490.401 1444.44,416 1446.51,473.015 1448.59,407.614 1450.66,680.943 1452.74,638.289 1454.81,733.409 1456.88,731.758 1458.96,655.779 1461.03,772.855 \n",
       "  1463.11,603.075 1465.18,704.541 1467.25,468.441 1469.33,468.441 1471.4,470.807 1473.48,638.591 1475.55,651.213 1477.62,631.141 1479.7,722.343 1481.77,863.085 \n",
       "  1483.85,599.198 1485.92,660.39 1487.99,665.843 1490.07,641.172 1492.14,726.621 1494.21,792.594 1496.29,834.248 1498.36,834.248 1500.44,1066.87 1502.51,1212.64 \n",
       "  1504.58,1044.21 1506.66,709.388 1508.73,607.946 1510.81,658.663 1512.88,658.663 1514.95,941.613 1517.03,941.613 1519.1,1047.73 1521.18,1052.44 1523.25,862.945 \n",
       "  1525.32,353.249 1527.4,346.856 1529.47,327.243 1531.55,620.419 1533.62,620.419 1535.69,640.58 1537.77,640.58 1539.84,640.58 1541.92,459.241 1543.99,669.371 \n",
       "  1546.06,669.371 1548.14,669.371 1550.21,807.305 1552.28,875.777 1554.36,877.313 1556.43,798.857 1558.51,798.857 1560.58,1016 1562.65,1045.25 1564.73,1025.12 \n",
       "  1566.8,1092.94 1568.88,1092.94 1570.95,1075.78 1573.02,1075.78 1575.1,966.314 1577.17,966.314 1579.25,883.545 1581.32,952.434 1583.39,952.434 1585.47,952.434 \n",
       "  1587.54,952.434 1589.62,595.594 1591.69,564.01 1593.76,554.937 1595.84,654.771 1597.91,584.736 1599.98,797.826 1602.06,917.193 1604.13,716.14 1606.21,665.37 \n",
       "  1608.28,860.115 1610.35,850.248 1612.43,900.622 1614.5,974.735 1616.58,1191 1618.65,1191 1620.72,1102.27 1622.8,1102.27 1624.87,1209.91 1626.95,1211.65 \n",
       "  1629.02,1134.04 1631.09,1134.04 1633.17,1134.04 1635.24,928.256 1637.32,980.262 1639.39,1265.45 1641.46,1265.45 1643.54,1388.15 1645.61,1140.77 1647.69,1140.77 \n",
       "  1649.76,1261.29 1651.83,1367.37 1653.91,1445.72 1655.98,1134.21 1658.05,1183.06 1660.13,1305.45 1662.2,1292.75 1664.28,1292.75 1666.35,1292.75 1668.42,1344.61 \n",
       "  1670.5,1344.61 1672.57,1281.28 1674.65,935.737 1676.72,930.063 1678.79,930.063 1680.87,930.063 1682.94,882.11 1685.02,835.304 1687.09,942.39 1689.16,833.207 \n",
       "  1691.24,834.085 1693.31,1121.86 1695.39,1202 1697.46,1078.4 1699.53,918.183 1701.61,1042.04 1703.68,932.973 1705.75,932.973 1707.83,953.609 1709.9,989.808 \n",
       "  1711.98,990.693 1714.05,951.781 1716.12,915.918 1718.2,844.64 1720.27,729.344 1722.35,753.617 1724.42,753.617 1726.49,867.68 1728.57,867.68 1730.64,871.323 \n",
       "  1732.72,903.168 1734.79,894.196 1736.86,894.196 1738.94,894.196 1741.01,894.196 1743.09,842.388 1745.16,842.388 1747.23,729.633 1749.31,531.142 1751.38,566.345 \n",
       "  1753.46,477.488 1755.53,496.632 1757.6,549.34 1759.68,549.34 1761.75,514.181 1763.82,555.216 1765.9,380.469 1767.97,365.674 1770.05,419.163 1772.12,394.094 \n",
       "  1774.19,432.291 1776.27,464.274 1778.34,663.813 1780.42,327.261 1782.49,327.261 1784.56,331.722 1786.64,331.722 1788.71,331.722 1790.79,331.722 1792.86,529.126 \n",
       "  1794.93,529.126 1797.01,675.589 1799.08,675.589 1801.16,696.37 1803.23,749.938 1805.3,690.14 1807.38,690.14 1809.45,907.385 1811.52,798.839 1813.6,506.058 \n",
       "  1815.67,506.058 1817.75,562.808 1819.82,388.043 1821.89,591.826 1823.97,534.991 1826.04,534.991 1828.12,640.694 1830.19,362.227 1832.26,526.077 1834.34,630.408 \n",
       "  1836.41,630.408 1838.49,609.401 1840.56,498.157 1842.63,682.144 1844.71,666.767 1846.78,845.789 1848.86,439.469 1850.93,363.175 1853,363.175 1855.08,514.806 \n",
       "  1857.15,514.806 1859.22,821.625 1861.3,720.301 1863.37,796.325 1865.45,572.378 1867.52,572.378 1869.59,475.483 1871.67,535.928 1873.74,426.683 1875.82,732.821 \n",
       "  1877.89,732.821 1879.96,703.164 1882.04,703.164 1884.11,546.502 1886.19,546.502 1888.26,650.292 1890.33,472.369 1892.41,503.098 1894.48,272.949 1896.56,457.18 \n",
       "  1898.63,243.407 1900.7,243.407 1902.78,147.952 1904.85,389.868 1906.93,389.868 1909,682.327 1911.07,760.478 1913.15,932.242 1915.22,759.961 1917.29,897.965 \n",
       "  1919.37,794.42 1921.44,791.924 1923.52,745.169 1925.59,881.068 1927.66,972.221 1929.74,972.221 1931.81,1067.41 1933.89,1067.41 1935.96,789.585 1938.03,719.36 \n",
       "  1940.11,529.93 1942.18,529.93 1944.26,751.973 1946.33,794.064 1948.4,757.017 1950.48,759.204 1952.55,759.204 1954.63,822.587 1956.7,822.587 1958.77,822.587 \n",
       "  1960.85,806.458 1962.92,695.996 1964.99,695.996 1967.07,752.696 1969.14,803.56 1971.22,729.561 1973.29,690.459 1975.36,690.459 1977.44,761.023 1979.51,607.94 \n",
       "  1981.59,519.081 1983.66,594.281 1985.73,633.607 1987.81,729.749 1989.88,772.534 1991.96,653.26 1994.03,757.134 1996.1,310.108 1998.18,699.713 2000.25,581.425 \n",
       "  2002.33,821.205 2004.4,514.225 2006.47,407.367 2008.55,521.41 2010.62,212.991 2012.7,297.421 2014.77,242.949 2016.84,186.039 2018.92,545.013 2020.99,420.381 \n",
       "  2023.06,544.892 2025.14,651.48 2027.21,620.705 2029.29,817.451 2031.36,908.178 2033.43,806.149 2035.51,632.907 2037.58,804.861 2039.66,1047.42 2041.73,1067.78 \n",
       "  2043.8,1018.76 2045.88,866.69 2047.95,866.69 2050.03,1019.97 2052.1,1099.45 2054.17,1099.45 2056.25,1110.74 2058.32,1110.74 2060.4,1103.7 2062.47,811.726 \n",
       "  2064.54,865.87 2066.62,807.371 2068.69,807.371 2070.76,774.441 2072.84,774.441 2074.91,819.858 2076.99,681.776 2079.06,448.569 2081.13,197.045 2083.21,197.045 \n",
       "  2085.28,197.045 2087.36,197.045 2089.43,397.661 2091.5,358.613 2093.58,275.302 2095.65,385.915 2097.73,385.915 2099.8,385.915 2101.87,240.057 2103.95,303.47 \n",
       "  2106.02,304.432 2108.1,204.157 2110.17,204.157 2112.24,141.301 2114.32,262.935 2116.39,262.935 2118.47,245.534 2120.54,283.079 2122.61,446.254 2124.69,472.175 \n",
       "  2126.76,628.384 2128.83,657.253 2130.91,602.607 2132.98,633.187 2135.06,606.159 2137.13,622.379 2139.2,610.936 2141.28,669.578 2143.35,659.001 2145.43,653.363 \n",
       "  2147.5,682.973 2149.57,770.432 2151.65,780.172 2153.72,698.82 2155.8,666.193 2157.87,666.193 2159.94,564.055 2162.02,697.935 2164.09,733.262 2166.17,720.432 \n",
       "  2168.24,577.505 2170.31,577.505 2172.39,426.775 2174.46,332.211 2176.53,505.018 2178.61,479.938 2180.68,297.973 2182.76,298.552 2184.83,298.552 2186.9,298.552 \n",
       "  2188.98,298.552 2191.05,510.577 2193.13,376.455 2195.2,497.926 2197.27,464.816 2199.35,660.736 2201.42,779.292 2203.5,779.292 2205.57,720.085 2207.64,1056.8 \n",
       "  2209.72,1056.8 2211.79,1241.9 2213.87,943.818 2215.94,943.818 2218.01,991.781 2220.09,991.781 2222.16,991.781 2224.24,991.781 2226.31,1229.45 2228.38,1258.28 \n",
       "  2230.46,1258.28 2232.53,850.738 2234.6,828.263 2236.68,744.505 2238.75,748.017 2240.83,425.043 2242.9,386.41 2244.97,531.493 2247.05,485.455 2249.12,430.407 \n",
       "  2251.2,430.407 2253.27,372.067 2255.34,308.874 2257.42,176.991 2259.49,176.991 2261.57,297.738 2263.64,297.738 2265.71,297.738 2267.79,297.738 2269.86,269.76 \n",
       "  2271.94,285.106 2274.01,285.106 2276.08,285.106 2278.16,285.106 2280.23,425.218 2282.3,425.218 2284.38,821.631 2286.45,785.503 2288.53,708.151 2290.6,541.903 \n",
       "  \n",
       "  \"/>\n",
       "<path clip-path=\"url(#clip040)\" d=\"\n",
       "M1983.1 198.898 L2279.55 198.898 L2279.55 95.2176 L1983.1 95.2176  Z\n",
       "  \" fill=\"#ffffff\" fill-rule=\"evenodd\" fill-opacity=\"1\"/>\n",
       "<polyline clip-path=\"url(#clip040)\" style=\"stroke:#000000; stroke-linecap:butt; stroke-linejoin:round; stroke-width:4; stroke-opacity:1; fill:none\" points=\"\n",
       "  1983.1,198.898 2279.55,198.898 2279.55,95.2176 1983.1,95.2176 1983.1,198.898 \n",
       "  \"/>\n",
       "<polyline clip-path=\"url(#clip040)\" style=\"stroke:#009af9; stroke-linecap:butt; stroke-linejoin:round; stroke-width:4; stroke-opacity:1; fill:none\" points=\"\n",
       "  2007.5,147.058 2153.92,147.058 \n",
       "  \"/>\n",
       "<path clip-path=\"url(#clip040)\" d=\"M2192.16 166.745 Q2190.35 171.375 2188.64 172.787 Q2186.93 174.199 2184.06 174.199 L2180.65 174.199 L2180.65 170.634 L2183.15 170.634 Q2184.91 170.634 2185.89 169.8 Q2186.86 168.967 2188.04 165.865 L2188.8 163.921 L2178.32 138.412 L2182.83 138.412 L2190.93 158.689 L2199.03 138.412 L2203.55 138.412 L2192.16 166.745 Z\" fill=\"#000000\" fill-rule=\"evenodd\" fill-opacity=\"1\" /><path clip-path=\"url(#clip040)\" d=\"M2210.84 160.402 L2218.48 160.402 L2218.48 134.037 L2210.17 135.703 L2210.17 131.444 L2218.43 129.778 L2223.11 129.778 L2223.11 160.402 L2230.75 160.402 L2230.75 164.338 L2210.84 164.338 L2210.84 160.402 Z\" fill=\"#000000\" fill-rule=\"evenodd\" fill-opacity=\"1\" /></svg>\n"
      ]
     },
     "execution_count": 139,
     "metadata": {},
     "output_type": "execute_result"
    }
   ],
   "source": [
    "plot(p)"
   ]
  },
  {
   "cell_type": "code",
   "execution_count": 143,
   "id": "3a72f06e",
   "metadata": {},
   "outputs": [
    {
     "data": {
      "image/svg+xml": [
       "<?xml version=\"1.0\" encoding=\"utf-8\"?>\n",
       "<svg xmlns=\"http://www.w3.org/2000/svg\" xmlns:xlink=\"http://www.w3.org/1999/xlink\" width=\"600\" height=\"400\" viewBox=\"0 0 2400 1600\">\n",
       "<defs>\n",
       "  <clipPath id=\"clip200\">\n",
       "    <rect x=\"0\" y=\"0\" width=\"2400\" height=\"1600\"/>\n",
       "  </clipPath>\n",
       "</defs>\n",
       "<path clip-path=\"url(#clip200)\" d=\"\n",
       "M0 1600 L2400 1600 L2400 0 L0 0  Z\n",
       "  \" fill=\"#ffffff\" fill-rule=\"evenodd\" fill-opacity=\"1\"/>\n",
       "<defs>\n",
       "  <clipPath id=\"clip201\">\n",
       "    <rect x=\"480\" y=\"0\" width=\"1681\" height=\"1600\"/>\n",
       "  </clipPath>\n",
       "</defs>\n",
       "<defs>\n",
       "  <clipPath id=\"clip202\">\n",
       "    <rect x=\"156\" y=\"47\" width=\"2198\" height=\"1440\"/>\n",
       "  </clipPath>\n",
       "</defs>\n",
       "<path clip-path=\"url(#clip200)\" d=\"\n",
       "M156.112 1486.45 L2352.76 1486.45 L2352.76 47.2441 L156.112 47.2441  Z\n",
       "  \" fill=\"#ffffff\" fill-rule=\"evenodd\" fill-opacity=\"1\"/>\n",
       "<polyline clip-path=\"url(#clip202)\" style=\"stroke:#000000; stroke-linecap:butt; stroke-linejoin:round; stroke-width:2; stroke-opacity:0.1; fill:none\" points=\"\n",
       "  218.281,1486.45 218.281,47.2441 \n",
       "  \"/>\n",
       "<polyline clip-path=\"url(#clip202)\" style=\"stroke:#000000; stroke-linecap:butt; stroke-linejoin:round; stroke-width:2; stroke-opacity:0.1; fill:none\" points=\"\n",
       "  705.502,1486.45 705.502,47.2441 \n",
       "  \"/>\n",
       "<polyline clip-path=\"url(#clip202)\" style=\"stroke:#000000; stroke-linecap:butt; stroke-linejoin:round; stroke-width:2; stroke-opacity:0.1; fill:none\" points=\"\n",
       "  1192.72,1486.45 1192.72,47.2441 \n",
       "  \"/>\n",
       "<polyline clip-path=\"url(#clip202)\" style=\"stroke:#000000; stroke-linecap:butt; stroke-linejoin:round; stroke-width:2; stroke-opacity:0.1; fill:none\" points=\"\n",
       "  1679.94,1486.45 1679.94,47.2441 \n",
       "  \"/>\n",
       "<polyline clip-path=\"url(#clip202)\" style=\"stroke:#000000; stroke-linecap:butt; stroke-linejoin:round; stroke-width:2; stroke-opacity:0.1; fill:none\" points=\"\n",
       "  2167.16,1486.45 2167.16,47.2441 \n",
       "  \"/>\n",
       "<polyline clip-path=\"url(#clip200)\" style=\"stroke:#000000; stroke-linecap:butt; stroke-linejoin:round; stroke-width:4; stroke-opacity:1; fill:none\" points=\"\n",
       "  156.112,1486.45 2352.76,1486.45 \n",
       "  \"/>\n",
       "<polyline clip-path=\"url(#clip200)\" style=\"stroke:#000000; stroke-linecap:butt; stroke-linejoin:round; stroke-width:4; stroke-opacity:1; fill:none\" points=\"\n",
       "  218.281,1486.45 218.281,1467.55 \n",
       "  \"/>\n",
       "<polyline clip-path=\"url(#clip200)\" style=\"stroke:#000000; stroke-linecap:butt; stroke-linejoin:round; stroke-width:4; stroke-opacity:1; fill:none\" points=\"\n",
       "  705.502,1486.45 705.502,1467.55 \n",
       "  \"/>\n",
       "<polyline clip-path=\"url(#clip200)\" style=\"stroke:#000000; stroke-linecap:butt; stroke-linejoin:round; stroke-width:4; stroke-opacity:1; fill:none\" points=\"\n",
       "  1192.72,1486.45 1192.72,1467.55 \n",
       "  \"/>\n",
       "<polyline clip-path=\"url(#clip200)\" style=\"stroke:#000000; stroke-linecap:butt; stroke-linejoin:round; stroke-width:4; stroke-opacity:1; fill:none\" points=\"\n",
       "  1679.94,1486.45 1679.94,1467.55 \n",
       "  \"/>\n",
       "<polyline clip-path=\"url(#clip200)\" style=\"stroke:#000000; stroke-linecap:butt; stroke-linejoin:round; stroke-width:4; stroke-opacity:1; fill:none\" points=\"\n",
       "  2167.16,1486.45 2167.16,1467.55 \n",
       "  \"/>\n",
       "<path clip-path=\"url(#clip200)\" d=\"M180.585 1515.64 Q176.974 1515.64 175.145 1519.2 Q173.339 1522.75 173.339 1529.87 Q173.339 1536.98 175.145 1540.55 Q176.974 1544.09 180.585 1544.09 Q184.219 1544.09 186.025 1540.55 Q187.853 1536.98 187.853 1529.87 Q187.853 1522.75 186.025 1519.2 Q184.219 1515.64 180.585 1515.64 M180.585 1511.93 Q186.395 1511.93 189.45 1516.54 Q192.529 1521.12 192.529 1529.87 Q192.529 1538.6 189.45 1543.21 Q186.395 1547.79 180.585 1547.79 Q174.775 1547.79 171.696 1543.21 Q168.64 1538.6 168.64 1529.87 Q168.64 1521.12 171.696 1516.54 Q174.775 1511.93 180.585 1511.93 Z\" fill=\"#000000\" fill-rule=\"evenodd\" fill-opacity=\"1\" /><path clip-path=\"url(#clip200)\" d=\"M200.747 1541.24 L205.631 1541.24 L205.631 1547.12 L200.747 1547.12 L200.747 1541.24 Z\" fill=\"#000000\" fill-rule=\"evenodd\" fill-opacity=\"1\" /><path clip-path=\"url(#clip200)\" d=\"M225.816 1515.64 Q222.205 1515.64 220.376 1519.2 Q218.571 1522.75 218.571 1529.87 Q218.571 1536.98 220.376 1540.55 Q222.205 1544.09 225.816 1544.09 Q229.45 1544.09 231.256 1540.55 Q233.084 1536.98 233.084 1529.87 Q233.084 1522.75 231.256 1519.2 Q229.45 1515.64 225.816 1515.64 M225.816 1511.93 Q231.626 1511.93 234.682 1516.54 Q237.76 1521.12 237.76 1529.87 Q237.76 1538.6 234.682 1543.21 Q231.626 1547.79 225.816 1547.79 Q220.006 1547.79 216.927 1543.21 Q213.872 1538.6 213.872 1529.87 Q213.872 1521.12 216.927 1516.54 Q220.006 1511.93 225.816 1511.93 Z\" fill=\"#000000\" fill-rule=\"evenodd\" fill-opacity=\"1\" /><path clip-path=\"url(#clip200)\" d=\"M255.978 1515.64 Q252.367 1515.64 250.538 1519.2 Q248.733 1522.75 248.733 1529.87 Q248.733 1536.98 250.538 1540.55 Q252.367 1544.09 255.978 1544.09 Q259.612 1544.09 261.418 1540.55 Q263.246 1536.98 263.246 1529.87 Q263.246 1522.75 261.418 1519.2 Q259.612 1515.64 255.978 1515.64 M255.978 1511.93 Q261.788 1511.93 264.844 1516.54 Q267.922 1521.12 267.922 1529.87 Q267.922 1538.6 264.844 1543.21 Q261.788 1547.79 255.978 1547.79 Q250.168 1547.79 247.089 1543.21 Q244.033 1538.6 244.033 1529.87 Q244.033 1521.12 247.089 1516.54 Q250.168 1511.93 255.978 1511.93 Z\" fill=\"#000000\" fill-rule=\"evenodd\" fill-opacity=\"1\" /><path clip-path=\"url(#clip200)\" d=\"M668.303 1515.64 Q664.692 1515.64 662.863 1519.2 Q661.058 1522.75 661.058 1529.87 Q661.058 1536.98 662.863 1540.55 Q664.692 1544.09 668.303 1544.09 Q671.937 1544.09 673.743 1540.55 Q675.572 1536.98 675.572 1529.87 Q675.572 1522.75 673.743 1519.2 Q671.937 1515.64 668.303 1515.64 M668.303 1511.93 Q674.113 1511.93 677.169 1516.54 Q680.247 1521.12 680.247 1529.87 Q680.247 1538.6 677.169 1543.21 Q674.113 1547.79 668.303 1547.79 Q662.493 1547.79 659.414 1543.21 Q656.359 1538.6 656.359 1529.87 Q656.359 1521.12 659.414 1516.54 Q662.493 1511.93 668.303 1511.93 Z\" fill=\"#000000\" fill-rule=\"evenodd\" fill-opacity=\"1\" /><path clip-path=\"url(#clip200)\" d=\"M688.465 1541.24 L693.349 1541.24 L693.349 1547.12 L688.465 1547.12 L688.465 1541.24 Z\" fill=\"#000000\" fill-rule=\"evenodd\" fill-opacity=\"1\" /><path clip-path=\"url(#clip200)\" d=\"M707.562 1543.18 L723.881 1543.18 L723.881 1547.12 L701.937 1547.12 L701.937 1543.18 Q704.599 1540.43 709.182 1535.8 Q713.789 1531.15 714.969 1529.81 Q717.215 1527.28 718.094 1525.55 Q718.997 1523.79 718.997 1522.1 Q718.997 1519.34 717.053 1517.61 Q715.131 1515.87 712.03 1515.87 Q709.831 1515.87 707.377 1516.63 Q704.946 1517.4 702.169 1518.95 L702.169 1514.23 Q704.993 1513.09 707.446 1512.51 Q709.9 1511.93 711.937 1511.93 Q717.307 1511.93 720.502 1514.62 Q723.696 1517.31 723.696 1521.8 Q723.696 1523.93 722.886 1525.85 Q722.099 1527.74 719.993 1530.34 Q719.414 1531.01 716.312 1534.23 Q713.21 1537.42 707.562 1543.18 Z\" fill=\"#000000\" fill-rule=\"evenodd\" fill-opacity=\"1\" /><path clip-path=\"url(#clip200)\" d=\"M733.743 1512.56 L752.099 1512.56 L752.099 1516.5 L738.025 1516.5 L738.025 1524.97 Q739.043 1524.62 740.062 1524.46 Q741.08 1524.27 742.099 1524.27 Q747.886 1524.27 751.266 1527.44 Q754.645 1530.62 754.645 1536.03 Q754.645 1541.61 751.173 1544.71 Q747.701 1547.79 741.381 1547.79 Q739.205 1547.79 736.937 1547.42 Q734.692 1547.05 732.284 1546.31 L732.284 1541.61 Q734.368 1542.74 736.59 1543.3 Q738.812 1543.86 741.289 1543.86 Q745.293 1543.86 747.631 1541.75 Q749.969 1539.64 749.969 1536.03 Q749.969 1532.42 747.631 1530.31 Q745.293 1528.21 741.289 1528.21 Q739.414 1528.21 737.539 1528.62 Q735.687 1529.04 733.743 1529.92 L733.743 1512.56 Z\" fill=\"#000000\" fill-rule=\"evenodd\" fill-opacity=\"1\" /><path clip-path=\"url(#clip200)\" d=\"M1155.03 1515.64 Q1151.41 1515.64 1149.59 1519.2 Q1147.78 1522.75 1147.78 1529.87 Q1147.78 1536.98 1149.59 1540.55 Q1151.41 1544.09 1155.03 1544.09 Q1158.66 1544.09 1160.47 1540.55 Q1162.29 1536.98 1162.29 1529.87 Q1162.29 1522.75 1160.47 1519.2 Q1158.66 1515.64 1155.03 1515.64 M1155.03 1511.93 Q1160.84 1511.93 1163.89 1516.54 Q1166.97 1521.12 1166.97 1529.87 Q1166.97 1538.6 1163.89 1543.21 Q1160.84 1547.79 1155.03 1547.79 Q1149.22 1547.79 1146.14 1543.21 Q1143.08 1538.6 1143.08 1529.87 Q1143.08 1521.12 1146.14 1516.54 Q1149.22 1511.93 1155.03 1511.93 Z\" fill=\"#000000\" fill-rule=\"evenodd\" fill-opacity=\"1\" /><path clip-path=\"url(#clip200)\" d=\"M1175.19 1541.24 L1180.07 1541.24 L1180.07 1547.12 L1175.19 1547.12 L1175.19 1541.24 Z\" fill=\"#000000\" fill-rule=\"evenodd\" fill-opacity=\"1\" /><path clip-path=\"url(#clip200)\" d=\"M1190.3 1512.56 L1208.66 1512.56 L1208.66 1516.5 L1194.59 1516.5 L1194.59 1524.97 Q1195.6 1524.62 1196.62 1524.46 Q1197.64 1524.27 1198.66 1524.27 Q1204.45 1524.27 1207.83 1527.44 Q1211.21 1530.62 1211.21 1536.03 Q1211.21 1541.61 1207.73 1544.71 Q1204.26 1547.79 1197.94 1547.79 Q1195.77 1547.79 1193.5 1547.42 Q1191.25 1547.05 1188.85 1546.31 L1188.85 1541.61 Q1190.93 1542.74 1193.15 1543.3 Q1195.37 1543.86 1197.85 1543.86 Q1201.85 1543.86 1204.19 1541.75 Q1206.53 1539.64 1206.53 1536.03 Q1206.53 1532.42 1204.19 1530.31 Q1201.85 1528.21 1197.85 1528.21 Q1195.97 1528.21 1194.1 1528.62 Q1192.25 1529.04 1190.3 1529.92 L1190.3 1512.56 Z\" fill=\"#000000\" fill-rule=\"evenodd\" fill-opacity=\"1\" /><path clip-path=\"url(#clip200)\" d=\"M1230.42 1515.64 Q1226.81 1515.64 1224.98 1519.2 Q1223.17 1522.75 1223.17 1529.87 Q1223.17 1536.98 1224.98 1540.55 Q1226.81 1544.09 1230.42 1544.09 Q1234.05 1544.09 1235.86 1540.55 Q1237.69 1536.98 1237.69 1529.87 Q1237.69 1522.75 1235.86 1519.2 Q1234.05 1515.64 1230.42 1515.64 M1230.42 1511.93 Q1236.23 1511.93 1239.28 1516.54 Q1242.36 1521.12 1242.36 1529.87 Q1242.36 1538.6 1239.28 1543.21 Q1236.23 1547.79 1230.42 1547.79 Q1224.61 1547.79 1221.53 1543.21 Q1218.47 1538.6 1218.47 1529.87 Q1218.47 1521.12 1221.53 1516.54 Q1224.61 1511.93 1230.42 1511.93 Z\" fill=\"#000000\" fill-rule=\"evenodd\" fill-opacity=\"1\" /><path clip-path=\"url(#clip200)\" d=\"M1642.74 1515.64 Q1639.13 1515.64 1637.3 1519.2 Q1635.5 1522.75 1635.5 1529.87 Q1635.5 1536.98 1637.3 1540.55 Q1639.13 1544.09 1642.74 1544.09 Q1646.38 1544.09 1648.18 1540.55 Q1650.01 1536.98 1650.01 1529.87 Q1650.01 1522.75 1648.18 1519.2 Q1646.38 1515.64 1642.74 1515.64 M1642.74 1511.93 Q1648.55 1511.93 1651.61 1516.54 Q1654.69 1521.12 1654.69 1529.87 Q1654.69 1538.6 1651.61 1543.21 Q1648.55 1547.79 1642.74 1547.79 Q1636.93 1547.79 1633.86 1543.21 Q1630.8 1538.6 1630.8 1529.87 Q1630.8 1521.12 1633.86 1516.54 Q1636.93 1511.93 1642.74 1511.93 Z\" fill=\"#000000\" fill-rule=\"evenodd\" fill-opacity=\"1\" /><path clip-path=\"url(#clip200)\" d=\"M1662.91 1541.24 L1667.79 1541.24 L1667.79 1547.12 L1662.91 1547.12 L1662.91 1541.24 Z\" fill=\"#000000\" fill-rule=\"evenodd\" fill-opacity=\"1\" /><path clip-path=\"url(#clip200)\" d=\"M1676.8 1512.56 L1699.02 1512.56 L1699.02 1514.55 L1686.47 1547.12 L1681.59 1547.12 L1693.39 1516.5 L1676.8 1516.5 L1676.8 1512.56 Z\" fill=\"#000000\" fill-rule=\"evenodd\" fill-opacity=\"1\" /><path clip-path=\"url(#clip200)\" d=\"M1708.18 1512.56 L1726.54 1512.56 L1726.54 1516.5 L1712.47 1516.5 L1712.47 1524.97 Q1713.48 1524.62 1714.5 1524.46 Q1715.52 1524.27 1716.54 1524.27 Q1722.33 1524.27 1725.71 1527.44 Q1729.09 1530.62 1729.09 1536.03 Q1729.09 1541.61 1725.61 1544.71 Q1722.14 1547.79 1715.82 1547.79 Q1713.65 1547.79 1711.38 1547.42 Q1709.13 1547.05 1706.73 1546.31 L1706.73 1541.61 Q1708.81 1542.74 1711.03 1543.3 Q1713.25 1543.86 1715.73 1543.86 Q1719.73 1543.86 1722.07 1541.75 Q1724.41 1539.64 1724.41 1536.03 Q1724.41 1532.42 1722.07 1530.31 Q1719.73 1528.21 1715.73 1528.21 Q1713.86 1528.21 1711.98 1528.62 Q1710.13 1529.04 1708.18 1529.92 L1708.18 1512.56 Z\" fill=\"#000000\" fill-rule=\"evenodd\" fill-opacity=\"1\" /><path clip-path=\"url(#clip200)\" d=\"M2119.24 1543.18 L2126.87 1543.18 L2126.87 1516.82 L2118.56 1518.49 L2118.56 1514.23 L2126.83 1512.56 L2131.5 1512.56 L2131.5 1543.18 L2139.14 1543.18 L2139.14 1547.12 L2119.24 1547.12 L2119.24 1543.18 Z\" fill=\"#000000\" fill-rule=\"evenodd\" fill-opacity=\"1\" /><path clip-path=\"url(#clip200)\" d=\"M2148.59 1541.24 L2153.47 1541.24 L2153.47 1547.12 L2148.59 1547.12 L2148.59 1541.24 Z\" fill=\"#000000\" fill-rule=\"evenodd\" fill-opacity=\"1\" /><path clip-path=\"url(#clip200)\" d=\"M2173.66 1515.64 Q2170.05 1515.64 2168.22 1519.2 Q2166.41 1522.75 2166.41 1529.87 Q2166.41 1536.98 2168.22 1540.55 Q2170.05 1544.09 2173.66 1544.09 Q2177.29 1544.09 2179.1 1540.55 Q2180.93 1536.98 2180.93 1529.87 Q2180.93 1522.75 2179.1 1519.2 Q2177.29 1515.64 2173.66 1515.64 M2173.66 1511.93 Q2179.47 1511.93 2182.52 1516.54 Q2185.6 1521.12 2185.6 1529.87 Q2185.6 1538.6 2182.52 1543.21 Q2179.47 1547.79 2173.66 1547.79 Q2167.85 1547.79 2164.77 1543.21 Q2161.71 1538.6 2161.71 1529.87 Q2161.71 1521.12 2164.77 1516.54 Q2167.85 1511.93 2173.66 1511.93 Z\" fill=\"#000000\" fill-rule=\"evenodd\" fill-opacity=\"1\" /><path clip-path=\"url(#clip200)\" d=\"M2203.82 1515.64 Q2200.21 1515.64 2198.38 1519.2 Q2196.57 1522.75 2196.57 1529.87 Q2196.57 1536.98 2198.38 1540.55 Q2200.21 1544.09 2203.82 1544.09 Q2207.45 1544.09 2209.26 1540.55 Q2211.09 1536.98 2211.09 1529.87 Q2211.09 1522.75 2209.26 1519.2 Q2207.45 1515.64 2203.82 1515.64 M2203.82 1511.93 Q2209.63 1511.93 2212.68 1516.54 Q2215.76 1521.12 2215.76 1529.87 Q2215.76 1538.6 2212.68 1543.21 Q2209.63 1547.79 2203.82 1547.79 Q2198.01 1547.79 2194.93 1543.21 Q2191.87 1538.6 2191.87 1529.87 Q2191.87 1521.12 2194.93 1516.54 Q2198.01 1511.93 2203.82 1511.93 Z\" fill=\"#000000\" fill-rule=\"evenodd\" fill-opacity=\"1\" /><polyline clip-path=\"url(#clip202)\" style=\"stroke:#000000; stroke-linecap:butt; stroke-linejoin:round; stroke-width:2; stroke-opacity:0.1; fill:none\" points=\"\n",
       "  156.112,1445.72 2352.76,1445.72 \n",
       "  \"/>\n",
       "<polyline clip-path=\"url(#clip202)\" style=\"stroke:#000000; stroke-linecap:butt; stroke-linejoin:round; stroke-width:2; stroke-opacity:0.1; fill:none\" points=\"\n",
       "  156.112,1197.11 2352.76,1197.11 \n",
       "  \"/>\n",
       "<polyline clip-path=\"url(#clip202)\" style=\"stroke:#000000; stroke-linecap:butt; stroke-linejoin:round; stroke-width:2; stroke-opacity:0.1; fill:none\" points=\"\n",
       "  156.112,948.498 2352.76,948.498 \n",
       "  \"/>\n",
       "<polyline clip-path=\"url(#clip202)\" style=\"stroke:#000000; stroke-linecap:butt; stroke-linejoin:round; stroke-width:2; stroke-opacity:0.1; fill:none\" points=\"\n",
       "  156.112,699.889 2352.76,699.889 \n",
       "  \"/>\n",
       "<polyline clip-path=\"url(#clip202)\" style=\"stroke:#000000; stroke-linecap:butt; stroke-linejoin:round; stroke-width:2; stroke-opacity:0.1; fill:none\" points=\"\n",
       "  156.112,451.28 2352.76,451.28 \n",
       "  \"/>\n",
       "<polyline clip-path=\"url(#clip202)\" style=\"stroke:#000000; stroke-linecap:butt; stroke-linejoin:round; stroke-width:2; stroke-opacity:0.1; fill:none\" points=\"\n",
       "  156.112,202.672 2352.76,202.672 \n",
       "  \"/>\n",
       "<polyline clip-path=\"url(#clip200)\" style=\"stroke:#000000; stroke-linecap:butt; stroke-linejoin:round; stroke-width:4; stroke-opacity:1; fill:none\" points=\"\n",
       "  156.112,1486.45 156.112,47.2441 \n",
       "  \"/>\n",
       "<polyline clip-path=\"url(#clip200)\" style=\"stroke:#000000; stroke-linecap:butt; stroke-linejoin:round; stroke-width:4; stroke-opacity:1; fill:none\" points=\"\n",
       "  156.112,1445.72 175.01,1445.72 \n",
       "  \"/>\n",
       "<polyline clip-path=\"url(#clip200)\" style=\"stroke:#000000; stroke-linecap:butt; stroke-linejoin:round; stroke-width:4; stroke-opacity:1; fill:none\" points=\"\n",
       "  156.112,1197.11 175.01,1197.11 \n",
       "  \"/>\n",
       "<polyline clip-path=\"url(#clip200)\" style=\"stroke:#000000; stroke-linecap:butt; stroke-linejoin:round; stroke-width:4; stroke-opacity:1; fill:none\" points=\"\n",
       "  156.112,948.498 175.01,948.498 \n",
       "  \"/>\n",
       "<polyline clip-path=\"url(#clip200)\" style=\"stroke:#000000; stroke-linecap:butt; stroke-linejoin:round; stroke-width:4; stroke-opacity:1; fill:none\" points=\"\n",
       "  156.112,699.889 175.01,699.889 \n",
       "  \"/>\n",
       "<polyline clip-path=\"url(#clip200)\" style=\"stroke:#000000; stroke-linecap:butt; stroke-linejoin:round; stroke-width:4; stroke-opacity:1; fill:none\" points=\"\n",
       "  156.112,451.28 175.01,451.28 \n",
       "  \"/>\n",
       "<polyline clip-path=\"url(#clip200)\" style=\"stroke:#000000; stroke-linecap:butt; stroke-linejoin:round; stroke-width:4; stroke-opacity:1; fill:none\" points=\"\n",
       "  156.112,202.672 175.01,202.672 \n",
       "  \"/>\n",
       "<path clip-path=\"url(#clip200)\" d=\"M62.9365 1431.51 Q59.3254 1431.51 57.4967 1435.08 Q55.6912 1438.62 55.6912 1445.75 Q55.6912 1452.86 57.4967 1456.42 Q59.3254 1459.96 62.9365 1459.96 Q66.5707 1459.96 68.3763 1456.42 Q70.205 1452.86 70.205 1445.75 Q70.205 1438.62 68.3763 1435.08 Q66.5707 1431.51 62.9365 1431.51 M62.9365 1427.81 Q68.7467 1427.81 71.8022 1432.42 Q74.8809 1437 74.8809 1445.75 Q74.8809 1454.48 71.8022 1459.08 Q68.7467 1463.67 62.9365 1463.67 Q57.1264 1463.67 54.0477 1459.08 Q50.9921 1454.48 50.9921 1445.75 Q50.9921 1437 54.0477 1432.42 Q57.1264 1427.81 62.9365 1427.81 Z\" fill=\"#000000\" fill-rule=\"evenodd\" fill-opacity=\"1\" /><path clip-path=\"url(#clip200)\" d=\"M83.0984 1457.12 L87.9827 1457.12 L87.9827 1463 L83.0984 1463 L83.0984 1457.12 Z\" fill=\"#000000\" fill-rule=\"evenodd\" fill-opacity=\"1\" /><path clip-path=\"url(#clip200)\" d=\"M108.168 1431.51 Q104.557 1431.51 102.728 1435.08 Q100.922 1438.62 100.922 1445.75 Q100.922 1452.86 102.728 1456.42 Q104.557 1459.96 108.168 1459.96 Q111.802 1459.96 113.608 1456.42 Q115.436 1452.86 115.436 1445.75 Q115.436 1438.62 113.608 1435.08 Q111.802 1431.51 108.168 1431.51 M108.168 1427.81 Q113.978 1427.81 117.033 1432.42 Q120.112 1437 120.112 1445.75 Q120.112 1454.48 117.033 1459.08 Q113.978 1463.67 108.168 1463.67 Q102.358 1463.67 99.2789 1459.08 Q96.2234 1454.48 96.2234 1445.75 Q96.2234 1437 99.2789 1432.42 Q102.358 1427.81 108.168 1427.81 Z\" fill=\"#000000\" fill-rule=\"evenodd\" fill-opacity=\"1\" /><path clip-path=\"url(#clip200)\" d=\"M63.9319 1182.91 Q60.3208 1182.91 58.4921 1186.47 Q56.6865 1190.01 56.6865 1197.14 Q56.6865 1204.25 58.4921 1207.81 Q60.3208 1211.35 63.9319 1211.35 Q67.5661 1211.35 69.3717 1207.81 Q71.2004 1204.25 71.2004 1197.14 Q71.2004 1190.01 69.3717 1186.47 Q67.5661 1182.91 63.9319 1182.91 M63.9319 1179.2 Q69.742 1179.2 72.7976 1183.81 Q75.8763 1188.39 75.8763 1197.14 Q75.8763 1205.87 72.7976 1210.47 Q69.742 1215.06 63.9319 1215.06 Q58.1217 1215.06 55.043 1210.47 Q51.9875 1205.87 51.9875 1197.14 Q51.9875 1188.39 55.043 1183.81 Q58.1217 1179.2 63.9319 1179.2 Z\" fill=\"#000000\" fill-rule=\"evenodd\" fill-opacity=\"1\" /><path clip-path=\"url(#clip200)\" d=\"M84.0938 1208.51 L88.978 1208.51 L88.978 1214.39 L84.0938 1214.39 L84.0938 1208.51 Z\" fill=\"#000000\" fill-rule=\"evenodd\" fill-opacity=\"1\" /><path clip-path=\"url(#clip200)\" d=\"M99.2095 1179.83 L117.566 1179.83 L117.566 1183.76 L103.492 1183.76 L103.492 1192.23 Q104.51 1191.89 105.529 1191.72 Q106.547 1191.54 107.566 1191.54 Q113.353 1191.54 116.733 1194.71 Q120.112 1197.88 120.112 1203.3 Q120.112 1208.88 116.64 1211.98 Q113.168 1215.06 106.848 1215.06 Q104.672 1215.06 102.404 1214.69 Q100.159 1214.32 97.7511 1213.58 L97.7511 1208.88 Q99.8345 1210.01 102.057 1210.57 Q104.279 1211.12 106.756 1211.12 Q110.76 1211.12 113.098 1209.02 Q115.436 1206.91 115.436 1203.3 Q115.436 1199.69 113.098 1197.58 Q110.76 1195.47 106.756 1195.47 Q104.881 1195.47 103.006 1195.89 Q101.154 1196.31 99.2095 1197.19 L99.2095 1179.83 Z\" fill=\"#000000\" fill-rule=\"evenodd\" fill-opacity=\"1\" /><path clip-path=\"url(#clip200)\" d=\"M53.7467 961.843 L61.3856 961.843 L61.3856 935.477 L53.0754 937.144 L53.0754 932.885 L61.3393 931.218 L66.0152 931.218 L66.0152 961.843 L73.654 961.843 L73.654 965.778 L53.7467 965.778 L53.7467 961.843 Z\" fill=\"#000000\" fill-rule=\"evenodd\" fill-opacity=\"1\" /><path clip-path=\"url(#clip200)\" d=\"M83.0984 959.898 L87.9827 959.898 L87.9827 965.778 L83.0984 965.778 L83.0984 959.898 Z\" fill=\"#000000\" fill-rule=\"evenodd\" fill-opacity=\"1\" /><path clip-path=\"url(#clip200)\" d=\"M108.168 934.297 Q104.557 934.297 102.728 937.862 Q100.922 941.403 100.922 948.533 Q100.922 955.639 102.728 959.204 Q104.557 962.746 108.168 962.746 Q111.802 962.746 113.608 959.204 Q115.436 955.639 115.436 948.533 Q115.436 941.403 113.608 937.862 Q111.802 934.297 108.168 934.297 M108.168 930.593 Q113.978 930.593 117.033 935.2 Q120.112 939.783 120.112 948.533 Q120.112 957.26 117.033 961.866 Q113.978 966.449 108.168 966.449 Q102.358 966.449 99.2789 961.866 Q96.2234 957.26 96.2234 948.533 Q96.2234 939.783 99.2789 935.2 Q102.358 930.593 108.168 930.593 Z\" fill=\"#000000\" fill-rule=\"evenodd\" fill-opacity=\"1\" /><path clip-path=\"url(#clip200)\" d=\"M54.7421 713.234 L62.381 713.234 L62.381 686.869 L54.0708 688.535 L54.0708 684.276 L62.3347 682.609 L67.0106 682.609 L67.0106 713.234 L74.6494 713.234 L74.6494 717.169 L54.7421 717.169 L54.7421 713.234 Z\" fill=\"#000000\" fill-rule=\"evenodd\" fill-opacity=\"1\" /><path clip-path=\"url(#clip200)\" d=\"M84.0938 711.29 L88.978 711.29 L88.978 717.169 L84.0938 717.169 L84.0938 711.29 Z\" fill=\"#000000\" fill-rule=\"evenodd\" fill-opacity=\"1\" /><path clip-path=\"url(#clip200)\" d=\"M99.2095 682.609 L117.566 682.609 L117.566 686.544 L103.492 686.544 L103.492 695.017 Q104.51 694.669 105.529 694.507 Q106.547 694.322 107.566 694.322 Q113.353 694.322 116.733 697.493 Q120.112 700.665 120.112 706.081 Q120.112 711.66 116.64 714.762 Q113.168 717.841 106.848 717.841 Q104.672 717.841 102.404 717.47 Q100.159 717.1 97.7511 716.359 L97.7511 711.66 Q99.8345 712.794 102.057 713.35 Q104.279 713.905 106.756 713.905 Q110.76 713.905 113.098 711.799 Q115.436 709.692 115.436 706.081 Q115.436 702.47 113.098 700.364 Q110.76 698.257 106.756 698.257 Q104.881 698.257 103.006 698.674 Q101.154 699.091 99.2095 699.97 L99.2095 682.609 Z\" fill=\"#000000\" fill-rule=\"evenodd\" fill-opacity=\"1\" /><path clip-path=\"url(#clip200)\" d=\"M56.9643 464.625 L73.2837 464.625 L73.2837 468.56 L51.3393 468.56 L51.3393 464.625 Q54.0014 461.871 58.5847 457.241 Q63.1911 452.588 64.3717 451.246 Q66.617 448.723 67.4967 446.987 Q68.3994 445.227 68.3994 443.537 Q68.3994 440.783 66.455 439.047 Q64.5337 437.311 61.4319 437.311 Q59.2328 437.311 56.7791 438.075 Q54.3486 438.838 51.5708 440.389 L51.5708 435.667 Q54.3949 434.533 56.8486 433.954 Q59.3023 433.375 61.3393 433.375 Q66.7096 433.375 69.9041 436.061 Q73.0985 438.746 73.0985 443.237 Q73.0985 445.366 72.2883 447.287 Q71.5013 449.186 69.3948 451.778 Q68.8161 452.449 65.7143 455.667 Q62.6124 458.861 56.9643 464.625 Z\" fill=\"#000000\" fill-rule=\"evenodd\" fill-opacity=\"1\" /><path clip-path=\"url(#clip200)\" d=\"M83.0984 462.681 L87.9827 462.681 L87.9827 468.56 L83.0984 468.56 L83.0984 462.681 Z\" fill=\"#000000\" fill-rule=\"evenodd\" fill-opacity=\"1\" /><path clip-path=\"url(#clip200)\" d=\"M108.168 437.079 Q104.557 437.079 102.728 440.644 Q100.922 444.186 100.922 451.315 Q100.922 458.422 102.728 461.986 Q104.557 465.528 108.168 465.528 Q111.802 465.528 113.608 461.986 Q115.436 458.422 115.436 451.315 Q115.436 444.186 113.608 440.644 Q111.802 437.079 108.168 437.079 M108.168 433.375 Q113.978 433.375 117.033 437.982 Q120.112 442.565 120.112 451.315 Q120.112 460.042 117.033 464.648 Q113.978 469.232 108.168 469.232 Q102.358 469.232 99.2789 464.648 Q96.2234 460.042 96.2234 451.315 Q96.2234 442.565 99.2789 437.982 Q102.358 433.375 108.168 433.375 Z\" fill=\"#000000\" fill-rule=\"evenodd\" fill-opacity=\"1\" /><path clip-path=\"url(#clip200)\" d=\"M57.9597 216.016 L74.279 216.016 L74.279 219.952 L52.3347 219.952 L52.3347 216.016 Q54.9967 213.262 59.58 208.632 Q64.1865 203.98 65.367 202.637 Q67.6124 200.114 68.492 198.378 Q69.3948 196.618 69.3948 194.929 Q69.3948 192.174 67.4504 190.438 Q65.5291 188.702 62.4272 188.702 Q60.2282 188.702 57.7745 189.466 Q55.344 190.23 52.5662 191.781 L52.5662 187.058 Q55.3903 185.924 57.8439 185.345 Q60.2976 184.767 62.3347 184.767 Q67.705 184.767 70.8994 187.452 Q74.0939 190.137 74.0939 194.628 Q74.0939 196.757 73.2837 198.679 Q72.4966 200.577 70.3902 203.169 Q69.8115 203.841 66.7096 207.058 Q63.6078 210.253 57.9597 216.016 Z\" fill=\"#000000\" fill-rule=\"evenodd\" fill-opacity=\"1\" /><path clip-path=\"url(#clip200)\" d=\"M84.0938 214.072 L88.978 214.072 L88.978 219.952 L84.0938 219.952 L84.0938 214.072 Z\" fill=\"#000000\" fill-rule=\"evenodd\" fill-opacity=\"1\" /><path clip-path=\"url(#clip200)\" d=\"M99.2095 185.392 L117.566 185.392 L117.566 189.327 L103.492 189.327 L103.492 197.799 Q104.51 197.452 105.529 197.29 Q106.547 197.105 107.566 197.105 Q113.353 197.105 116.733 200.276 Q120.112 203.447 120.112 208.864 Q120.112 214.442 116.64 217.544 Q113.168 220.623 106.848 220.623 Q104.672 220.623 102.404 220.253 Q100.159 219.882 97.7511 219.141 L97.7511 214.442 Q99.8345 215.577 102.057 216.132 Q104.279 216.688 106.756 216.688 Q110.76 216.688 113.098 214.581 Q115.436 212.475 115.436 208.864 Q115.436 205.253 113.098 203.146 Q110.76 201.04 106.756 201.04 Q104.881 201.04 103.006 201.456 Q101.154 201.873 99.2095 202.753 L99.2095 185.392 Z\" fill=\"#000000\" fill-rule=\"evenodd\" fill-opacity=\"1\" /><polyline clip-path=\"url(#clip202)\" style=\"stroke:#009af9; stroke-linecap:butt; stroke-linejoin:round; stroke-width:4; stroke-opacity:1; fill:none\" points=\"\n",
       "  260.491,1445.71 270.693,1445.71 280.894,1445.71 291.096,1445.7 301.297,1445.69 311.499,1445.68 321.7,1445.66 331.902,1445.62 342.103,1445.57 352.305,1445.49 \n",
       "  362.506,1445.37 372.708,1445.21 382.909,1445 393.111,1444.71 403.312,1444.33 413.514,1443.85 423.715,1443.26 433.917,1442.53 444.118,1441.66 454.32,1440.63 \n",
       "  464.521,1439.44 474.723,1438.08 484.924,1436.54 495.126,1434.82 505.327,1432.89 515.529,1430.75 525.73,1428.37 535.932,1425.74 546.133,1422.83 556.335,1419.6 \n",
       "  566.536,1416.01 576.737,1412 586.939,1407.54 597.14,1402.56 607.342,1396.99 617.543,1390.8 627.745,1383.93 637.946,1376.36 648.148,1368.09 658.349,1359.16 \n",
       "  668.551,1349.64 678.752,1339.66 688.954,1329.38 699.155,1318.98 709.357,1308.67 719.558,1298.66 729.76,1289.12 739.961,1280.19 750.163,1271.92 760.364,1264.3 \n",
       "  770.566,1257.21 780.767,1250.42 790.969,1243.64 801.17,1236.5 811.372,1228.59 821.573,1219.51 831.775,1208.87 841.976,1196.36 852.178,1181.76 862.379,1164.96 \n",
       "  872.581,1145.99 882.782,1124.97 892.983,1102.15 903.185,1077.87 913.386,1052.52 923.588,1026.52 933.789,1000.29 943.991,974.19 954.192,948.529 964.394,923.525 \n",
       "  974.595,899.3 984.797,875.881 994.998,853.214 1005.2,831.176 1015.4,809.603 1025.6,788.307 1035.8,767.103 1046.01,745.817 1056.21,724.307 1066.41,702.46 \n",
       "  1076.61,680.2 1086.81,657.49 1097.01,634.334 1107.21,610.783 1117.42,586.942 1127.62,562.968 1137.82,539.077 1148.02,515.531 1158.22,492.619 1168.42,470.633 \n",
       "  1178.63,449.831 1188.83,430.406 1199.03,412.448 1209.23,395.925 1219.43,380.677 1229.63,366.431 1239.83,352.824 1250.04,339.456 1260.24,325.939 1270.44,311.959 \n",
       "  1280.64,297.317 1290.84,281.975 1301.04,266.07 1311.24,249.913 1321.45,233.967 1331.65,218.806 1341.85,205.06 1352.05,193.356 1362.25,184.255 1372.45,178.198 \n",
       "  1382.65,175.466 1392.86,176.154 1403.06,180.173 1413.26,187.267 1423.46,197.05 1433.66,209.058 1443.86,222.8 1454.07,237.812 1464.27,253.694 1474.47,270.132 \n",
       "  1484.67,286.901 1494.87,303.849 1505.07,320.873 1515.27,337.884 1525.48,354.785 1535.68,371.454 1545.88,387.749 1556.08,403.523 1566.28,418.653 1576.48,433.079 \n",
       "  1586.68,446.823 1596.89,460.005 1607.09,472.84 1617.29,485.607 1627.49,498.609 1637.69,512.12 1647.89,526.341 1658.09,541.361 1668.3,557.144 1678.5,573.541 \n",
       "  1688.7,590.324 1698.9,607.245 1709.1,624.098 1719.3,640.781 1729.51,657.34 1739.71,673.987 1749.91,691.091 1760.11,709.133 1770.31,728.635 1780.51,750.086 \n",
       "  1790.71,773.86 1800.92,800.149 1811.12,828.935 1821.32,859.983 1831.52,892.871 1841.72,927.051 1851.92,961.914 1862.12,996.867 1872.33,1031.39 1882.53,1065.07 \n",
       "  1892.73,1097.63 1902.93,1128.89 1913.13,1158.77 1923.33,1187.22 1933.53,1214.24 1943.74,1239.77 1953.94,1263.78 1964.14,1286.17 1974.34,1306.87 1984.54,1325.81 \n",
       "  1994.74,1342.92 2004.95,1358.2 2015.15,1371.7 2025.35,1383.5 2035.55,1393.72 2045.75,1402.52 2055.95,1410.05 2066.15,1416.46 2076.36,1421.91 2086.56,1426.52 \n",
       "  2096.76,1430.4 2106.96,1433.65 2117.16,1436.34 2127.36,1438.54 2137.56,1440.31 2147.77,1441.72 2157.97,1442.82 2168.17,1443.66 2178.37,1444.28 2188.57,1444.74 \n",
       "  2198.77,1445.07 2208.97,1445.29 2219.18,1445.45 2229.38,1445.55 2239.58,1445.61 2249.78,1445.66 2259.98,1445.68 2270.18,1445.7 2280.39,1445.7 2290.59,1445.71 \n",
       "  \n",
       "  \"/>\n",
       "<polyline clip-path=\"url(#clip202)\" style=\"stroke:#e26f46; stroke-linecap:butt; stroke-linejoin:round; stroke-width:4; stroke-opacity:1; fill:none\" stroke-dasharray=\"16, 10\" points=\"\n",
       "  218.281,1445.72 237.77,1445.72 257.259,1445.72 276.748,1445.72 296.237,1445.71 315.725,1445.71 335.214,1445.7 354.703,1445.68 374.192,1445.63 393.681,1445.55 \n",
       "  413.17,1445.41 432.658,1445.19 452.147,1444.87 471.636,1444.39 491.125,1443.72 510.614,1442.79 530.102,1441.56 549.591,1439.95 569.08,1437.88 588.569,1435.27 \n",
       "  608.058,1432.03 627.547,1428.05 647.035,1423.24 666.524,1417.49 686.013,1410.68 705.502,1402.7 724.991,1393.43 744.48,1382.77 763.968,1370.59 783.457,1356.8 \n",
       "  802.946,1341.28 822.435,1323.94 841.924,1304.7 861.413,1283.48 880.901,1260.22 900.39,1234.87 919.879,1207.38 939.368,1177.76 958.857,1146 978.345,1112.13 \n",
       "  997.834,1076.19 1017.32,1038.26 1036.81,998.409 1056.3,956.769 1075.79,913.478 1095.28,868.698 1114.77,822.621 1134.26,775.46 1153.74,727.453 1173.23,678.861 \n",
       "  1192.72,629.968 1212.21,581.076 1231.7,532.508 1251.19,484.602 1270.68,437.713 1290.17,392.204 1309.66,348.45 1329.14,306.83 1348.63,267.726 1368.12,231.518 \n",
       "  1387.61,198.581 1407.1,169.281 1426.59,143.968 1446.08,122.976 1465.57,106.615 1485.05,95.1676 1504.54,88.8835 1524.03,87.9763 1543.52,92.6179 1563.01,102.934 \n",
       "  1582.5,119 1601.99,140.838 1621.48,168.41 1640.97,201.619 1660.45,240.302 1679.94,284.231 1699.43,333.111 1718.92,386.575 1738.41,444.191 1757.9,505.459 \n",
       "  1777.39,569.813 1796.88,636.626 1816.36,705.213 1835.85,774.841 1855.34,844.734 1874.83,914.081 1894.32,982.055 1913.81,1047.82 1933.3,1110.55 1952.79,1169.44 \n",
       "  1972.28,1223.75 1991.76,1272.81 2011.25,1316.05 2030.74,1353.03 2050.23,1383.48 2069.72,1407.34 2089.21,1424.79 2108.7,1436.32 2128.19,1442.76 2147.67,1445.32 \n",
       "  2167.16,1445.72 \n",
       "  \"/>\n",
       "<path clip-path=\"url(#clip200)\" d=\"\n",
       "M1894.68 250.738 L2279.53 250.738 L2279.53 95.2176 L1894.68 95.2176  Z\n",
       "  \" fill=\"#ffffff\" fill-rule=\"evenodd\" fill-opacity=\"1\"/>\n",
       "<polyline clip-path=\"url(#clip200)\" style=\"stroke:#000000; stroke-linecap:butt; stroke-linejoin:round; stroke-width:4; stroke-opacity:1; fill:none\" points=\"\n",
       "  1894.68,250.738 2279.53,250.738 2279.53,95.2176 1894.68,95.2176 1894.68,250.738 \n",
       "  \"/>\n",
       "<polyline clip-path=\"url(#clip200)\" style=\"stroke:#009af9; stroke-linecap:butt; stroke-linejoin:round; stroke-width:4; stroke-opacity:1; fill:none\" points=\"\n",
       "  1919.08,147.058 2065.53,147.058 \n",
       "  \"/>\n",
       "<path clip-path=\"url(#clip200)\" d=\"M2089.93 129.778 L2096.9 129.778 L2105.72 153.296 L2114.59 129.778 L2121.55 129.778 L2121.55 164.338 L2116.99 164.338 L2116.99 133.99 L2108.08 157.694 L2103.38 157.694 L2094.47 133.99 L2094.47 164.338 L2089.93 164.338 L2089.93 129.778 Z\" fill=\"#000000\" fill-rule=\"evenodd\" fill-opacity=\"1\" /><path clip-path=\"url(#clip200)\" d=\"M2156.72 132.44 L2156.72 137.37 Q2154.35 135.171 2151.67 134.083 Q2149.01 132.995 2146 132.995 Q2140.07 132.995 2136.92 136.629 Q2133.78 140.24 2133.78 147.092 Q2133.78 153.921 2136.92 157.555 Q2140.07 161.166 2146 161.166 Q2149.01 161.166 2151.67 160.078 Q2154.35 158.99 2156.72 156.791 L2156.72 161.676 Q2154.26 163.342 2151.51 164.176 Q2148.78 165.009 2145.72 165.009 Q2137.87 165.009 2133.36 160.217 Q2128.85 155.402 2128.85 147.092 Q2128.85 138.759 2133.36 133.967 Q2137.87 129.153 2145.72 129.153 Q2148.82 129.153 2151.55 129.986 Q2154.31 130.796 2156.72 132.44 Z\" fill=\"#000000\" fill-rule=\"evenodd\" fill-opacity=\"1\" /><path clip-path=\"url(#clip200)\" d=\"M2163.94 129.778 L2170.91 129.778 L2179.73 153.296 L2188.59 129.778 L2195.56 129.778 L2195.56 164.338 L2191 164.338 L2191 133.99 L2182.09 157.694 L2177.39 157.694 L2168.48 133.99 L2168.48 164.338 L2163.94 164.338 L2163.94 129.778 Z\" fill=\"#000000\" fill-rule=\"evenodd\" fill-opacity=\"1\" /><path clip-path=\"url(#clip200)\" d=\"M2230.72 132.44 L2230.72 137.37 Q2228.36 135.171 2225.67 134.083 Q2223.01 132.995 2220 132.995 Q2214.08 132.995 2210.93 136.629 Q2207.78 140.24 2207.78 147.092 Q2207.78 153.921 2210.93 157.555 Q2214.08 161.166 2220 161.166 Q2223.01 161.166 2225.67 160.078 Q2228.36 158.99 2230.72 156.791 L2230.72 161.676 Q2228.27 163.342 2225.51 164.176 Q2222.78 165.009 2219.72 165.009 Q2211.88 165.009 2207.36 160.217 Q2202.85 155.402 2202.85 147.092 Q2202.85 138.759 2207.36 133.967 Q2211.88 129.153 2219.72 129.153 Q2222.83 129.153 2225.56 129.986 Q2228.31 130.796 2230.72 132.44 Z\" fill=\"#000000\" fill-rule=\"evenodd\" fill-opacity=\"1\" /><polyline clip-path=\"url(#clip200)\" style=\"stroke:#e26f46; stroke-linecap:butt; stroke-linejoin:round; stroke-width:4; stroke-opacity:1; fill:none\" stroke-dasharray=\"16, 10\" points=\"\n",
       "  1919.08,198.898 2065.53,198.898 \n",
       "  \"/>\n",
       "<path clip-path=\"url(#clip200)\" d=\"M2123.22 188.954 Q2122.44 191.999 2119.63 194.2 Q2117.95 195.582 2115.6 196.683 L2115.65 197.081 Q2119.84 197.878 2120.87 199.236 Q2121.58 200.173 2121.76 201.649 Q2121.98 203.101 2121.65 204.459 Q2120.8 207.715 2116.85 210.971 Q2113.97 213.243 2110.19 214.414 Q2106.42 215.585 2102.89 215.585 L2089.93 215.585 L2091.85 213.055 Q2093.68 213.055 2095.16 212.517 Q2096.66 211.978 2098.23 210.737 Q2100.45 208.886 2101.6 206.38 Q2102.93 203.64 2104.22 198.463 L2107.78 184.269 Q2106.1 184.433 2103.92 185.23 Q2101.74 186.026 2100.15 187.291 Q2098.08 188.93 2097.66 190.546 Q2097.66 190.57 2097.52 192.139 Q2097.52 193.24 2097.45 193.474 Q2097.19 194.575 2096.66 194.997 Q2095.72 195.723 2094.78 195.723 Q2094.24 195.723 2094.01 195.254 Q2093.4 194.552 2093.87 192.608 Q2094.52 189.68 2097.66 187.15 Q2101.9 183.848 2108.11 182.911 L2111.37 181.388 L2111.76 181.716 L2111.53 182.817 Q2116.47 182.817 2118.91 183.215 Q2121.65 183.66 2122.61 185.019 Q2123.78 186.518 2123.22 188.954 M2119.59 190.265 Q2120.22 187.689 2119.05 186.19 Q2118.28 185.112 2116.31 184.597 Q2114.25 184.129 2111.18 184.129 L2108.11 196.308 Q2108.04 196.589 2108.23 196.777 Q2108.44 196.941 2108.65 196.988 Q2108.88 197.011 2109.16 197.011 Q2113.52 197.011 2116.71 194.481 Q2119 192.725 2119.59 190.265 M2117.99 205.022 Q2118.3 203.827 2118.11 202.492 Q2117.95 201.133 2117.31 200.29 Q2116.4 199.072 2114.88 198.651 Q2113.59 198.229 2110.71 198.229 Q2109.63 198.229 2107.43 198.416 Q2107.36 198.58 2107.06 199.377 Q2106.77 200.15 2106.68 200.431 Q2106.59 200.688 2106.31 201.391 Q2106.03 202.094 2105.86 202.468 Q2105.7 202.82 2105.42 203.452 Q2105.14 204.061 2104.9 204.483 Q2104.69 204.881 2104.39 205.396 Q2104.1 205.888 2103.8 206.333 Q2102.63 208.066 2100.76 209.917 Q2098.88 211.744 2097.31 212.704 L2097.45 213.102 L2105.37 213.102 Q2108.44 213.102 2111.04 212.657 Q2112.79 212.353 2114.34 211.018 Q2115.63 209.94 2116.59 208.301 Q2117.57 206.661 2117.99 205.022 Z\" fill=\"#000000\" fill-rule=\"evenodd\" fill-opacity=\"1\" /><path clip-path=\"url(#clip200)\" d=\"M2145.13 209.987 Q2145.31 210.198 2145.31 210.409 Q2145.31 210.619 2144.85 211.228 Q2144.4 211.837 2143.44 212.657 Q2142.48 213.477 2141.24 214.25 Q2140 215.023 2138.17 215.538 Q2136.34 216.077 2134.42 216.077 Q2130.98 216.077 2128.92 213.618 Q2126.88 211.158 2126.88 207.387 Q2126.88 204.975 2127.68 202.843 Q2128.47 200.688 2129.76 199.166 Q2131.07 197.643 2132.71 196.543 Q2134.38 195.418 2136.11 194.88 Q2137.84 194.341 2139.46 194.341 Q2141.82 194.341 2143.21 195.535 Q2144.59 196.73 2144.59 198.416 Q2144.59 198.815 2144.47 199.306 Q2144.38 199.798 2144.05 200.571 Q2143.75 201.344 2142.95 202.117 Q2142.15 202.867 2140.98 203.359 Q2138.38 204.459 2133.65 204.459 L2131.1 204.459 Q2130.35 207.481 2130.35 209.448 Q2130.35 210.221 2130.49 211.018 Q2130.63 211.791 2131 212.774 Q2131.4 213.758 2132.29 214.39 Q2133.2 214.999 2134.52 214.999 Q2134.94 214.999 2135.38 214.976 Q2135.85 214.953 2137.02 214.695 Q2138.22 214.437 2139.27 213.992 Q2140.33 213.547 2141.66 212.587 Q2143.02 211.603 2144.1 210.268 Q2144.47 209.776 2144.73 209.776 Q2144.94 209.776 2145.13 209.987 M2143 198.416 Q2143 197.128 2142.04 196.262 Q2141.1 195.395 2139.46 195.395 Q2138.94 195.395 2138.31 195.512 Q2137.68 195.629 2136.62 196.121 Q2135.59 196.613 2134.68 197.433 Q2133.77 198.229 2132.85 199.798 Q2131.94 201.344 2131.4 203.405 L2133.37 203.405 Q2134.05 203.405 2134.54 203.405 Q2135.03 203.382 2136.11 203.288 Q2137.21 203.195 2138.01 203.031 Q2138.8 202.843 2139.81 202.468 Q2140.82 202.094 2141.45 201.602 Q2142.11 201.087 2142.55 200.267 Q2143 199.447 2143 198.416 Z\" fill=\"#000000\" fill-rule=\"evenodd\" fill-opacity=\"1\" /><path clip-path=\"url(#clip200)\" d=\"M2162.62 195.395 Q2162.62 196.051 2162.31 196.215 Q2162.01 196.355 2161.16 196.355 L2156.67 196.355 L2153.11 210.502 Q2152.82 211.744 2152.82 212.798 Q2152.82 213.969 2153.18 214.484 Q2153.55 214.999 2154.32 214.999 Q2155.85 214.999 2157.49 213.618 Q2159.15 212.236 2160.55 208.863 Q2160.74 208.418 2160.83 208.324 Q2160.95 208.207 2161.26 208.207 Q2161.84 208.207 2161.84 208.675 Q2161.84 208.839 2161.51 209.589 Q2161.21 210.338 2160.53 211.439 Q2159.87 212.54 2159.01 213.571 Q2158.16 214.601 2156.88 215.351 Q2155.59 216.077 2154.21 216.077 Q2152.26 216.077 2151.02 214.836 Q2149.8 213.594 2149.8 211.65 Q2149.8 211.018 2150.29 209.003 Q2150.79 206.966 2153.46 196.355 L2149.22 196.355 Q2148.63 196.355 2148.4 196.332 Q2148.19 196.308 2148.02 196.191 Q2147.88 196.051 2147.88 195.77 Q2147.88 195.325 2148.07 195.137 Q2148.26 194.926 2148.49 194.903 Q2148.75 194.856 2149.33 194.856 L2153.83 194.856 L2155.71 187.244 Q2155.89 186.494 2156.36 186.073 Q2156.85 185.628 2157.13 185.581 Q2157.42 185.511 2157.63 185.511 Q2158.26 185.511 2158.63 185.862 Q2159.01 186.19 2159.01 186.799 Q2159.01 187.127 2157.04 194.856 L2161.26 194.856 Q2161.8 194.856 2162.01 194.88 Q2162.24 194.903 2162.43 195.02 Q2162.62 195.137 2162.62 195.395 Z\" fill=\"#000000\" fill-rule=\"evenodd\" fill-opacity=\"1\" /><path clip-path=\"url(#clip200)\" d=\"M2186.12 208.675 Q2185.49 211.697 2184.67 213.43 Q2183.35 216.077 2181.13 216.077 Q2179.44 216.077 2178.25 215.046 Q2177.05 214.016 2176.77 212.47 Q2173.7 216.077 2170.52 216.077 Q2167.71 216.077 2165.93 213.945 Q2164.15 211.791 2164.15 208.394 Q2164.15 204.975 2165.83 201.696 Q2167.54 198.416 2170.24 196.379 Q2172.93 194.341 2175.69 194.341 Q2178.62 194.341 2180.12 197.409 Q2180.24 196.566 2180.78 195.934 Q2181.32 195.301 2182.14 195.301 Q2182.77 195.301 2183.14 195.653 Q2183.52 195.98 2183.52 196.589 Q2183.52 196.894 2183.19 198.229 L2181.46 204.928 L2180.4 209.261 Q2180 210.854 2179.89 211.439 Q2179.79 212.025 2179.79 212.798 Q2179.79 214.999 2181.22 214.999 Q2181.92 214.999 2182.49 214.554 Q2183.05 214.109 2183.49 213.173 Q2183.94 212.236 2184.22 211.369 Q2184.5 210.479 2184.88 209.074 Q2184.99 208.511 2185.09 208.371 Q2185.2 208.207 2185.53 208.207 Q2186.12 208.207 2186.12 208.675 M2179.54 199.611 Q2179.54 199.4 2179.37 198.815 Q2179.21 198.229 2178.83 197.409 Q2178.46 196.589 2177.64 196.004 Q2176.84 195.395 2175.76 195.395 Q2174.31 195.395 2172.79 196.636 Q2171.29 197.878 2170.19 199.986 Q2169.35 201.672 2168.43 205.209 Q2167.54 208.746 2167.54 210.502 Q2167.54 211.58 2167.78 212.54 Q2168.04 213.477 2168.76 214.25 Q2169.49 214.999 2170.61 214.999 Q2173.35 214.999 2176.05 211.603 Q2176.56 211.018 2176.68 210.783 Q2176.82 210.526 2177.01 209.823 L2179.4 200.431 Q2179.54 199.728 2179.54 199.611 Z\" fill=\"#000000\" fill-rule=\"evenodd\" fill-opacity=\"1\" /></svg>\n"
      ]
     },
     "execution_count": 143,
     "metadata": {},
     "output_type": "execute_result"
    }
   ],
   "source": [
    "density(p; label = \"MCMC\")\n",
    "b = Beta(W+1, L+1)\n",
    "plot!(x, pdf(b, x); label = L\"\\mathcal{Beta}\", style=:dash)"
   ]
  },
  {
   "cell_type": "code",
   "execution_count": null,
   "id": "4c87a7aa",
   "metadata": {},
   "outputs": [],
   "source": []
  }
 ],
 "metadata": {
  "kernelspec": {
   "display_name": "Julia 1.5.3",
   "language": "julia",
   "name": "julia-1.5"
  },
  "language_info": {
   "file_extension": ".jl",
   "mimetype": "application/julia",
   "name": "julia",
   "version": "1.5.3"
  }
 },
 "nbformat": 4,
 "nbformat_minor": 5
}
