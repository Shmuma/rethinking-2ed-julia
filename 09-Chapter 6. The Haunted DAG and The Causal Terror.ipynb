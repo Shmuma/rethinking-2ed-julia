{
 "cells": [
  {
   "cell_type": "code",
   "execution_count": 1,
   "id": "3bbceff9",
   "metadata": {},
   "outputs": [],
   "source": [
    "using StatsBase\n",
    "using Dagitty\n",
    "using Turing\n",
    "using StatsPlots\n",
    "using StatisticalRethinking\n",
    "using Logging\n",
    "\n",
    "default(labels=false)\n",
    "Logging.disable_logging(Logging.Warn);"
   ]
  },
  {
   "cell_type": "markdown",
   "id": "7f36ede2",
   "metadata": {},
   "source": [
    "Code 6.1"
   ]
  },
  {
   "cell_type": "code",
   "execution_count": 13,
   "id": "9efc7e1f",
   "metadata": {},
   "outputs": [
    {
     "data": {
      "text/plain": [
       "-0.785212889969301"
      ]
     },
     "execution_count": 13,
     "metadata": {},
     "output_type": "execute_result"
    }
   ],
   "source": [
    "Random.seed!(1917)\n",
    "N = 200   # grant proposals\n",
    "p = 0.1   # proportion to select\n",
    "\n",
    "# uncorrelated newsworthiness and trustworthiness\n",
    "nw = rand(Normal(), N)\n",
    "tw = rand(Normal(), N)\n",
    "\n",
    "# select top 10% of combined score\n",
    "s = nw .+ tw\n",
    "q = quantile(s, 1-p)\n",
    "selected = s .>= q\n",
    "cor(tw[selected], nw[selected])"
   ]
  },
  {
   "cell_type": "markdown",
   "id": "61eee516",
   "metadata": {},
   "source": [
    "# 6.1 Multicollinearity"
   ]
  },
  {
   "cell_type": "code",
   "execution_count": null,
   "id": "b65c5738",
   "metadata": {},
   "outputs": [],
   "source": []
  }
 ],
 "metadata": {
  "kernelspec": {
   "display_name": "Julia 1.6.2",
   "language": "julia",
   "name": "julia-1.6"
  },
  "language_info": {
   "file_extension": ".jl",
   "mimetype": "application/julia",
   "name": "julia",
   "version": "1.6.2"
  }
 },
 "nbformat": 4,
 "nbformat_minor": 5
}
