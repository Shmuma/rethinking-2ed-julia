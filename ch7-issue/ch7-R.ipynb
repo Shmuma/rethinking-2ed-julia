{
 "cells": [
  {
   "cell_type": "code",
   "execution_count": 3,
   "id": "94b30e8e",
   "metadata": {},
   "outputs": [],
   "source": [
    "library(rethinking)"
   ]
  },
  {
   "cell_type": "code",
   "execution_count": 4,
   "id": "5834359f",
   "metadata": {},
   "outputs": [],
   "source": [
    "sppnames <- c( \"afarensis\",\"africanus\",\"habilis\",\"boisei\",\n",
    "    \"rudolfensis\",\"ergaster\",\"sapiens\")\n",
    "brainvolcc <- c( 438 , 452 , 612, 521, 752, 871, 1350 )\n",
    "masskg <- c( 37.0 , 35.5 , 34.5 , 41.5 , 55.5 , 61.0 , 53.5 )\n",
    "d <- data.frame( species=sppnames , brain=brainvolcc , mass=masskg )"
   ]
  },
  {
   "cell_type": "code",
   "execution_count": 5,
   "id": "9c7c1546",
   "metadata": {},
   "outputs": [],
   "source": [
    "d$mass_std <- (d$mass - mean(d$mass))/sd(d$mass)\n",
    "d$brain_std <- d$brain / max(d$brain)"
   ]
  },
  {
   "cell_type": "code",
   "execution_count": 14,
   "id": "a7202215",
   "metadata": {},
   "outputs": [
    {
     "data": {
      "text/html": [
       "<table class=\"dataframe\">\n",
       "<caption>A precis: 3 × 4</caption>\n",
       "<thead>\n",
       "\t<tr><th></th><th scope=col>mean</th><th scope=col>sd</th><th scope=col>5.5%</th><th scope=col>94.5%</th></tr>\n",
       "\t<tr><th></th><th scope=col>&lt;dbl&gt;</th><th scope=col>&lt;dbl&gt;</th><th scope=col>&lt;dbl&gt;</th><th scope=col>&lt;dbl&gt;</th></tr>\n",
       "</thead>\n",
       "<tbody>\n",
       "\t<tr><th scope=row>a</th><td> 0.5285430</td><td>0.06842566</td><td> 0.4191856</td><td> 0.6379004</td></tr>\n",
       "\t<tr><th scope=row>b</th><td> 0.1671092</td><td>0.07407971</td><td> 0.0487155</td><td> 0.2855029</td></tr>\n",
       "\t<tr><th scope=row>log_sigma</th><td>-1.7067064</td><td>0.29378015</td><td>-2.1762238</td><td>-1.2371890</td></tr>\n",
       "</tbody>\n",
       "</table>\n"
      ],
      "text/latex": [
       "A precis: 3 × 4\n",
       "\\begin{tabular}{r|llll}\n",
       "  & mean & sd & 5.5\\% & 94.5\\%\\\\\n",
       "  & <dbl> & <dbl> & <dbl> & <dbl>\\\\\n",
       "\\hline\n",
       "\ta &  0.5285430 & 0.06842566 &  0.4191856 &  0.6379004\\\\\n",
       "\tb &  0.1671092 & 0.07407971 &  0.0487155 &  0.2855029\\\\\n",
       "\tlog\\_sigma & -1.7067064 & 0.29378015 & -2.1762238 & -1.2371890\\\\\n",
       "\\end{tabular}\n"
      ],
      "text/markdown": [
       "\n",
       "A precis: 3 × 4\n",
       "\n",
       "| <!--/--> | mean &lt;dbl&gt; | sd &lt;dbl&gt; | 5.5% &lt;dbl&gt; | 94.5% &lt;dbl&gt; |\n",
       "|---|---|---|---|---|\n",
       "| a |  0.5285430 | 0.06842566 |  0.4191856 |  0.6379004 |\n",
       "| b |  0.1671092 | 0.07407971 |  0.0487155 |  0.2855029 |\n",
       "| log_sigma | -1.7067064 | 0.29378015 | -2.1762238 | -1.2371890 |\n",
       "\n"
      ],
      "text/plain": [
       "          mean       sd         5.5%       94.5%     \n",
       "a          0.5285430 0.06842566  0.4191856  0.6379004\n",
       "b          0.1671092 0.07407971  0.0487155  0.2855029\n",
       "log_sigma -1.7067064 0.29378015 -2.1762238 -1.2371890"
      ]
     },
     "metadata": {},
     "output_type": "display_data"
    }
   ],
   "source": [
    "set.seed(5)\n",
    "m <- quap(\n",
    "    alist(\n",
    "        brain_std ~ dnorm( mu , exp(log_sigma)),\n",
    "        mu <- a + b*mass_std,\n",
    "        a ~ dnorm( 0.5 , 1 ),\n",
    "        b ~ dnorm( 0 , 10 ),\n",
    "        log_sigma ~ dnorm( 0 , 1)\n",
    "    ), data=d )\n",
    "precis(m)"
   ]
  },
  {
   "cell_type": "code",
   "execution_count": null,
   "id": "029c8aa3",
   "metadata": {},
   "outputs": [],
   "source": []
  }
 ],
 "metadata": {
  "kernelspec": {
   "display_name": "R",
   "language": "R",
   "name": "ir"
  },
  "language_info": {
   "codemirror_mode": "r",
   "file_extension": ".r",
   "mimetype": "text/x-r-source",
   "name": "R",
   "pygments_lexer": "r",
   "version": "3.6.3"
  }
 },
 "nbformat": 4,
 "nbformat_minor": 5
}
