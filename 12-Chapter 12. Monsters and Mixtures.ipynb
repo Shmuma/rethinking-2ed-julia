{
 "cells": [
  {
   "cell_type": "code",
   "execution_count": 1,
   "id": "77c224d8",
   "metadata": {},
   "outputs": [],
   "source": [
    "using Turing\n",
    "using DataFrames\n",
    "using CSV\n",
    "using Random\n",
    "using StatisticalRethinking\n",
    "using StatisticalRethinking: link\n",
    "using StatisticalRethinkingPlots\n",
    "using ParetoSmooth\n",
    "using StatsPlots\n",
    "using StatsBase\n",
    "using FreqTables\n",
    "using Logging\n",
    "\n",
    "default(label=false)\n",
    "Logging.disable_logging(Logging.Warn);"
   ]
  },
  {
   "cell_type": "markdown",
   "id": "7f8cc39d",
   "metadata": {},
   "source": [
    "# 12.1 Over-dispersed counts"
   ]
  },
  {
   "cell_type": "code",
   "execution_count": null,
   "id": "8699ca72",
   "metadata": {},
   "outputs": [],
   "source": []
  }
 ],
 "metadata": {
  "kernelspec": {
   "display_name": "Julia 1.6.4",
   "language": "julia",
   "name": "julia-1.6"
  },
  "language_info": {
   "file_extension": ".jl",
   "mimetype": "application/julia",
   "name": "julia",
   "version": "1.6.4"
  }
 },
 "nbformat": 4,
 "nbformat_minor": 5
}
