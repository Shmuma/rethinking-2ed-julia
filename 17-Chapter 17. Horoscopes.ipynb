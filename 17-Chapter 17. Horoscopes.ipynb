{
 "cells": [
  {
   "cell_type": "markdown",
   "id": "1d0ee6bb",
   "metadata": {},
   "source": [
    "No code in this chapter!"
   ]
  },
  {
   "cell_type": "code",
   "execution_count": null,
   "id": "a5ff8c72",
   "metadata": {},
   "outputs": [],
   "source": []
  }
 ],
 "metadata": {
  "kernelspec": {
   "display_name": "Julia 1.6.4",
   "language": "julia",
   "name": "julia-1.6"
  },
  "language_info": {
   "file_extension": ".jl",
   "mimetype": "application/julia",
   "name": "julia",
   "version": "1.6.4"
  }
 },
 "nbformat": 4,
 "nbformat_minor": 5
}
