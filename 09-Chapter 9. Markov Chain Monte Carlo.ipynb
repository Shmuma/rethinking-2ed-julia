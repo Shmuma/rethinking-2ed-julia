{
 "cells": [
  {
   "cell_type": "code",
   "execution_count": 2,
   "id": "43aab69d",
   "metadata": {},
   "outputs": [],
   "source": [
    "using CSV\n",
    "using Random\n",
    "using StatsBase\n",
    "using DataFrames\n",
    "using Turing\n",
    "using StatsPlots\n",
    "using StatsFuns\n",
    "using LaTeXStrings\n",
    "using StatisticalRethinking\n",
    "using StatisticalRethinking: link\n",
    "using StatisticalRethinkingPlots\n",
    "using ParetoSmooth\n",
    "using ParetoSmoothedImportanceSampling\n",
    "using Logging\n",
    "\n",
    "default(labels=false)\n",
    "Logging.disable_logging(Logging.Warn);"
   ]
  },
  {
   "cell_type": "markdown",
   "id": "0b2798a3",
   "metadata": {},
   "source": [
    "# 9.1 Good King Markov and his island kingdom"
   ]
  },
  {
   "cell_type": "code",
   "execution_count": null,
   "id": "b015c406",
   "metadata": {},
   "outputs": [],
   "source": []
  }
 ],
 "metadata": {
  "kernelspec": {
   "display_name": "Julia 1.6.2",
   "language": "julia",
   "name": "julia-1.6"
  },
  "language_info": {
   "file_extension": ".jl",
   "mimetype": "application/julia",
   "name": "julia",
   "version": "1.6.2"
  }
 },
 "nbformat": 4,
 "nbformat_minor": 5
}
