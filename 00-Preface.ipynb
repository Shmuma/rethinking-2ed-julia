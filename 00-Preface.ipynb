{
 "cells": [
  {
   "cell_type": "markdown",
   "id": "93b7bcd7",
   "metadata": {},
   "source": [
    "Code 0.1"
   ]
  },
  {
   "cell_type": "code",
   "execution_count": 2,
   "id": "b7b2dd04",
   "metadata": {},
   "outputs": [
    {
     "name": "stdout",
     "output_type": "stream",
     "text": [
      "All models are wrong, but some are useful!\n"
     ]
    }
   ],
   "source": [
    "println(\"All models are wrong, but some are useful!\")"
   ]
  },
  {
   "cell_type": "markdown",
   "id": "db7b85d4",
   "metadata": {},
   "source": [
    "Code 0.2"
   ]
  },
  {
   "cell_type": "code",
   "execution_count": 3,
   "id": "5d765b0f",
   "metadata": {},
   "outputs": [
    {
     "data": {
      "text/plain": [
       "200.0000000000001"
      ]
     },
     "execution_count": 3,
     "metadata": {},
     "output_type": "execute_result"
    }
   ],
   "source": [
    "x = range(1, 2, length=2)\n",
    "x = x .* 10 .|> log |> sum |> exp\n",
    "x "
   ]
  },
  {
   "cell_type": "markdown",
   "id": "239b58d0",
   "metadata": {},
   "source": [
    "Code 0.3"
   ]
  },
  {
   "cell_type": "code",
   "execution_count": 6,
   "id": "5f9a9f58",
   "metadata": {},
   "outputs": [
    {
     "data": {
      "text/plain": [
       "2-element Array{Float64,1}:\n",
       "  -Inf\n",
       " -921.0340371976182"
      ]
     },
     "execution_count": 6,
     "metadata": {},
     "output_type": "execute_result"
    }
   ],
   "source": [
    "[\n",
    "    log(0.01^200); \n",
    "    200 * log(0.01)\n",
    "]"
   ]
  },
  {
   "cell_type": "code",
   "execution_count": null,
   "id": "da761d66",
   "metadata": {},
   "outputs": [],
   "source": []
  }
 ],
 "metadata": {
  "kernelspec": {
   "display_name": "Julia 1.5.3",
   "language": "julia",
   "name": "julia-1.5"
  },
  "language_info": {
   "file_extension": ".jl",
   "mimetype": "application/julia",
   "name": "julia",
   "version": "1.5.3"
  }
 },
 "nbformat": 4,
 "nbformat_minor": 5
}
