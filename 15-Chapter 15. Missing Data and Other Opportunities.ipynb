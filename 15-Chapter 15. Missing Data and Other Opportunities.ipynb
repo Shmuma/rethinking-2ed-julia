{
 "cells": [
  {
   "cell_type": "code",
   "execution_count": 1,
   "id": "f62d3eb6",
   "metadata": {},
   "outputs": [],
   "source": [
    "using Turing\n",
    "using DataFrames\n",
    "using CSV\n",
    "using Random\n",
    "using Distributions\n",
    "using StatisticalRethinking\n",
    "using StatisticalRethinking: link\n",
    "using StatisticalRethinkingPlots\n",
    "using StatsPlots\n",
    "using StatsBase\n",
    "using Logging\n",
    "using LinearAlgebra\n",
    "\n",
    "default(label=false);\n",
    "Logging.disable_logging(Logging.Warn);"
   ]
  },
  {
   "cell_type": "markdown",
   "id": "bbbf6c3f",
   "metadata": {},
   "source": [
    "Code 15.1"
   ]
  },
  {
   "cell_type": "code",
   "execution_count": null,
   "id": "7af67d9f",
   "metadata": {},
   "outputs": [],
   "source": []
  },
  {
   "cell_type": "markdown",
   "id": "f91b499d",
   "metadata": {},
   "source": [
    "# 15.1 Measurement error"
   ]
  },
  {
   "cell_type": "code",
   "execution_count": null,
   "id": "19c99dcd",
   "metadata": {},
   "outputs": [],
   "source": []
  }
 ],
 "metadata": {
  "kernelspec": {
   "display_name": "Julia 1.6.4",
   "language": "julia",
   "name": "julia-1.6"
  },
  "language_info": {
   "file_extension": ".jl",
   "mimetype": "application/julia",
   "name": "julia",
   "version": "1.6.4"
  }
 },
 "nbformat": 4,
 "nbformat_minor": 5
}
